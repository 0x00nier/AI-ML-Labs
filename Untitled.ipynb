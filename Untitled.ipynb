{
 "cells": [
  {
   "cell_type": "code",
   "execution_count": 1,
   "metadata": {},
   "outputs": [],
   "source": [
    "!rm -r \"challenge-week-4/Graphviz 2.44.1/\""
   ]
  },
  {
   "cell_type": "code",
   "execution_count": 1,
   "metadata": {},
   "outputs": [
    {
     "name": "stderr",
     "output_type": "stream",
     "text": [
      "Cloning into 'challenge-week-4'...\n"
     ]
    }
   ],
   "source": [
    "!git clone https://github.com/DeepConnectAI/challenge-week-4.git"
   ]
  },
  {
   "cell_type": "code",
   "execution_count": 12,
   "metadata": {},
   "outputs": [
    {
     "name": "stdout",
     "output_type": "stream",
     "text": [
      "Reinitialized existing Git repository in C:/Users/RAGHAV VERMA/Documents/JupyterStuff/AI-ML-Labs/.git/\n"
     ]
    },
    {
     "name": "stderr",
     "output_type": "stream",
     "text": [
      "warning: LF will be replaced by CRLF in Untitled.ipynb.\n",
      "The file will have its original line endings in your working directory\n"
     ]
    },
    {
     "name": "stdout",
     "output_type": "stream",
     "text": [
      "[master f4fafe8] Fixing import\n",
      " 1 file changed, 27 insertions(+), 31 deletions(-)\n",
      "Branch 'master' set up to track remote branch 'master' from 'https://github.com/raghavverma651/AI-ML-Labs.git'.\n"
     ]
    },
    {
     "name": "stderr",
     "output_type": "stream",
     "text": [
      "To https://github.com/raghavverma651/AI-ML-Labs.git\n",
      "   4d693b4..f4fafe8  master -> master\n"
     ]
    }
   ],
   "source": [
    "!git init\n",
    "!git add .\n",
    "!git commit -m \"Fixing import\"\n",
    "!git push --set-upstream https://github.com/raghavverma651/AI-ML-Labs.git master --force"
   ]
  },
  {
   "cell_type": "code",
   "execution_count": null,
   "metadata": {},
   "outputs": [
    {
     "name": "stderr",
     "output_type": "stream",
     "text": [
      "fatal: could not lookup name for submodule 'challenge-week-4'\n"
     ]
    }
   ],
   "source": [
    "!git submodule deinit --force challenge-week-4/ \n",
    "!git rm -r challenge-week-4/ --force\n",
    "!rm -rf .git/modules/challenge-week-4/ --force\n",
    "!git submodule update\n",
    "!git rm --cached challenge-week-4/"
   ]
  },
  {
   "cell_type": "code",
   "execution_count": 4,
   "metadata": {},
   "outputs": [
    {
     "name": "stderr",
     "output_type": "stream",
     "text": [
      "Cloning into 'challenge-week-3'...\n"
     ]
    }
   ],
   "source": [
    "!git clone https://github.com/DeepConnectAI/challenge-week-3.git"
   ]
  },
  {
   "cell_type": "code",
   "execution_count": 2,
   "metadata": {},
   "outputs": [
    {
     "name": "stderr",
     "output_type": "stream",
     "text": [
      "fatal: could not lookup name for submodule 'challenge-week-4'\n"
     ]
    }
   ],
   "source": [
    "!git submodule deinit -f challenge-week-4/\n",
    "!rm -rf .git/modules/challenge-week-4/\n",
    "!git rm -f challenge-week-4/"
   ]
  },
  {
   "cell_type": "code",
   "execution_count": 3,
   "metadata": {},
   "outputs": [
    {
     "name": "stderr",
     "output_type": "stream",
     "text": [
      "fatal: no submodule mapping found in .gitmodules for path 'challenge-week-4'\n"
     ]
    }
   ],
   "source": [
    "!git submodule status"
   ]
  },
  {
   "cell_type": "code",
   "execution_count": 3,
   "metadata": {},
   "outputs": [
    {
     "name": "stdout",
     "output_type": "stream",
     "text": [
      "Reinitialized existing Git repository in C:/Users/RAGHAV VERMA/Documents/JupyterStuff/AI-ML-Labs/.git/\n"
     ]
    },
    {
     "name": "stderr",
     "output_type": "stream",
     "text": [
      "warning: LF will be replaced by CRLF in challenge-week-3/task_1_logistic_divorce.ipynb.\n",
      "The file will have its original line endings in your working directory\n"
     ]
    },
    {
     "name": "stdout",
     "output_type": "stream",
     "text": [
      "[master cdc692e] removed normalization (train:1 test:1)\n",
      " 1 file changed, 47 insertions(+), 261 deletions(-)\n"
     ]
    },
    {
     "name": "stderr",
     "output_type": "stream",
     "text": [
      "To https://github.com/raghavverma651/AI-ML-Labs.git\n",
      "   f4ff5ad..cdc692e  master -> master\n"
     ]
    }
   ],
   "source": [
    "!git init\n",
    "!git add \"challenge-week-3/task_1_logistic_divorce.ipynb\"\n",
    "!git commit -m \"removed normalization (train:1 test:1)\"\n",
    "!git push https://github.com/raghavverma651/AI-ML-Labs.git\n"
   ]
  },
  {
   "cell_type": "code",
   "execution_count": 2,
   "metadata": {},
   "outputs": [
    {
     "name": "stdout",
     "output_type": "stream",
     "text": [
      "* remote origin\n",
      "  Fetch URL: https://github.com/raghavverma651/AI-ML-Labs.git\n",
      "  Push  URL: https://github.com/raghavverma651/AI-ML-Labs.git\n",
      "  HEAD branch: master\n",
      "  Remote branch:\n",
      "    master tracked\n",
      "  Local branch configured for 'git pull':\n",
      "    master merges with remote master\n",
      "  Local ref configured for 'git push':\n",
      "    master pushes to master (up to date)\n"
     ]
    }
   ],
   "source": [
    "!git remote show origin"
   ]
  },
  {
   "cell_type": "code",
   "execution_count": 9,
   "metadata": {},
   "outputs": [
    {
     "name": "stdout",
     "output_type": "stream",
     "text": [
      "Reinitialized existing Git repository in C:/Users/RAGHAV VERMA/Documents/JupyterStuff/AI-ML-Labs/.git/\n",
      "rm '.ipynb_checkpoints/Untitled-checkpoint.ipynb'\n",
      "rm 'Untitled.ipynb'\n",
      "rm 'challenge-week-1/.ipynb_checkpoints/AI_ML_Lab1(1)-checkpoint.ipynb'\n",
      "rm 'challenge-week-1/AI_ML_Lab1(1).ipynb'\n",
      "rm 'challenge-week-2/task_1_simple.ipynb'\n",
      "rm 'challenge-week-2/task_2_multiple.ipynb'\n",
      "rm 'untitled.txt'\n",
      "[master 6eb7e68] remove files\n",
      " 7 files changed, 3989 deletions(-)\n",
      " delete mode 100644 .ipynb_checkpoints/Untitled-checkpoint.ipynb\n",
      " delete mode 100644 Untitled.ipynb\n",
      " delete mode 100644 challenge-week-1/.ipynb_checkpoints/AI_ML_Lab1(1)-checkpoint.ipynb\n",
      " delete mode 100644 challenge-week-1/AI_ML_Lab1(1).ipynb\n",
      " delete mode 100644 challenge-week-2/task_1_simple.ipynb\n",
      " delete mode 100644 challenge-week-2/task_2_multiple.ipynb\n",
      " delete mode 100644 untitled.txt\n"
     ]
    },
    {
     "name": "stderr",
     "output_type": "stream",
     "text": [
      "To https://github.com/raghavverma651/AI-ML-Labs.git\n",
      "   b4882fc..6eb7e68  master -> master\n"
     ]
    }
   ],
   "source": [
    "!git init\n",
    "!git rm -r -f .\n",
    "!git commit -m \"remove files\"\n",
    "!git push"
   ]
  },
  {
   "cell_type": "code",
   "execution_count": 5,
   "metadata": {},
   "outputs": [
    {
     "name": "stdout",
     "output_type": "stream",
     "text": [
      "Reinitialized existing Git repository in C:/Users/RAGHAV VERMA/Documents/JupyterStuff/AI-ML-Labs/.git/\n"
     ]
    },
    {
     "name": "stderr",
     "output_type": "stream",
     "text": [
      "warning: LF will be replaced by CRLF in Untitled.ipynb.\n",
      "The file will have its original line endings in your working directory\n",
      "warning: LF will be replaced by CRLF in challenge-week-1/.ipynb_checkpoints/AI_ML_Lab1(1)-checkpoint.ipynb.\n",
      "The file will have its original line endings in your working directory\n",
      "warning: LF will be replaced by CRLF in challenge-week-1/AI_ML_Lab1(1).ipynb.\n",
      "The file will have its original line endings in your working directory\n"
     ]
    },
    {
     "name": "stdout",
     "output_type": "stream",
     "text": [
      "[master b4882fc] added files again\n",
      " 5 files changed, 54 insertions(+), 2348 deletions(-)\n",
      " delete mode 100644 .ipynb_checkpoints/diabetes_cached-checkpoint.ipynb\n",
      " rename {.ipynb_checkpoints => challenge-week-1/.ipynb_checkpoints}/AI_ML_Lab1(1)-checkpoint.ipynb (100%)\n",
      " rename AI_ML_Lab1(1).ipynb => challenge-week-1/AI_ML_Lab1(1).ipynb (100%)\n",
      " delete mode 100644 diabetes_cached.ipynb\n"
     ]
    },
    {
     "name": "stderr",
     "output_type": "stream",
     "text": [
      "To https://github.com/raghavverma651/AI-ML-Labs.git\n",
      "   2022ca7..b4882fc  master -> master\n"
     ]
    }
   ],
   "source": [
    "!git init\n",
    "!git add .\n",
    "!git commit -m \"added files again 2\"\n",
    "!git push"
   ]
  },
  {
   "cell_type": "code",
   "execution_count": 22,
   "metadata": {},
   "outputs": [
    {
     "name": "stdout",
     "output_type": "stream",
     "text": [
      "0.23.2\n"
     ]
    }
   ],
   "source": [
    "import sklearn\n",
    "\n",
    "print(sklearn.__version__)\n",
    "\n",
    "assert float(sklearn.__version__[2:]) >= 21, 'sklearn version insufficient.'"
   ]
  },
  {
   "cell_type": "code",
   "execution_count": 7,
   "metadata": {},
   "outputs": [
    {
     "name": "stdout",
     "output_type": "stream",
     "text": [
      "Reinitialized existing Git repository in C:/Users/RAGHAV VERMA/Documents/JupyterStuff/AI-ML-Labs/.git/\n"
     ]
    },
    {
     "name": "stderr",
     "output_type": "stream",
     "text": [
      "fatal: Pathspec 'challenge-week-4/\"' is in submodule 'challenge-week-4'\n",
      "fatal: 'challenge-week-4/.git' not recognized as a git repository\n",
      "Everything up-to-date\n"
     ]
    }
   ],
   "source": [
    "!git init\n",
    "!git add \"challenge-week-4/\"\"\n",
    "!git commit -m \"adding week 4\"\n",
    "!git push"
   ]
  },
  {
   "cell_type": "code",
   "execution_count": 8,
   "metadata": {},
   "outputs": [
    {
     "name": "stderr",
     "output_type": "stream",
     "text": [
      "fatal: no submodule mapping found in .gitmodules for path 'challenge-week-4'\n"
     ]
    }
   ],
   "source": [
    "!git submodule status"
   ]
  },
  {
   "cell_type": "code",
   "execution_count": null,
   "metadata": {},
   "outputs": [],
   "source": [
    "git submodule deinit <path_to_submodule>\n",
    "git rm cha\n",
    "git commit -m \"Removed submodule \"\n",
    "rm -rf .git/modules/challenge-week-4/"
   ]
  }
 ],
 "metadata": {
  "kernelspec": {
   "display_name": "Python 3",
   "language": "python",
   "name": "python3"
  },
  "language_info": {
   "codemirror_mode": {
    "name": "ipython",
    "version": 3
   },
   "file_extension": ".py",
   "mimetype": "text/x-python",
   "name": "python",
   "nbconvert_exporter": "python",
   "pygments_lexer": "ipython3",
   "version": "3.6.5"
  }
 },
 "nbformat": 4,
 "nbformat_minor": 2
}
