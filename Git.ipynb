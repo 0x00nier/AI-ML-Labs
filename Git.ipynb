{
 "cells": [
  {
   "cell_type": "code",
   "execution_count": 1,
   "metadata": {},
   "outputs": [
    {
     "name": "stderr",
     "output_type": "stream",
     "text": [
      "Cloning into 'challenge-week-2'...\n"
     ]
    }
   ],
   "source": [
    "!git clone https://github.com/DeepConnectAI/challenge-week-2.git"
   ]
  },
  {
   "cell_type": "code",
   "execution_count": 6,
   "metadata": {},
   "outputs": [
    {
     "name": "stderr",
     "output_type": "stream",
     "text": [
      "warning: LF will be replaced by CRLF in challenge-week-2/task_1_simple.ipynb.\n",
      "The file will have its original line endings in your working directory\n"
     ]
    },
    {
     "name": "stdout",
     "output_type": "stream",
     "text": [
      "[master 819f287] Final edit 2\n",
      " 1 file changed, 33 insertions(+), 22 deletions(-)\n"
     ]
    },
    {
     "name": "stderr",
     "output_type": "stream",
     "text": [
      "To https://github.com/raghavverma651/AI-ML-Labs.git\n",
      "   00e7162..819f287  master -> master\n"
     ]
    }
   ],
   "source": [
    "!git add \"challenge-week-2/task_1_simple.ipynb\"\n",
    "!git commit -m \"Final edit 2\"\n",
    "!git push"
   ]
  },
  {
   "cell_type": "code",
   "execution_count": 1,
   "metadata": {},
   "outputs": [
    {
     "name": "stderr",
     "output_type": "stream",
     "text": [
      "warning: LF will be replaced by CRLF in challenge-week-2/task_2_multiple.ipynb.\n",
      "The file will have its original line endings in your working directory\n"
     ]
    },
    {
     "name": "stdout",
     "output_type": "stream",
     "text": [
      "[master 9c7f103] Final edit 4\n",
      " 1 file changed, 43 insertions(+), 423 deletions(-)\n"
     ]
    },
    {
     "name": "stderr",
     "output_type": "stream",
     "text": [
      "To https://github.com/raghavverma651/AI-ML-Labs.git\n",
      "   8c6d851..9c7f103  master -> master\n"
     ]
    }
   ],
   "source": [
    "!git add \"challenge-week-2/task_2_multiple.ipynb\"\n",
    "!git commit -m \"Final edit 4\"\n",
    "!git push"
   ]
  },
  {
   "cell_type": "code",
   "execution_count": 4,
   "metadata": {},
   "outputs": [
    {
     "name": "stderr",
     "output_type": "stream",
     "text": [
      "Cloning into 'challenge-week-3'...\n"
     ]
    }
   ],
   "source": [
    "!git clone https://github.com/DeepConnectAI/challenge-week-3.git"
   ]
  },
  {
   "cell_type": "code",
   "execution_count": 2,
   "metadata": {},
   "outputs": [
    {
     "name": "stdout",
     "output_type": "stream",
     "text": [
      "Already up to date.\n"
     ]
    }
   ],
   "source": [
    "!git pull"
   ]
  },
  {
   "cell_type": "code",
   "execution_count": 3,
   "metadata": {},
   "outputs": [
    {
     "name": "stdout",
     "output_type": "stream",
     "text": [
      "Requirement already satisfied: wget in c:\\users\\raghav verma\\anaconda3\\lib\\site-packages (3.2)\n"
     ]
    }
   ],
   "source": [
    "!pip install wget"
   ]
  },
  {
   "cell_type": "code",
   "execution_count": 4,
   "metadata": {},
   "outputs": [
    {
     "name": "stdout",
     "output_type": "stream",
     "text": [
      "Reinitialized existing Git repository in C:/Users/RAGHAV VERMA/Documents/JupyterStuff/AI-ML-Labs/.git/\n",
      "On branch master\n",
      "Your branch is ahead of 'origin/master' by 3 commits.\n",
      "  (use \"git push\" to publish your local commits)\n",
      "\n",
      "nothing to commit, working tree clean\n"
     ]
    },
    {
     "name": "stderr",
     "output_type": "stream",
     "text": [
      "Everything up-to-date\n"
     ]
    }
   ],
   "source": [
    "!git init\n",
    "!git add \"challenge-week-3/\"\n",
    "!git commit -m \"New edits 5\"\n",
    "!git push https://github.com/raghavverma651/AI-ML-Labs.git\n"
   ]
  },
  {
   "cell_type": "code",
   "execution_count": 19,
   "metadata": {},
   "outputs": [
    {
     "name": "stdout",
     "output_type": "stream",
     "text": [
      "* remote origin\n",
      "  Fetch URL: https://github.com/raghavverma651/AI-ML-Labs.git\n",
      "  Push  URL: https://github.com/raghavverma651/AI-ML-Labs.git\n",
      "  HEAD branch: master\n",
      "  Remote branch:\n",
      "    master tracked\n",
      "  Local branch configured for 'git pull':\n",
      "    master merges with remote master\n",
      "  Local ref configured for 'git push':\n",
      "    master pushes to master (up to date)\n"
     ]
    }
   ],
   "source": [
    "!git remote show origin"
   ]
  },
  {
   "cell_type": "code",
   "execution_count": 9,
   "metadata": {},
   "outputs": [
    {
     "name": "stdout",
     "output_type": "stream",
     "text": [
      "Reinitialized existing Git repository in C:/Users/RAGHAV VERMA/Documents/JupyterStuff/AI-ML-Labs/.git/\n",
      "rm '.ipynb_checkpoints/Untitled-checkpoint.ipynb'\n",
      "rm 'Untitled.ipynb'\n",
      "rm 'challenge-week-1/.ipynb_checkpoints/AI_ML_Lab1(1)-checkpoint.ipynb'\n",
      "rm 'challenge-week-1/AI_ML_Lab1(1).ipynb'\n",
      "rm 'challenge-week-2/task_1_simple.ipynb'\n",
      "rm 'challenge-week-2/task_2_multiple.ipynb'\n",
      "rm 'untitled.txt'\n",
      "[master 6eb7e68] remove files\n",
      " 7 files changed, 3989 deletions(-)\n",
      " delete mode 100644 .ipynb_checkpoints/Untitled-checkpoint.ipynb\n",
      " delete mode 100644 Untitled.ipynb\n",
      " delete mode 100644 challenge-week-1/.ipynb_checkpoints/AI_ML_Lab1(1)-checkpoint.ipynb\n",
      " delete mode 100644 challenge-week-1/AI_ML_Lab1(1).ipynb\n",
      " delete mode 100644 challenge-week-2/task_1_simple.ipynb\n",
      " delete mode 100644 challenge-week-2/task_2_multiple.ipynb\n",
      " delete mode 100644 untitled.txt\n"
     ]
    },
    {
     "name": "stderr",
     "output_type": "stream",
     "text": [
      "To https://github.com/raghavverma651/AI-ML-Labs.git\n",
      "   b4882fc..6eb7e68  master -> master\n"
     ]
    }
   ],
   "source": [
    "!git init\n",
    "!git rm -r -f .\n",
    "!git commit -m \"remove files\"\n",
    "!git push"
   ]
  },
  {
   "cell_type": "code",
   "execution_count": 16,
   "metadata": {},
   "outputs": [
    {
     "name": "stderr",
     "output_type": "stream",
     "text": [
      "fatal: pathspec '.git' did not match any files\n"
     ]
    },
    {
     "name": "stdout",
     "output_type": "stream",
     "text": [
      "Reinitialized existing Git repository in C:/Users/RAGHAV VERMA/Documents/JupyterStuff/AI-ML-Labs/.git/\n",
      "On branch master\n",
      "Your branch is up to date with 'origin/master'.\n",
      "\n",
      "Changes not staged for commit:\n",
      "  (use \"git add <file>...\" to update what will be committed)\n",
      "  (use \"git restore <file>...\" to discard changes in working directory)\n",
      "\tmodified:   Git.ipynb\n",
      "\n",
      "no changes added to commit (use \"git add\" and/or \"git commit -a\")\n"
     ]
    },
    {
     "name": "stderr",
     "output_type": "stream",
     "text": [
      "Everything up-to-date\n"
     ]
    }
   ],
   "source": [
    "!git rm -rf .git\n",
    "!git init\n",
    "!git add challenge-week-3/\n",
    "!git commit -m \"added files again 4\"\n",
    "!git push"
   ]
  },
  {
   "cell_type": "code",
   "execution_count": null,
   "metadata": {},
   "outputs": [
    {
     "name": "stderr",
     "output_type": "stream",
     "text": [
      "error: pathspec 'challenge-week-3/' did not match any file(s) known to git\n",
      "fatal: pathspec 'challenge-week-3/' did not match any files\n"
     ]
    },
    {
     "name": "stdout",
     "output_type": "stream",
     "text": [
      "On branch master\n",
      "Your branch is up to date with 'origin/master'.\n",
      "\n",
      "Changes not staged for commit:\n",
      "  (use \"git add <file>...\" to update what will be committed)\n",
      "  (use \"git restore <file>...\" to discard changes in working directory)\n",
      "\tmodified:   Git.ipynb\n",
      "\n",
      "Untracked files:\n",
      "  (use \"git add <file>...\" to include in what will be committed)\n",
      "\tchallenge-week-3/\n",
      "\n",
      "no changes added to commit (use \"git add\" and/or \"git commit -a\")\n"
     ]
    }
   ],
   "source": [
    "!git submodule deinit challenge-week-3/\n",
    "!git rm challenge-week-3/\n",
    "!git commit -m \"Removed submodule \"\n",
    "!git push"
   ]
  },
  {
   "cell_type": "code",
   "execution_count": null,
   "metadata": {},
   "outputs": [],
   "source": []
  }
 ],
 "metadata": {
  "kernelspec": {
   "display_name": "Python 3",
   "language": "python",
   "name": "python3"
  },
  "language_info": {
   "codemirror_mode": {
    "name": "ipython",
    "version": 3
   },
   "file_extension": ".py",
   "mimetype": "text/x-python",
   "name": "python",
   "nbconvert_exporter": "python",
   "pygments_lexer": "ipython3",
   "version": "3.6.5"
  }
 },
 "nbformat": 4,
 "nbformat_minor": 2
}
