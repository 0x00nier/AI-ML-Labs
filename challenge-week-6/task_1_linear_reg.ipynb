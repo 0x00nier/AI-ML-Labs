{
 "cells": [
  {
   "cell_type": "markdown",
   "metadata": {
    "colab_type": "text",
    "id": "3tWQnVjqfFwv"
   },
   "source": [
    "## Data Leakage, L1(Lasso) and L2 (Ridge) regularization using Linear Regression\n",
    "\n",
    "We will use cross validation, lasso and ridge regression in this lab.\n",
    "\n",
    "Specifically speaking, <br>\n",
    "Regularization basically adds the penalty as model complexity increases.<br>\n",
    "Cross validation is used to evaluate how well our model can generalize on the dataset. <br>\n",
    "\n",
    "We will be using r2 score in this lab. It provides an indication of goodness of fit and therefore a measure of how well unseen samples are likely to be predicted by the model.\n",
    "\n",
    "\n",
    "In this task, we will explore the following things on linear regression model:\n",
    "- Cross Validation\n",
    "- L1 regularization (Lasso regression)\n",
    "- L2 regularization (Ridge regression)\n",
    "\n",
    "\n",
    "#### Dataset\n",
    "The dataset is available at \"data/bike.csv\" in the respective challenge's repo.<br>\n",
    "\n",
    "The dataset is __modified version__ of the dataset 'bike.csv' provided by UCI Machine Learning repository.\n",
    "\n",
    "Original dataset: https://archive.ics.uci.edu/ml/datasets/bike+sharing+dataset\n",
    "\n",
    "#### Objective\n",
    "To learn about how cross validation, L1 regularization and L2 regularization work.\n",
    "\n",
    "#### Tasks\n",
    "- load the dataset.\n",
    "- perform pre-processing on the data.\n",
    "- remove registered feature and keep the casual feature to understand data leakage.\n",
    "- construct train and test dataset.\n",
    "- create a linear regression model.\n",
    "- check the r2 score of the initial linear regression model on train and test dataset\n",
    "- observe distribution of weights in the initial linear regression model. \n",
    "- split the dataset into k consecutive folds.\n",
    "- calculate cross validation score for the k fold and check how well our model can generalize on the training dataset.\n",
    "- checking the variance threshold of dataset and remove features with low variance.\n",
    "- apply L1 regularization on the dataset and check the r2_score.\n",
    "- visualize the distribution of weights on the lasso regression model.\n",
    "- apply L2 regularization on the dataset and check the r2_score.\n",
    "- visualize the distribution of weights on the ridge regression model. \n",
    "\n",
    "#### Further fun\n",
    "- apply RFE on the dataset to automatically remove uneccessary features which would prevent overfitting.\n",
    "- don't remove casual and registered features and check the effect of data leakage on the model\n",
    "- implement lasso and ridge regression without using inbuilt librarires.\n",
    "- apply elastic net to visualize the effect of both ridge and lasso regression.\n",
    "\n",
    "\n",
    "#### Helpful links\n",
    "- Cross validation : https://machinelearningmastery.com/k-fold-cross-validation/#:~:text=Cross%2Dvalidation%20is%20a%20resampling,k%2Dfold%20cross%2Dvalidation.\n",
    "- Cross validation: https://scikit-learn.org/stable/modules/cross_validation.html\n",
    "- L1 and L2 regularization : https://towardsdatascience.com/ridge-and-lasso-regression-a-complete-guide-with-python-scikit-learn-e20e34bcbf0b\n",
    "- L1 and L2 regularization : https://www.youtube.com/watch?v=9lRv01HDU0s&list=PLZoTAELRMXVPBTrWtJkn3wWQxZkmTXGwe&index=30&t=904s\n",
    "- r2_score: https://scikit-learn.org/stable/modules/generated/sklearn.metrics.r2_score.html#sklearn.metrics.r2_score\n",
    "- pd.get_dummies() and One Hot Encoding: https://queirozf.com/entries/one-hot-encoding-a-feature-on-a-pandas-dataframe-an-example\n",
    "- Data Leakage : \"https://machinelearningmastery.com/data-leakage-machine-learning/\n",
    "- sklearn k-fold : https://scikit-learn.org/stable/modules/generated/sklearn.model_selection.KFold.html\n",
    "- sklearn cross_val_score : https://scikit-learn.org/stable/modules/generated/sklearn.model_selection.cross_val_score.html?highlight=cross_val_score#sklearn.model_selection.cross_val_score\n",
    "- sklearn lasso regression : https://scikit-learn.org/stable/modules/generated/sklearn.linear_model.Lasso.html?highlight=lasso#sklearn.linear_model.Lasso\n",
    "- sklearn ridge regression : https://scikit-learn.org/stable/modules/generated/sklearn.linear_model.Ridge.html?highlight=ridge#sklearn.linear_model.Ridge\n",
    "- RFE : https://machinelearningmastery.com/rfe-feature-selection-in-python/\n",
    "- RFE sklearn : https://scikit-learn.org/stable/modules/generated/sklearn.feature_selection.RFE.html\n",
    "- Use slack for doubts: "
   ]
  },
  {
   "cell_type": "code",
   "execution_count": 26,
   "metadata": {
    "colab": {},
    "colab_type": "code",
    "id": "mRl7KPgwjRHI"
   },
   "outputs": [],
   "source": [
    "#import the necessary libraries\n",
    "import pandas as pd\n",
    "import numpy as np\n",
    "import matplotlib.pyplot as plt\n",
    "\n",
    "# Sklearn processing\n",
    "from sklearn.preprocessing import MinMaxScaler\n",
    "from sklearn.model_selection import train_test_split\n",
    "from sklearn.model_selection import KFold\n",
    "from sklearn.model_selection import cross_val_score\n",
    "\n",
    "# Sklearn linear regression model\n",
    "from sklearn.linear_model import LinearRegression\n",
    "\n",
    "# Sklearn regression model evaluation functions\n",
    "from sklearn.metrics import r2_score\n",
    "\n",
    "# Perform feature selection using a variance threshold\n",
    "from sklearn.feature_selection import VarianceThreshold\n",
    "\n",
    "# Feature selection using Recursive Feature Elimimation\n",
    "from sklearn.feature_selection import RFE"
   ]
  },
  {
   "cell_type": "code",
   "execution_count": 27,
   "metadata": {
    "colab": {},
    "colab_type": "code",
    "id": "Vq1jiQz-kIpA"
   },
   "outputs": [
    {
     "data": {
      "text/html": [
       "<div>\n",
       "<style scoped>\n",
       "    .dataframe tbody tr th:only-of-type {\n",
       "        vertical-align: middle;\n",
       "    }\n",
       "\n",
       "    .dataframe tbody tr th {\n",
       "        vertical-align: top;\n",
       "    }\n",
       "\n",
       "    .dataframe thead th {\n",
       "        text-align: right;\n",
       "    }\n",
       "</style>\n",
       "<table border=\"1\" class=\"dataframe\">\n",
       "  <thead>\n",
       "    <tr style=\"text-align: right;\">\n",
       "      <th></th>\n",
       "      <th>id</th>\n",
       "      <th>season</th>\n",
       "      <th>year</th>\n",
       "      <th>holiday</th>\n",
       "      <th>weekday</th>\n",
       "      <th>workingday</th>\n",
       "      <th>weather</th>\n",
       "      <th>temp</th>\n",
       "      <th>feel_temp</th>\n",
       "      <th>hum</th>\n",
       "      <th>windspeed</th>\n",
       "      <th>promotion_level</th>\n",
       "      <th>promotion_type</th>\n",
       "      <th>promotion_level_external</th>\n",
       "      <th>promotion_type_external</th>\n",
       "      <th>casual</th>\n",
       "      <th>registered</th>\n",
       "      <th>cnt</th>\n",
       "    </tr>\n",
       "  </thead>\n",
       "  <tbody>\n",
       "    <tr>\n",
       "      <th>0</th>\n",
       "      <td>12765</td>\n",
       "      <td>winter</td>\n",
       "      <td>2016</td>\n",
       "      <td>0</td>\n",
       "      <td>6</td>\n",
       "      <td>0</td>\n",
       "      <td>cloud</td>\n",
       "      <td>0.344167</td>\n",
       "      <td>0.363625</td>\n",
       "      <td>0.805833</td>\n",
       "      <td>0.160446</td>\n",
       "      <td>7</td>\n",
       "      <td>1</td>\n",
       "      <td>2</td>\n",
       "      <td>2</td>\n",
       "      <td>226</td>\n",
       "      <td>654</td>\n",
       "      <td>880</td>\n",
       "    </tr>\n",
       "    <tr>\n",
       "      <th>1</th>\n",
       "      <td>12766</td>\n",
       "      <td>winter</td>\n",
       "      <td>2016</td>\n",
       "      <td>0</td>\n",
       "      <td>0</td>\n",
       "      <td>0</td>\n",
       "      <td>cloud</td>\n",
       "      <td>0.363478</td>\n",
       "      <td>0.353739</td>\n",
       "      <td>0.696087</td>\n",
       "      <td>0.248539</td>\n",
       "      <td>8</td>\n",
       "      <td>1</td>\n",
       "      <td>8</td>\n",
       "      <td>1</td>\n",
       "      <td>125</td>\n",
       "      <td>670</td>\n",
       "      <td>795</td>\n",
       "    </tr>\n",
       "    <tr>\n",
       "      <th>2</th>\n",
       "      <td>12767</td>\n",
       "      <td>winter</td>\n",
       "      <td>2016</td>\n",
       "      <td>0</td>\n",
       "      <td>1</td>\n",
       "      <td>1</td>\n",
       "      <td>fair</td>\n",
       "      <td>0.196364</td>\n",
       "      <td>0.189405</td>\n",
       "      <td>0.437273</td>\n",
       "      <td>0.248309</td>\n",
       "      <td>3</td>\n",
       "      <td>1</td>\n",
       "      <td>10</td>\n",
       "      <td>2</td>\n",
       "      <td>75</td>\n",
       "      <td>1229</td>\n",
       "      <td>1304</td>\n",
       "    </tr>\n",
       "    <tr>\n",
       "      <th>3</th>\n",
       "      <td>12768</td>\n",
       "      <td>winter</td>\n",
       "      <td>2016</td>\n",
       "      <td>0</td>\n",
       "      <td>2</td>\n",
       "      <td>1</td>\n",
       "      <td>fair</td>\n",
       "      <td>0.200000</td>\n",
       "      <td>0.212122</td>\n",
       "      <td>0.590435</td>\n",
       "      <td>0.160296</td>\n",
       "      <td>0</td>\n",
       "      <td>1</td>\n",
       "      <td>8</td>\n",
       "      <td>3</td>\n",
       "      <td>67</td>\n",
       "      <td>1454</td>\n",
       "      <td>1521</td>\n",
       "    </tr>\n",
       "    <tr>\n",
       "      <th>4</th>\n",
       "      <td>12769</td>\n",
       "      <td>winter</td>\n",
       "      <td>2016</td>\n",
       "      <td>0</td>\n",
       "      <td>3</td>\n",
       "      <td>1</td>\n",
       "      <td>fair</td>\n",
       "      <td>0.226957</td>\n",
       "      <td>0.229270</td>\n",
       "      <td>0.436957</td>\n",
       "      <td>0.186900</td>\n",
       "      <td>2</td>\n",
       "      <td>0</td>\n",
       "      <td>5</td>\n",
       "      <td>1</td>\n",
       "      <td>58</td>\n",
       "      <td>1518</td>\n",
       "      <td>1576</td>\n",
       "    </tr>\n",
       "  </tbody>\n",
       "</table>\n",
       "</div>"
      ],
      "text/plain": [
       "      id  season  year  holiday  weekday  workingday weather      temp  \\\n",
       "0  12765  winter  2016        0        6           0   cloud  0.344167   \n",
       "1  12766  winter  2016        0        0           0   cloud  0.363478   \n",
       "2  12767  winter  2016        0        1           1    fair  0.196364   \n",
       "3  12768  winter  2016        0        2           1    fair  0.200000   \n",
       "4  12769  winter  2016        0        3           1    fair  0.226957   \n",
       "\n",
       "   feel_temp       hum  windspeed  promotion_level  promotion_type  \\\n",
       "0   0.363625  0.805833   0.160446                7               1   \n",
       "1   0.353739  0.696087   0.248539                8               1   \n",
       "2   0.189405  0.437273   0.248309                3               1   \n",
       "3   0.212122  0.590435   0.160296                0               1   \n",
       "4   0.229270  0.436957   0.186900                2               0   \n",
       "\n",
       "   promotion_level_external  promotion_type_external  casual  registered   cnt  \n",
       "0                         2                        2     226         654   880  \n",
       "1                         8                        1     125         670   795  \n",
       "2                        10                        2      75        1229  1304  \n",
       "3                         8                        3      67        1454  1521  \n",
       "4                         5                        1      58        1518  1576  "
      ]
     },
     "execution_count": 27,
     "metadata": {},
     "output_type": "execute_result"
    }
   ],
   "source": [
    "#load the data and inspect the first 5 rows\n",
    "data = pd.read_csv(\"data/bike.csv\")\n",
    "data.head()"
   ]
  },
  {
   "cell_type": "code",
   "execution_count": 28,
   "metadata": {
    "colab": {},
    "colab_type": "code",
    "id": "pw5T1NvekL65"
   },
   "outputs": [
    {
     "name": "stdout",
     "output_type": "stream",
     "text": [
      "<class 'pandas.core.frame.DataFrame'>\n",
      "RangeIndex: 365 entries, 0 to 364\n",
      "Data columns (total 18 columns):\n",
      " #   Column                    Non-Null Count  Dtype  \n",
      "---  ------                    --------------  -----  \n",
      " 0   id                        365 non-null    int64  \n",
      " 1   season                    365 non-null    object \n",
      " 2   year                      365 non-null    int64  \n",
      " 3   holiday                   365 non-null    int64  \n",
      " 4   weekday                   365 non-null    int64  \n",
      " 5   workingday                365 non-null    int64  \n",
      " 6   weather                   365 non-null    object \n",
      " 7   temp                      365 non-null    float64\n",
      " 8   feel_temp                 365 non-null    float64\n",
      " 9   hum                       365 non-null    float64\n",
      " 10  windspeed                 365 non-null    float64\n",
      " 11  promotion_level           365 non-null    int64  \n",
      " 12  promotion_type            365 non-null    int64  \n",
      " 13  promotion_level_external  365 non-null    int64  \n",
      " 14  promotion_type_external   365 non-null    int64  \n",
      " 15  casual                    365 non-null    int64  \n",
      " 16  registered                365 non-null    int64  \n",
      " 17  cnt                       365 non-null    int64  \n",
      "dtypes: float64(4), int64(12), object(2)\n",
      "memory usage: 51.5+ KB\n"
     ]
    }
   ],
   "source": [
    "# print the data types of each feature name\n",
    "data.info()"
   ]
  },
  {
   "cell_type": "code",
   "execution_count": 29,
   "metadata": {
    "colab": {},
    "colab_type": "code",
    "id": "RE0sjCi4kREL"
   },
   "outputs": [
    {
     "data": {
      "text/plain": [
       "id                          False\n",
       "season                      False\n",
       "year                        False\n",
       "holiday                     False\n",
       "weekday                     False\n",
       "workingday                  False\n",
       "weather                     False\n",
       "temp                        False\n",
       "feel_temp                   False\n",
       "hum                         False\n",
       "windspeed                   False\n",
       "promotion_level             False\n",
       "promotion_type              False\n",
       "promotion_level_external    False\n",
       "promotion_type_external     False\n",
       "casual                      False\n",
       "registered                  False\n",
       "cnt                         False\n",
       "dtype: bool"
      ]
     },
     "execution_count": 29,
     "metadata": {},
     "output_type": "execute_result"
    }
   ],
   "source": [
    "# check for null values in each column\n",
    "data.isnull().any()"
   ]
  },
  {
   "cell_type": "code",
   "execution_count": 30,
   "metadata": {
    "colab": {},
    "colab_type": "code",
    "id": "jWJz8TAgketK"
   },
   "outputs": [
    {
     "name": "stdout",
     "output_type": "stream",
     "text": [
      "['winter' 'spring' 'summer' 'autumn']\n",
      "[2016]\n",
      "['cloud' 'fair' 'rain']\n",
      "[1 0]\n"
     ]
    }
   ],
   "source": [
    "# print out the unique values of the features ['season', 'year', 'weather', 'promotion_type']\n",
    "for i in data[['season', 'year', 'weather', 'promotion_type']].columns:\n",
    "    print(data[i].unique())"
   ]
  },
  {
   "cell_type": "code",
   "execution_count": 31,
   "metadata": {
    "colab": {},
    "colab_type": "code",
    "id": "1nkDe68NkyZ2"
   },
   "outputs": [
    {
     "name": "stdout",
     "output_type": "stream",
     "text": [
      "spring    92\n",
      "summer    92\n",
      "autumn    91\n",
      "winter    90\n",
      "Name: season, dtype: int64\n",
      "\n",
      "2016    365\n",
      "Name: year, dtype: int64\n",
      "\n",
      "fair     226\n",
      "cloud    124\n",
      "rain      15\n",
      "Name: weather, dtype: int64\n",
      "\n",
      "1    183\n",
      "0    182\n",
      "Name: promotion_type, dtype: int64\n",
      "\n"
     ]
    }
   ],
   "source": [
    "# print out the value counts (frequency of occurence) of the unique values in these features ['season', 'year', 'weather', 'promotion_type']\n",
    "for i in data[['season', 'year', 'weather', 'promotion_type']].columns:\n",
    "    print(data[i].value_counts())\n",
    "    print()"
   ]
  },
  {
   "cell_type": "code",
   "execution_count": 32,
   "metadata": {
    "colab": {},
    "colab_type": "code",
    "id": "yIsIIQWFmJRK"
   },
   "outputs": [
    {
     "data": {
      "text/plain": [
       "(365, 18)"
      ]
     },
     "execution_count": 32,
     "metadata": {},
     "output_type": "execute_result"
    }
   ],
   "source": [
    "# print the shape of data\n",
    "data.shape"
   ]
  },
  {
   "cell_type": "code",
   "execution_count": 33,
   "metadata": {
    "colab": {},
    "colab_type": "code",
    "id": "1xXsOHMilNTz"
   },
   "outputs": [],
   "source": [
    "# drop the feature 'id' as it has no information to deliver.\n",
    "\n",
    "data = data.drop('id', axis = 1)"
   ]
  },
  {
   "cell_type": "code",
   "execution_count": 34,
   "metadata": {
    "colab": {},
    "colab_type": "code",
    "id": "i4BXZ-_qmNYh"
   },
   "outputs": [
    {
     "data": {
      "text/plain": [
       "(365, 17)"
      ]
     },
     "execution_count": 34,
     "metadata": {},
     "output_type": "execute_result"
    }
   ],
   "source": [
    "# print the shape of data\n",
    "data.shape"
   ]
  },
  {
   "cell_type": "code",
   "execution_count": 35,
   "metadata": {
    "colab": {},
    "colab_type": "code",
    "id": "1G-eQ8ULmO3J"
   },
   "outputs": [
    {
     "data": {
      "text/html": [
       "<div>\n",
       "<style scoped>\n",
       "    .dataframe tbody tr th:only-of-type {\n",
       "        vertical-align: middle;\n",
       "    }\n",
       "\n",
       "    .dataframe tbody tr th {\n",
       "        vertical-align: top;\n",
       "    }\n",
       "\n",
       "    .dataframe thead th {\n",
       "        text-align: right;\n",
       "    }\n",
       "</style>\n",
       "<table border=\"1\" class=\"dataframe\">\n",
       "  <thead>\n",
       "    <tr style=\"text-align: right;\">\n",
       "      <th></th>\n",
       "      <th>year</th>\n",
       "      <th>holiday</th>\n",
       "      <th>weekday</th>\n",
       "      <th>workingday</th>\n",
       "      <th>temp</th>\n",
       "      <th>feel_temp</th>\n",
       "      <th>hum</th>\n",
       "      <th>windspeed</th>\n",
       "      <th>promotion_level</th>\n",
       "      <th>promotion_type</th>\n",
       "      <th>...</th>\n",
       "      <th>casual</th>\n",
       "      <th>registered</th>\n",
       "      <th>cnt</th>\n",
       "      <th>season_autumn</th>\n",
       "      <th>season_spring</th>\n",
       "      <th>season_summer</th>\n",
       "      <th>season_winter</th>\n",
       "      <th>weather_cloud</th>\n",
       "      <th>weather_fair</th>\n",
       "      <th>weather_rain</th>\n",
       "    </tr>\n",
       "  </thead>\n",
       "  <tbody>\n",
       "    <tr>\n",
       "      <th>0</th>\n",
       "      <td>2016</td>\n",
       "      <td>0</td>\n",
       "      <td>6</td>\n",
       "      <td>0</td>\n",
       "      <td>0.344167</td>\n",
       "      <td>0.363625</td>\n",
       "      <td>0.805833</td>\n",
       "      <td>0.160446</td>\n",
       "      <td>7</td>\n",
       "      <td>1</td>\n",
       "      <td>...</td>\n",
       "      <td>226</td>\n",
       "      <td>654</td>\n",
       "      <td>880</td>\n",
       "      <td>0</td>\n",
       "      <td>0</td>\n",
       "      <td>0</td>\n",
       "      <td>1</td>\n",
       "      <td>1</td>\n",
       "      <td>0</td>\n",
       "      <td>0</td>\n",
       "    </tr>\n",
       "    <tr>\n",
       "      <th>1</th>\n",
       "      <td>2016</td>\n",
       "      <td>0</td>\n",
       "      <td>0</td>\n",
       "      <td>0</td>\n",
       "      <td>0.363478</td>\n",
       "      <td>0.353739</td>\n",
       "      <td>0.696087</td>\n",
       "      <td>0.248539</td>\n",
       "      <td>8</td>\n",
       "      <td>1</td>\n",
       "      <td>...</td>\n",
       "      <td>125</td>\n",
       "      <td>670</td>\n",
       "      <td>795</td>\n",
       "      <td>0</td>\n",
       "      <td>0</td>\n",
       "      <td>0</td>\n",
       "      <td>1</td>\n",
       "      <td>1</td>\n",
       "      <td>0</td>\n",
       "      <td>0</td>\n",
       "    </tr>\n",
       "    <tr>\n",
       "      <th>2</th>\n",
       "      <td>2016</td>\n",
       "      <td>0</td>\n",
       "      <td>1</td>\n",
       "      <td>1</td>\n",
       "      <td>0.196364</td>\n",
       "      <td>0.189405</td>\n",
       "      <td>0.437273</td>\n",
       "      <td>0.248309</td>\n",
       "      <td>3</td>\n",
       "      <td>1</td>\n",
       "      <td>...</td>\n",
       "      <td>75</td>\n",
       "      <td>1229</td>\n",
       "      <td>1304</td>\n",
       "      <td>0</td>\n",
       "      <td>0</td>\n",
       "      <td>0</td>\n",
       "      <td>1</td>\n",
       "      <td>0</td>\n",
       "      <td>1</td>\n",
       "      <td>0</td>\n",
       "    </tr>\n",
       "    <tr>\n",
       "      <th>3</th>\n",
       "      <td>2016</td>\n",
       "      <td>0</td>\n",
       "      <td>2</td>\n",
       "      <td>1</td>\n",
       "      <td>0.200000</td>\n",
       "      <td>0.212122</td>\n",
       "      <td>0.590435</td>\n",
       "      <td>0.160296</td>\n",
       "      <td>0</td>\n",
       "      <td>1</td>\n",
       "      <td>...</td>\n",
       "      <td>67</td>\n",
       "      <td>1454</td>\n",
       "      <td>1521</td>\n",
       "      <td>0</td>\n",
       "      <td>0</td>\n",
       "      <td>0</td>\n",
       "      <td>1</td>\n",
       "      <td>0</td>\n",
       "      <td>1</td>\n",
       "      <td>0</td>\n",
       "    </tr>\n",
       "    <tr>\n",
       "      <th>4</th>\n",
       "      <td>2016</td>\n",
       "      <td>0</td>\n",
       "      <td>3</td>\n",
       "      <td>1</td>\n",
       "      <td>0.226957</td>\n",
       "      <td>0.229270</td>\n",
       "      <td>0.436957</td>\n",
       "      <td>0.186900</td>\n",
       "      <td>2</td>\n",
       "      <td>0</td>\n",
       "      <td>...</td>\n",
       "      <td>58</td>\n",
       "      <td>1518</td>\n",
       "      <td>1576</td>\n",
       "      <td>0</td>\n",
       "      <td>0</td>\n",
       "      <td>0</td>\n",
       "      <td>1</td>\n",
       "      <td>0</td>\n",
       "      <td>1</td>\n",
       "      <td>0</td>\n",
       "    </tr>\n",
       "  </tbody>\n",
       "</table>\n",
       "<p>5 rows × 22 columns</p>\n",
       "</div>"
      ],
      "text/plain": [
       "   year  holiday  weekday  workingday      temp  feel_temp       hum  \\\n",
       "0  2016        0        6           0  0.344167   0.363625  0.805833   \n",
       "1  2016        0        0           0  0.363478   0.353739  0.696087   \n",
       "2  2016        0        1           1  0.196364   0.189405  0.437273   \n",
       "3  2016        0        2           1  0.200000   0.212122  0.590435   \n",
       "4  2016        0        3           1  0.226957   0.229270  0.436957   \n",
       "\n",
       "   windspeed  promotion_level  promotion_type  ...  casual  registered   cnt  \\\n",
       "0   0.160446                7               1  ...     226         654   880   \n",
       "1   0.248539                8               1  ...     125         670   795   \n",
       "2   0.248309                3               1  ...      75        1229  1304   \n",
       "3   0.160296                0               1  ...      67        1454  1521   \n",
       "4   0.186900                2               0  ...      58        1518  1576   \n",
       "\n",
       "   season_autumn  season_spring  season_summer  season_winter  weather_cloud  \\\n",
       "0              0              0              0              1              1   \n",
       "1              0              0              0              1              1   \n",
       "2              0              0              0              1              0   \n",
       "3              0              0              0              1              0   \n",
       "4              0              0              0              1              0   \n",
       "\n",
       "   weather_fair  weather_rain  \n",
       "0             0             0  \n",
       "1             0             0  \n",
       "2             1             0  \n",
       "3             1             0  \n",
       "4             1             0  \n",
       "\n",
       "[5 rows x 22 columns]"
      ]
     },
     "execution_count": 35,
     "metadata": {},
     "output_type": "execute_result"
    }
   ],
   "source": [
    "# one hot encode the categorical columns.\n",
    "cols=data.select_dtypes(exclude=np.number).columns\n",
    "dummies=pd.get_dummies(data.select_dtypes(exclude=np.number))\n",
    "data=pd.concat([data,dummies],axis=1)\n",
    "data.drop(columns=cols,inplace=True)\n",
    "data.head()"
   ]
  },
  {
   "cell_type": "code",
   "execution_count": 39,
   "metadata": {
    "colab": {},
    "colab_type": "code",
    "id": "qcf6heimmZaQ"
   },
   "outputs": [
    {
     "data": {
      "text/plain": [
       "(365, 22)"
      ]
     },
     "execution_count": 39,
     "metadata": {},
     "output_type": "execute_result"
    }
   ],
   "source": [
    "# print the shape of data \n",
    "# notice the increase in the no. of features\n",
    "data.shape"
   ]
  },
  {
   "cell_type": "markdown",
   "metadata": {
    "colab_type": "text",
    "id": "vLOkfanFfWDK"
   },
   "source": [
    "Notice that our target feature \"cnt\" is the sum of the features \"registered\" + \"casual\"<br>\n",
    "\n",
    "To avoid data leakage remove the feature \"casual\" for the training purpose. <br>\n",
    "\n",
    "To understand more about data leakage refer the article mentioned in the uselful links."
   ]
  },
  {
   "cell_type": "code",
   "execution_count": 41,
   "metadata": {
    "colab": {},
    "colab_type": "code",
    "id": "vZ2HK7RGmO63"
   },
   "outputs": [],
   "source": [
    "# Split the dataset into X and y\n",
    "# While loading data into X drop the columns \"cnt\" and \"casual\". \n",
    "X = data.drop(columns=['cnt','casual'])\n",
    "\n",
    "# notice the target variable is 'cnt'\n",
    "y = data['cnt']"
   ]
  },
  {
   "cell_type": "code",
   "execution_count": 42,
   "metadata": {
    "colab": {},
    "colab_type": "code",
    "id": "y1kT6PpR4F1s"
   },
   "outputs": [
    {
     "name": "stdout",
     "output_type": "stream",
     "text": [
      "['year', 'holiday', 'weekday', 'workingday', 'temp', 'feel_temp', 'hum', 'windspeed', 'promotion_level', 'promotion_type', 'promotion_level_external', 'promotion_type_external', 'registered', 'season_autumn', 'season_spring', 'season_summer', 'season_winter', 'weather_cloud', 'weather_fair', 'weather_rain']\n"
     ]
    }
   ],
   "source": [
    "# store the names of the training features / name of the columns used for training. [Very important step for visualization later.]\n",
    "\n",
    "train_columns = list(X.columns)\n",
    "print(train_columns)"
   ]
  },
  {
   "cell_type": "code",
   "execution_count": 45,
   "metadata": {
    "colab": {},
    "colab_type": "code",
    "id": "6blYZrz7mPBG"
   },
   "outputs": [
    {
     "data": {
      "text/plain": [
       "array([[0.        , 0.        , 1.        , ..., 1.        , 0.        ,\n",
       "        0.        ],\n",
       "       [0.        , 0.        , 0.        , ..., 1.        , 0.        ,\n",
       "        0.        ],\n",
       "       [0.        , 0.        , 0.16666667, ..., 0.        , 1.        ,\n",
       "        0.        ],\n",
       "       ...,\n",
       "       [0.        , 0.        , 0.66666667, ..., 0.        , 1.        ,\n",
       "        0.        ],\n",
       "       [0.        , 0.        , 0.83333333, ..., 0.        , 1.        ,\n",
       "        0.        ],\n",
       "       [0.        , 0.        , 1.        , ..., 0.        , 1.        ,\n",
       "        0.        ]])"
      ]
     },
     "execution_count": 45,
     "metadata": {},
     "output_type": "execute_result"
    }
   ],
   "source": [
    "# Apply scaling if our data is spread across wide differences of range values.\n",
    "scaler=MinMaxScaler()\n",
    "X=scaler.fit_transform(X)"
   ]
  },
  {
   "cell_type": "code",
   "execution_count": 47,
   "metadata": {
    "colab": {},
    "colab_type": "code",
    "id": "Feyrb90p3qf8"
   },
   "outputs": [
    {
     "data": {
      "text/plain": [
       "numpy.ndarray"
      ]
     },
     "execution_count": 47,
     "metadata": {},
     "output_type": "execute_result"
    }
   ],
   "source": [
    "# print the type of X\n",
    "type(X)"
   ]
  },
  {
   "cell_type": "markdown",
   "metadata": {
    "colab_type": "text",
    "id": "Jtau8HV73t7Y"
   },
   "source": [
    "Note : <br>\n",
    "Type of X should be pandas dataframe.\n",
    "If not then convert X into pandas DataFrame object before proceeding further.\n"
   ]
  },
  {
   "cell_type": "code",
   "execution_count": 49,
   "metadata": {
    "colab": {},
    "colab_type": "code",
    "id": "V5II0AWy4AHK"
   },
   "outputs": [
    {
     "data": {
      "text/html": [
       "<div>\n",
       "<style scoped>\n",
       "    .dataframe tbody tr th:only-of-type {\n",
       "        vertical-align: middle;\n",
       "    }\n",
       "\n",
       "    .dataframe tbody tr th {\n",
       "        vertical-align: top;\n",
       "    }\n",
       "\n",
       "    .dataframe thead th {\n",
       "        text-align: right;\n",
       "    }\n",
       "</style>\n",
       "<table border=\"1\" class=\"dataframe\">\n",
       "  <thead>\n",
       "    <tr style=\"text-align: right;\">\n",
       "      <th></th>\n",
       "      <th>year</th>\n",
       "      <th>holiday</th>\n",
       "      <th>weekday</th>\n",
       "      <th>workingday</th>\n",
       "      <th>temp</th>\n",
       "      <th>feel_temp</th>\n",
       "      <th>hum</th>\n",
       "      <th>windspeed</th>\n",
       "      <th>promotion_level</th>\n",
       "      <th>promotion_type</th>\n",
       "      <th>promotion_level_external</th>\n",
       "      <th>promotion_type_external</th>\n",
       "      <th>registered</th>\n",
       "      <th>season_autumn</th>\n",
       "      <th>season_spring</th>\n",
       "      <th>season_summer</th>\n",
       "      <th>season_winter</th>\n",
       "      <th>weather_cloud</th>\n",
       "      <th>weather_fair</th>\n",
       "      <th>weather_rain</th>\n",
       "    </tr>\n",
       "  </thead>\n",
       "  <tbody>\n",
       "    <tr>\n",
       "      <th>0</th>\n",
       "      <td>0.0</td>\n",
       "      <td>0.0</td>\n",
       "      <td>1.000000</td>\n",
       "      <td>0.0</td>\n",
       "      <td>0.360789</td>\n",
       "      <td>0.373517</td>\n",
       "      <td>0.828620</td>\n",
       "      <td>0.284606</td>\n",
       "      <td>0.777778</td>\n",
       "      <td>1.0</td>\n",
       "      <td>0.111111</td>\n",
       "      <td>0.666667</td>\n",
       "      <td>0.056694</td>\n",
       "      <td>0.0</td>\n",
       "      <td>0.0</td>\n",
       "      <td>0.0</td>\n",
       "      <td>1.0</td>\n",
       "      <td>1.0</td>\n",
       "      <td>0.0</td>\n",
       "      <td>0.0</td>\n",
       "    </tr>\n",
       "    <tr>\n",
       "      <th>1</th>\n",
       "      <td>0.0</td>\n",
       "      <td>0.0</td>\n",
       "      <td>0.000000</td>\n",
       "      <td>0.0</td>\n",
       "      <td>0.385232</td>\n",
       "      <td>0.360541</td>\n",
       "      <td>0.715771</td>\n",
       "      <td>0.466215</td>\n",
       "      <td>0.888889</td>\n",
       "      <td>1.0</td>\n",
       "      <td>0.777778</td>\n",
       "      <td>0.333333</td>\n",
       "      <td>0.060505</td>\n",
       "      <td>0.0</td>\n",
       "      <td>0.0</td>\n",
       "      <td>0.0</td>\n",
       "      <td>1.0</td>\n",
       "      <td>1.0</td>\n",
       "      <td>0.0</td>\n",
       "      <td>0.0</td>\n",
       "    </tr>\n",
       "    <tr>\n",
       "      <th>2</th>\n",
       "      <td>0.0</td>\n",
       "      <td>0.0</td>\n",
       "      <td>0.166667</td>\n",
       "      <td>1.0</td>\n",
       "      <td>0.173705</td>\n",
       "      <td>0.144830</td>\n",
       "      <td>0.449638</td>\n",
       "      <td>0.465740</td>\n",
       "      <td>0.333333</td>\n",
       "      <td>1.0</td>\n",
       "      <td>1.000000</td>\n",
       "      <td>0.666667</td>\n",
       "      <td>0.193664</td>\n",
       "      <td>0.0</td>\n",
       "      <td>0.0</td>\n",
       "      <td>0.0</td>\n",
       "      <td>1.0</td>\n",
       "      <td>0.0</td>\n",
       "      <td>1.0</td>\n",
       "      <td>0.0</td>\n",
       "    </tr>\n",
       "    <tr>\n",
       "      <th>3</th>\n",
       "      <td>0.0</td>\n",
       "      <td>0.0</td>\n",
       "      <td>0.333333</td>\n",
       "      <td>1.0</td>\n",
       "      <td>0.178308</td>\n",
       "      <td>0.174649</td>\n",
       "      <td>0.607131</td>\n",
       "      <td>0.284297</td>\n",
       "      <td>0.000000</td>\n",
       "      <td>1.0</td>\n",
       "      <td>0.777778</td>\n",
       "      <td>1.000000</td>\n",
       "      <td>0.247261</td>\n",
       "      <td>0.0</td>\n",
       "      <td>0.0</td>\n",
       "      <td>0.0</td>\n",
       "      <td>1.0</td>\n",
       "      <td>0.0</td>\n",
       "      <td>1.0</td>\n",
       "      <td>0.0</td>\n",
       "    </tr>\n",
       "    <tr>\n",
       "      <th>4</th>\n",
       "      <td>0.0</td>\n",
       "      <td>0.0</td>\n",
       "      <td>0.500000</td>\n",
       "      <td>1.0</td>\n",
       "      <td>0.212429</td>\n",
       "      <td>0.197158</td>\n",
       "      <td>0.449313</td>\n",
       "      <td>0.339143</td>\n",
       "      <td>0.222222</td>\n",
       "      <td>0.0</td>\n",
       "      <td>0.444444</td>\n",
       "      <td>0.333333</td>\n",
       "      <td>0.262506</td>\n",
       "      <td>0.0</td>\n",
       "      <td>0.0</td>\n",
       "      <td>0.0</td>\n",
       "      <td>1.0</td>\n",
       "      <td>0.0</td>\n",
       "      <td>1.0</td>\n",
       "      <td>0.0</td>\n",
       "    </tr>\n",
       "  </tbody>\n",
       "</table>\n",
       "</div>"
      ],
      "text/plain": [
       "   year  holiday   weekday  workingday      temp  feel_temp       hum  \\\n",
       "0   0.0      0.0  1.000000         0.0  0.360789   0.373517  0.828620   \n",
       "1   0.0      0.0  0.000000         0.0  0.385232   0.360541  0.715771   \n",
       "2   0.0      0.0  0.166667         1.0  0.173705   0.144830  0.449638   \n",
       "3   0.0      0.0  0.333333         1.0  0.178308   0.174649  0.607131   \n",
       "4   0.0      0.0  0.500000         1.0  0.212429   0.197158  0.449313   \n",
       "\n",
       "   windspeed  promotion_level  promotion_type  promotion_level_external  \\\n",
       "0   0.284606         0.777778             1.0                  0.111111   \n",
       "1   0.466215         0.888889             1.0                  0.777778   \n",
       "2   0.465740         0.333333             1.0                  1.000000   \n",
       "3   0.284297         0.000000             1.0                  0.777778   \n",
       "4   0.339143         0.222222             0.0                  0.444444   \n",
       "\n",
       "   promotion_type_external  registered  season_autumn  season_spring  \\\n",
       "0                 0.666667    0.056694            0.0            0.0   \n",
       "1                 0.333333    0.060505            0.0            0.0   \n",
       "2                 0.666667    0.193664            0.0            0.0   \n",
       "3                 1.000000    0.247261            0.0            0.0   \n",
       "4                 0.333333    0.262506            0.0            0.0   \n",
       "\n",
       "   season_summer  season_winter  weather_cloud  weather_fair  weather_rain  \n",
       "0            0.0            1.0            1.0           0.0           0.0  \n",
       "1            0.0            1.0            1.0           0.0           0.0  \n",
       "2            0.0            1.0            0.0           1.0           0.0  \n",
       "3            0.0            1.0            0.0           1.0           0.0  \n",
       "4            0.0            1.0            0.0           1.0           0.0  "
      ]
     },
     "execution_count": 49,
     "metadata": {},
     "output_type": "execute_result"
    }
   ],
   "source": [
    "# convert X into pandas Dataframe\n",
    "# in the parameters specify columns = train_columns.\n",
    "\n",
    "X = pd.DataFrame(X, columns = train_columns)\n",
    "X.head()"
   ]
  },
  {
   "cell_type": "code",
   "execution_count": 53,
   "metadata": {
    "colab": {},
    "colab_type": "code",
    "id": "Ad4MfGe1mPDk"
   },
   "outputs": [],
   "source": [
    "# split the dataset into X_train, X_test, y_train, y_test\n",
    "# play around with test sizes.\n",
    "X_train, X_test, y_train, y_test = train_test_split(X,y,test_size=0.2)"
   ]
  },
  {
   "cell_type": "code",
   "execution_count": 54,
   "metadata": {
    "colab": {},
    "colab_type": "code",
    "id": "6czlxW2tnQqP"
   },
   "outputs": [
    {
     "name": "stdout",
     "output_type": "stream",
     "text": [
      "(292, 20)\n",
      "(73, 20)\n",
      "(292,)\n",
      "(73,)\n"
     ]
    }
   ],
   "source": [
    "# print the shapes\n",
    "print(X_train.shape)\n",
    "print(X_test.shape)\n",
    "print(y_train.shape)\n",
    "print(y_test.shape)"
   ]
  },
  {
   "cell_type": "code",
   "execution_count": 55,
   "metadata": {
    "colab": {},
    "colab_type": "code",
    "id": "w-lp9O74nUm7"
   },
   "outputs": [
    {
     "data": {
      "text/plain": [
       "LinearRegression()"
      ]
     },
     "execution_count": 55,
     "metadata": {},
     "output_type": "execute_result"
    }
   ],
   "source": [
    "# build the Linear Regression model.\n",
    "\n",
    "model = LinearRegression()\n",
    "\n",
    "# fit the model on the training data\n",
    "model.fit(X_train, y_train)"
   ]
  },
  {
   "cell_type": "code",
   "execution_count": 56,
   "metadata": {
    "colab": {},
    "colab_type": "code",
    "id": "Ga_f-66JoVri"
   },
   "outputs": [
    {
     "name": "stdout",
     "output_type": "stream",
     "text": [
      "On Training set :  0.9888424114897856\n"
     ]
    }
   ],
   "source": [
    "# print the score on training set\n",
    "y_pred_train = model.predict(X_train)\n",
    "print(\"On Training set : \", r2_score(y_train, y_pred_train))"
   ]
  },
  {
   "cell_type": "code",
   "execution_count": 58,
   "metadata": {
    "colab": {},
    "colab_type": "code",
    "id": "IKmlrtpDoilu"
   },
   "outputs": [
    {
     "name": "stdout",
     "output_type": "stream",
     "text": [
      "On testing set :  0.9785563662286534\n"
     ]
    }
   ],
   "source": [
    "# print the score on the test set\n",
    "y_pred_test = model.predict(X_test)\n",
    "print(\"On testing set : \", r2_score(y_test, y_pred_test))"
   ]
  },
  {
   "cell_type": "markdown",
   "metadata": {
    "colab_type": "text",
    "id": "cYyTP91_pB-u"
   },
   "source": [
    "Do not edit the code given below. Observe the distribution of weights. \n",
    "Which feature has the maximum coefficient ? <br>\n",
    "Keep this figure as a base reference for visualizing the effects of l1-norm and l2-norm later in this notebook."
   ]
  },
  {
   "cell_type": "code",
   "execution_count": 59,
   "metadata": {
    "colab": {},
    "colab_type": "code",
    "id": "Ck8Vx1bWozcf"
   },
   "outputs": [],
   "source": [
    "# custom summary function to plot the coefficients / weightage of the features.\n",
    "def custom_summary(model, column_names, title):\n",
    "    '''Show a summary of the trained linear regression model'''\n",
    "\n",
    "    # Plot the coeffients as bars\n",
    "    fig = plt.figure(figsize=(8,len(column_names)/3))\n",
    "    fig.suptitle(title, fontsize=16)\n",
    "    rects = plt.barh(column_names, model.coef_,color=\"lightblue\")\n",
    "\n",
    "    # Annotate the bars with the coefficient values\n",
    "    for rect in rects:\n",
    "        width = round(rect.get_width(),4)\n",
    "        plt.gca().annotate('  {}  '.format(width),\n",
    "                    xy=(0, rect.get_y()),\n",
    "                    xytext=(0,2),  \n",
    "                    textcoords=\"offset points\",  \n",
    "                    ha='left' if width<0 else 'right', va='bottom')        \n",
    "    plt.show()"
   ]
  },
  {
   "cell_type": "code",
   "execution_count": 60,
   "metadata": {
    "colab": {},
    "colab_type": "code",
    "id": "QuyEBDrYotzb"
   },
   "outputs": [
    {
     "data": {
      "image/png": "[encoded data removed]",
      "text/plain": [
       "<Figure size 576x480 with 1 Axes>"
      ]
     },
     "metadata": {
      "needs_background": "light"
     },
     "output_type": "display_data"
    }
   ],
   "source": [
    "# coefficients plot\n",
    "# let's call the above custom function.\n",
    "\n",
    "custom_summary(model, train_columns, \"Linear Regression coefficients.\")"
   ]
  },
  {
   "cell_type": "code",
   "execution_count": 61,
   "metadata": {
    "colab": {},
    "colab_type": "code",
    "id": "E77vWyd7plQ2"
   },
   "outputs": [
    {
     "name": "stdout",
     "output_type": "stream",
     "text": [
      "LinearRegression\n",
      "kFoldCV:\n",
      "Fold R2 scores: [0.98756572 0.99265086 0.9837805  0.96978406 0.98654808 0.99057605\n",
      " 0.97911292 0.98709491 0.98737756 0.97713913]\n",
      "Mean R2 score: 0.9841629791780759\n",
      "Std R2 score: 0.006565864102809679\n",
      "Generalizability on training set :  0.9841629791780759  +/-  0.006565864102809679\n"
     ]
    }
   ],
   "source": [
    "# evaluate the model with k = 10 Fold Cross validation\n",
    "\n",
    "folds = KFold(n_splits = 10, shuffle = True, random_state = 100)\n",
    "results = cross_val_score(model, X, y, scoring = 'r2', cv = folds)\n",
    "\n",
    "print(type(model).__name__)\n",
    "print(\"kFoldCV:\")\n",
    "print(\"Fold R2 scores:\", results)\n",
    "print(\"Mean R2 score:\", results.mean())\n",
    "print(\"Std R2 score:\", results.std())\n",
    "print(\"Generalizability on training set : \", results.mean(), \" +/- \", results.std())"
   ]
  },
  {
   "cell_type": "markdown",
   "metadata": {
    "colab_type": "text",
    "id": "xNVstf3MRWTS"
   },
   "source": [
    "Feature Selection using Variance Thresholding"
   ]
  },
  {
   "cell_type": "code",
   "execution_count": 64,
   "metadata": {
    "colab": {},
    "colab_type": "code",
    "id": "3fWmra-LRSvk"
   },
   "outputs": [
    {
     "name": "stdout",
     "output_type": "stream",
     "text": [
      "Original shape of X_train :  (292, 20)\n"
     ]
    }
   ],
   "source": [
    "print(\"Original shape of X_train : \", X_train.shape)"
   ]
  },
  {
   "cell_type": "code",
   "execution_count": 63,
   "metadata": {
    "colab": {},
    "colab_type": "code",
    "id": "ZdfMwVybRl9o"
   },
   "outputs": [
    {
     "data": {
      "text/plain": [
       "year                        0.000000\n",
       "holiday                     0.026720\n",
       "weekday                     0.111796\n",
       "workingday                  0.216393\n",
       "temp                        0.057592\n",
       "feel_temp                   0.049115\n",
       "hum                         0.023394\n",
       "windspeed                   0.025126\n",
       "promotion_level             0.044400\n",
       "promotion_type              0.250685\n",
       "promotion_level_external    0.104256\n",
       "promotion_type_external     0.134599\n",
       "registered                  0.063770\n",
       "season_autumn               0.187671\n",
       "season_spring               0.189041\n",
       "season_summer               0.189041\n",
       "season_winter               0.186286\n",
       "weather_cloud               0.224928\n",
       "weather_fair                0.236444\n",
       "weather_rain                0.039515\n",
       "dtype: float64"
      ]
     },
     "execution_count": 63,
     "metadata": {},
     "output_type": "execute_result"
    }
   ],
   "source": [
    "# check the variance of X.\n",
    "# Note the type(X) should be a pandas DataFrame as stated earlier.\n",
    "\n",
    "X.var()"
   ]
  },
  {
   "cell_type": "markdown",
   "metadata": {
    "colab_type": "text",
    "id": "kk36hVk_Rv6l"
   },
   "source": [
    "Remove low variance features using Variance Threshold. \n",
    "\n",
    "Note : If the variance is less, it implies the values of that particular feature spans limited range of values."
   ]
  },
  {
   "cell_type": "code",
   "execution_count": 65,
   "metadata": {
    "colab": {},
    "colab_type": "code",
    "id": "3RkbbmcuRtkJ"
   },
   "outputs": [
    {
     "data": {
      "text/plain": [
       "VarianceThreshold(threshold=0.01)"
      ]
     },
     "execution_count": 65,
     "metadata": {},
     "output_type": "execute_result"
    }
   ],
   "source": [
    "# play around with the threshold values\n",
    "\n",
    "sel = VarianceThreshold(threshold = (0.01))\n",
    "sel.fit(X_train)"
   ]
  },
  {
   "cell_type": "code",
   "execution_count": 66,
   "metadata": {
    "colab": {},
    "colab_type": "code",
    "id": "Bk525DOySWJp"
   },
   "outputs": [
    {
     "name": "stdout",
     "output_type": "stream",
     "text": [
      "Selected features :  ['holiday', 'weekday', 'workingday', 'temp', 'feel_temp', 'hum', 'windspeed', 'promotion_level', 'promotion_type', 'promotion_level_external', 'promotion_type_external', 'registered', 'season_autumn', 'season_spring', 'season_summer', 'season_winter', 'weather_cloud', 'weather_fair', 'weather_rain']\n",
      "Removed features :  ['year']\n"
     ]
    }
   ],
   "source": [
    "# do not edit.\n",
    "\n",
    "selected_features = list(X_train.columns[sel.get_support()])\n",
    "print(\"Selected features : \", selected_features)\n",
    "print(\"Removed features : \", list(X_train.columns[~sel.get_support()]))"
   ]
  },
  {
   "cell_type": "code",
   "execution_count": 68,
   "metadata": {
    "colab": {},
    "colab_type": "code",
    "id": "Ci3BFPnE5ex4"
   },
   "outputs": [],
   "source": [
    "# Delete the removed features from the train_columns list.\n",
    "for i in list(X_train.columns[~sel.get_support()]):\n",
    "    train_columns.remove(i)"
   ]
  },
  {
   "cell_type": "code",
   "execution_count": 73,
   "metadata": {
    "colab": {},
    "colab_type": "code",
    "id": "k1AQhlAhSXI5"
   },
   "outputs": [],
   "source": [
    "#transform / remove the low variance features\n",
    "\n",
    "X_train = sel.transform(X_train)\n",
    "X_test = sel.transform(X_test)"
   ]
  },
  {
   "cell_type": "markdown",
   "metadata": {
    "colab_type": "text",
    "id": "UH8mZBs3S-i3"
   },
   "source": [
    "## Lasso Regression : L1 - norm"
   ]
  },
  {
   "cell_type": "code",
   "execution_count": 74,
   "metadata": {
    "colab": {},
    "colab_type": "code",
    "id": "0XTVvk4gS98-"
   },
   "outputs": [
    {
     "name": "stdout",
     "output_type": "stream",
     "text": [
      "On train set :  0.9859343312842751\n"
     ]
    }
   ],
   "source": [
    "from sklearn.linear_model import Lasso\n",
    "\n",
    "\n",
    "# hyperparamater alpha : controls the degree of penaliation.\n",
    "# play around with alpha values.\n",
    "alpha = 1.0\n",
    "\n",
    "#create the model\n",
    "model_lasso = Lasso(alpha = alpha)\n",
    "\n",
    "#fit the model on training data\n",
    "model_lasso.fit(X_train, y_train)\n",
    "\n",
    "#calculate the score on training data\n",
    "y_pred_train = model_lasso.predict(X_train)\n",
    "print(\"On train set : \", r2_score(y_train, y_pred_train))"
   ]
  },
  {
   "cell_type": "code",
   "execution_count": 75,
   "metadata": {
    "colab": {},
    "colab_type": "code",
    "id": "PD4NpuxYTWoV"
   },
   "outputs": [
    {
     "name": "stdout",
     "output_type": "stream",
     "text": [
      "On test set :  0.9895394150856637\n"
     ]
    }
   ],
   "source": [
    "#evaluate the model on testing data\n",
    "y_pred_test = model_lasso.predict(X_test)\n",
    "print(\"On test set : \", r2_score(y_test, y_pred_test))"
   ]
  },
  {
   "cell_type": "code",
   "execution_count": 76,
   "metadata": {
    "colab": {},
    "colab_type": "code",
    "id": "bN7w1V5hT2Dp"
   },
   "outputs": [
    {
     "data": {
      "image/png": "[encoded data removed]",
      "text/plain": [
       "<Figure size 576x456 with 1 Axes>"
      ]
     },
     "metadata": {
      "needs_background": "light"
     },
     "output_type": "display_data"
    }
   ],
   "source": [
    "# visualize the coefficients.\n",
    "# compare the results with the plot obtained earlier.\n",
    "\n",
    "custom_summary(model_lasso, train_columns, \"Lasso Regression Coefficients.\")"
   ]
  },
  {
   "cell_type": "markdown",
   "metadata": {
    "colab_type": "text",
    "id": "dsjziyZzUS8P"
   },
   "source": [
    "We can see that Lasso regression has automatically done a lot of feature selection. Some columns might have zero coefficients. It has been effectively removed. <br> \n",
    "The model is much more interpretable than the baseline linear regression model.\n",
    "<br>\n",
    "Hence, Lasso regression has embedded Feature Selection."
   ]
  },
  {
   "cell_type": "markdown",
   "metadata": {
    "colab_type": "text",
    "id": "O9IlW2V2UfD0"
   },
   "source": [
    "# Ridge Regression : L2 - norm"
   ]
  },
  {
   "cell_type": "code",
   "execution_count": 77,
   "metadata": {
    "colab": {},
    "colab_type": "code",
    "id": "j6PRlLONUckx"
   },
   "outputs": [
    {
     "name": "stdout",
     "output_type": "stream",
     "text": [
      "On train set :  0.9807613885174264\n"
     ]
    }
   ],
   "source": [
    "from sklearn.linear_model import Ridge\n",
    "\n",
    "# hyperparamater alpha : controls the degree of penaliation.\n",
    "# play around with alpha values.\n",
    "alpha = 1.0\n",
    "\n",
    "#create the model\n",
    "model_ridge = Ridge(alpha = alpha)\n",
    "\n",
    "#fit the model on training data\n",
    "model_ridge.fit(X_train, y_train)\n",
    "\n",
    "#calculate the score on training data\n",
    "y_pred_train = model_ridge.predict(X_train)\n",
    "print(\"On train set : \", r2_score(y_train, y_pred_train))\n"
   ]
  },
  {
   "cell_type": "code",
   "execution_count": 78,
   "metadata": {
    "colab": {},
    "colab_type": "code",
    "id": "jzukav_PVTG2"
   },
   "outputs": [
    {
     "name": "stdout",
     "output_type": "stream",
     "text": [
      "On test set :  0.9848605828656001\n"
     ]
    }
   ],
   "source": [
    "#evaluate the model on testing data\n",
    "y_pred_test = model_ridge.predict(X_test)\n",
    "print(\"On test set : \", r2_score(y_test,y_pred_test))"
   ]
  },
  {
   "cell_type": "code",
   "execution_count": 79,
   "metadata": {
    "colab": {},
    "colab_type": "code",
    "id": "c39ZBnmvVYSA"
   },
   "outputs": [
    {
     "data": {
      "image/png": "[encoded data removed]",
      "text/plain": [
       "<Figure size 576x456 with 1 Axes>"
      ]
     },
     "metadata": {
      "needs_background": "light"
     },
     "output_type": "display_data"
    }
   ],
   "source": [
    "# visualize the coefficients.\n",
    "# compare the results with the plot obtained earlier.\n",
    "\n",
    "custom_summary(model_ridge, train_columns, \"Ridge Regression Coefficients.\")"
   ]
  },
  {
   "cell_type": "markdown",
   "metadata": {
    "colab_type": "text",
    "id": "TqLF3812VefE"
   },
   "source": [
    "Ridge regression doesn't drive smaller coefficients to 0 hence it doesn't possess internal feature selection."
   ]
  },
  {
   "cell_type": "markdown",
   "metadata": {
    "colab_type": "text",
    "id": "DUCm0xOc6inT"
   },
   "source": [
    "Points to Ponder ! [Optional]"
   ]
  },
  {
   "cell_type": "markdown",
   "metadata": {
    "colab_type": "text",
    "id": "l9FHk5sw6nLb"
   },
   "source": [
    "Did you notice the highest dependency on the feature \"registered\" if you haven't removed it till now ?\n",
    "\n",
    "Since our target is \"cnt\" which is the simple combination of \"registered\" and \"casual\".\n",
    "\n",
    "we have removed \"casual\", but the model was smart enough to predict the target \"cnt\" simply from one feature \"registered\" itself. \n",
    "\n",
    "This is the classic example of Data Leakage. So the aim here is not to make 99 percent accurate predictions, the aim is to take into account the factors for making predictions.\n",
    "\n",
    "So, to get a detailed report, we should avoid data leakage thereby removing both the features \"registered\" and \"casual\"."
   ]
  },
  {
   "cell_type": "code",
   "execution_count": null,
   "metadata": {
    "colab": {},
    "colab_type": "code",
    "id": "4euMcAFR6kLG"
   },
   "outputs": [],
   "source": []
  }
 ],
 "metadata": {
  "colab": {
   "collapsed_sections": [],
   "name": "task1_LinearRegression.ipynb",
   "provenance": []
  },
  "kernelspec": {
   "display_name": "Python 3",
   "language": "python",
   "name": "python3"
  },
  "language_info": {
   "codemirror_mode": {
    "name": "ipython",
    "version": 3
   },
   "file_extension": ".py",
   "mimetype": "text/x-python",
   "name": "python",
   "nbconvert_exporter": "python",
   "pygments_lexer": "ipython3",
   "version": "3.8.5"
  },
  "varInspector": {
   "cols": {
    "lenName": 16,
    "lenType": 16,
    "lenVar": 40
   },
   "kernels_config": {
    "python": {
     "delete_cmd_postfix": "",
     "delete_cmd_prefix": "del ",
     "library": "var_list.py",
     "varRefreshCmd": "print(var_dic_list())"
    },
    "r": {
     "delete_cmd_postfix": ") ",
     "delete_cmd_prefix": "rm(",
     "library": "var_list.r",
     "varRefreshCmd": "cat(var_dic_list()) "
    }
   },
   "types_to_exclude": [
    "module",
    "function",
    "builtin_function_or_method",
    "instance",
    "_Feature"
   ],
   "window_display": false
  }
 },
 "nbformat": 4,
 "nbformat_minor": 1
}
