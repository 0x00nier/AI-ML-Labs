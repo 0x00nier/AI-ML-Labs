{
 "cells": [
  {
   "cell_type": "markdown",
   "metadata": {
    "id": "1yGvcerZa0S8"
   },
   "source": [
    "#Objective: To understand the support vector machines for multi-class classification and regression problems.\n",
    "\n",
    "##Multiclass classification dataset:\n",
    "###This is a Glass Identification Data Set from UCI. It contains 10 attributes including id. The response is glass type(discrete 7 values)\n",
    "###Attribute Information:\n",
    "1.\tId number: 1 to 214 (removed from CSV file)\n",
    "2.\tRI: refractive index\n",
    "3.\tNa: Sodium (unit measurement: weight percent in corresponding oxide, as are attributes 4-10)\n",
    "4.\tMg: Magnesium\n",
    "5.\tAl: Aluminum\n",
    "6.\tSi: Silicon\n",
    "7.\tK: Potassium\n",
    "8.\tCa: Calcium\n",
    "9.\tBa: Barium\n",
    "10.\tFe: Iron\n",
    "### Target class\n",
    "Type of glass: (class attribute)\n",
    "-- 1 buildingwindowsfloatprocessed -- 2 buildingwindowsnonfloatprocessed -- 3 vehiclewindowsfloatprocessed\n",
    "-- 4 vehiclewindowsnonfloatprocessed (none in this database)\n",
    "-- 5 containers\n",
    "-- 6 tableware\n",
    "-- 7 headlamps\n",
    "\n",
    "##Regression dataset:\n",
    "Ask a home buyer to describe their dream house, and they probably won't begin with the height of the basement ceiling or the proximity to an east-west railroad. But this playground competition's dataset proves that much more influences price negotiations than the number of bedrooms or a white-picket fence.\n",
    "With 79 explanatory variables describing (almost) every aspect of residential homes in Ames, Iowa, this competition challenges you to predict the final price of each home.\n",
    "\n",
    "\n",
    "###Data fields\n",
    "1.\tMSSubClass: The building class\n",
    "2.\tMSZoning: The general zoning classification\n",
    "3.\tLotFrontage: Linear feet of street connected to property\n",
    "4.\tLotArea: Lot size in square feet\n",
    "5.\tStreet: Type of road access\n",
    "6.\tAlley: Type of alley access\n",
    "7.\tLotShape: General shape of property\n",
    "8.\tLandContour: Flatness of the property\n",
    "9.\tUtilities: Type of utilities available\n",
    "10.\tLotConfig: Lot configuration\n",
    "11.\tLandSlope: Slope of property\n",
    "12.\tNeighborhood: Physical locations within Ames city limits\n",
    "13.\tCondition1: Proximity to main road or railroad\n",
    "14.\tCondition2: Proximity to main road or railroad (if a second is present)\n",
    "15.\tBldgType: Type of dwelling\n",
    "16.\tHouseStyle: Style of dwelling\n",
    "17.\tOverallQual: Overall material and finish quality\n",
    "18.\tOverallCond: Overall condition rating\n",
    "19.\tYearBuilt: Original construction date\n",
    "20.\tYearRemodAdd: Remodel date\n",
    "21.\tRoofStyle: Type of roof\n",
    "22.\tRoofMatl: Roof material\n",
    "23.\tExterior1st: Exterior covering on house\n",
    "24.\tExterior2nd: Exterior covering on house (if more than one material)\n",
    "25.\tMasVnrType: Masonry veneer type\n",
    "26.\tMasVnrArea: Masonry veneer area in square feet\n",
    "27.\tExterQual: Exterior material quality\n",
    "28.\tExterCond: Present condition of the material on the exterior\n",
    "29.\tFoundation: Type of foundation\n",
    "30.\tBsmtQual: Height of the basement\n",
    "31.\tBsmtCond: General condition of the basement\n",
    "32.\tBsmtExposure: Walkout or garden level basement walls\n",
    "33.\tBsmtFinType1: Quality of basement finished area\n",
    "34.\tBsmtFinSF1: Type 1 finished square feet\n",
    "35.\tBsmtFinType2: Quality of second finished area (if present)\n",
    "36.\tBsmtFinSF2: Type 2 finished square feet\n",
    "37.\tBsmtUnfSF: Unfinished square feet of basement area\n",
    "38.\tTotalBsmtSF: Total square feet of basement area\n",
    "39.\tHeating: Type of heating\n",
    "40.\tHeatingQC: Heating quality and condition\n",
    "41.\tCentralAir: Central air conditioning\n",
    "42.\tElectrical: Electrical system\n",
    "43.\t1stFlrSF: First Floor square feet\n",
    "44.\t2ndFlrSF: Second floor square feet\n",
    "45.\tLowQualFinSF: Low quality finished square feet (all floors)\n",
    "46.\tGrLivArea: Above grade (ground) living area square feet\n",
    "47.\tBsmtFullBath: Basement full bathrooms\n",
    "48.\tBsmtHalfBath: Basement half bathrooms\n",
    "49.\tFullBath: Full bathrooms above grade\n",
    "50.\tHalfBath: Half baths above grade\n",
    "51.\tBedroom: Number of bedrooms above basement level\n",
    "52.\tKitchen: Number of kitchens\n",
    "53.\tKitchenQual: Kitchen quality\n",
    "54.\tTotRmsAbvGrd: Total rooms above grade (does not include bathrooms)\n",
    "55.\tFunctional: Home functionality rating\n",
    "56.\tFireplaces: Number of fireplaces\n",
    "57.\tFireplaceQu: Fireplace quality\n",
    "58.\tGarageType: Garage location\n",
    "59.\tGarageYrBlt: Year garage was built\n",
    "60.\tGarageFinish: Interior finish of the garage\n",
    "61.\tGarageCars: Size of garage in car capacity\n",
    "62.\tGarageArea: Size of garage in square feet\n",
    "63.\tGarageQual: Garage quality\n",
    "64.\tGarageCond: Garage condition\n",
    "65.\tPavedDrive: Paved driveway\n",
    "66.\tWoodDeckSF: Wood deck area in square feet\n",
    "67.\tOpenPorchSF: Open porch area in square feet\n",
    "68.\tEnclosedPorch: Enclosed porch area in square feet\n",
    "69.\t3SsnPorch: Three season porch area in square feet\n",
    "70.\tScreenPorch: Screen porch area in square feet\n",
    "71.\tPoolArea: Pool area in square feet\n",
    "72.\tPoolQC: Pool quality\n",
    "73.\tFence: Fence quality\n",
    "74.\tMiscFeature: Miscellaneous feature not covered in other categories\n",
    "75.\tMiscVal: $Value of miscellaneous feature\n",
    "76.\tMoSold: Month Sold\n",
    "77.\tYrSold: Year Sold\n",
    "78.\tSaleType: Type of sale\n",
    "79.\tSaleCondition: Condition of sale\n",
    "\n",
    "###Target:\n",
    "SalePrice - the property's sale price in dollars. This is the target variable that you're trying to predict.\n",
    "\n",
    "\n",
    "Source: https://www.kaggle.com/c/house-prices-advanced-regression-techniques/data\n",
    "\n",
    "\n",
    "# Task 1: Multi-class Support vector machine (SVM)\n",
    "1.\tLoad multi-class dataset\n",
    "2.\tApply pre-processing techniques\n",
    "3.\tDivide dataset into training and testing sets (fraction of your choice)\n",
    "4.\tBuild multi-class SVM model (use sklearn)\n",
    "5.\tEvaluate precision and recall\n",
    "6.\tPlay with hyper-parameters and find best combination\n",
    "\n",
    "\n",
    "# Task 2: Support vector regression (SVR)\n",
    "1.\tLoad regression dataset\n",
    "2.\tApply pre-processing techniques\n",
    "3.\tDivide dataset into training and testing sets (fraction of your choice)\n",
    "4.\tBuild SVR model (use sklearn)\n",
    "5.\tEvaluate root mean square error\n",
    "6.\tPlay with hyper-parameters and find best combination\n",
    "\n",
    "\n",
    "# Task 3: Play with various SVM kernels such as polynomial, rbf, sigmoid tanh, etc.\n",
    "\n",
    "###For more details: \n",
    "https://scikit-learn.org/stable/modules/svm.html\n",
    "https://scikit-learn.org/stable/auto_examples/svm/plot_svm_kernels.html\n",
    "\n",
    "\n"
   ]
  },
  {
   "cell_type": "markdown",
   "metadata": {
    "id": "5uFw2frEUF0y"
   },
   "source": [
    "## Task 1: Multi-class Support vector machine (SVM) "
   ]
  },
  {
   "cell_type": "code",
   "execution_count": 1,
   "metadata": {
    "ExecuteTime": {
     "end_time": "2020-10-24T11:11:27.749730Z",
     "start_time": "2020-10-24T11:11:22.972269Z"
    },
    "id": "Duh_Q74qIidS"
   },
   "outputs": [],
   "source": [
    "# Load the libraries\n",
    "from sklearn.svm import SVC,SVR\n",
    "import pandas as pd\n",
    "import numpy as np\n",
    "from sklearn.metrics import accuracy_score,classification_report,mean_squared_error\n",
    "from sklearn.preprocessing import LabelEncoder,MinMaxScaler\n",
    "from sklearn.impute import SimpleImputer\n",
    "from sklearn.model_selection import train_test_split"
   ]
  },
  {
   "cell_type": "code",
   "execution_count": 2,
   "metadata": {
    "ExecuteTime": {
     "end_time": "2020-10-24T11:11:35.547770Z",
     "start_time": "2020-10-24T11:11:35.481421Z"
    },
    "id": "SyioH2iYIjhk",
    "scrolled": true
   },
   "outputs": [
    {
     "name": "stdout",
     "output_type": "stream",
     "text": [
      "<class 'pandas.core.frame.DataFrame'>\n",
      "RangeIndex: 214 entries, 0 to 213\n",
      "Data columns (total 10 columns):\n",
      " #   Column  Non-Null Count  Dtype  \n",
      "---  ------  --------------  -----  \n",
      " 0   RI      214 non-null    float64\n",
      " 1   Na      214 non-null    float64\n",
      " 2   Mg      214 non-null    float64\n",
      " 3   Al      214 non-null    float64\n",
      " 4   Si      214 non-null    float64\n",
      " 5   K       214 non-null    float64\n",
      " 6   Ca      214 non-null    float64\n",
      " 7   Ba      214 non-null    float64\n",
      " 8   Fe      214 non-null    float64\n",
      " 9   Type    214 non-null    int64  \n",
      "dtypes: float64(9), int64(1)\n",
      "memory usage: 16.8 KB\n"
     ]
    }
   ],
   "source": [
    "# Load the dataset \n",
    "df=pd.read_csv('glass.csv')\n",
    "df.info()"
   ]
  },
  {
   "cell_type": "code",
   "execution_count": 4,
   "metadata": {
    "ExecuteTime": {
     "end_time": "2020-10-24T11:12:14.555289Z",
     "start_time": "2020-10-24T11:12:01.412595Z"
    }
   },
   "outputs": [
    {
     "name": "stderr",
     "output_type": "stream",
     "text": [
      "2020-10-24 16:42:02,464 - INFO     - NumExpr defaulting to 8 threads.\n"
     ]
    },
    {
     "data": {
      "text/html": [
       "\n",
       "        <iframe\n",
       "            width=\"100%\"\n",
       "            height=\"475\"\n",
       "            src=\"http://NierHominum:40000/dtale/iframe/1\"\n",
       "            frameborder=\"0\"\n",
       "            allowfullscreen\n",
       "        ></iframe>\n",
       "        "
      ],
      "text/plain": [
       "<IPython.lib.display.IFrame at 0x18c0a9278b0>"
      ]
     },
     "metadata": {},
     "output_type": "display_data"
    },
    {
     "data": {
      "text/plain": []
     },
     "execution_count": 4,
     "metadata": {},
     "output_type": "execute_result"
    }
   ],
   "source": [
    "import dtale\n",
    "dtale.show(df)"
   ]
  },
  {
   "cell_type": "code",
   "execution_count": 7,
   "metadata": {
    "ExecuteTime": {
     "end_time": "2020-10-20T16:54:02.078871Z",
     "start_time": "2020-10-20T16:54:02.047619Z"
    },
    "id": "vtfupr9JInhf"
   },
   "outputs": [
    {
     "data": {
      "text/html": [
       "<div>\n",
       "<style scoped>\n",
       "    .dataframe tbody tr th:only-of-type {\n",
       "        vertical-align: middle;\n",
       "    }\n",
       "\n",
       "    .dataframe tbody tr th {\n",
       "        vertical-align: top;\n",
       "    }\n",
       "\n",
       "    .dataframe thead th {\n",
       "        text-align: right;\n",
       "    }\n",
       "</style>\n",
       "<table border=\"1\" class=\"dataframe\">\n",
       "  <thead>\n",
       "    <tr style=\"text-align: right;\">\n",
       "      <th></th>\n",
       "      <th>RI</th>\n",
       "      <th>Na</th>\n",
       "      <th>Mg</th>\n",
       "      <th>Al</th>\n",
       "      <th>Si</th>\n",
       "      <th>K</th>\n",
       "      <th>Ca</th>\n",
       "      <th>Ba</th>\n",
       "      <th>Fe</th>\n",
       "      <th>Type</th>\n",
       "    </tr>\n",
       "  </thead>\n",
       "  <tbody>\n",
       "    <tr>\n",
       "      <th>0</th>\n",
       "      <td>0.432836</td>\n",
       "      <td>0.437594</td>\n",
       "      <td>1.000000</td>\n",
       "      <td>0.252336</td>\n",
       "      <td>0.351786</td>\n",
       "      <td>0.009662</td>\n",
       "      <td>0.308550</td>\n",
       "      <td>0.0</td>\n",
       "      <td>0.0</td>\n",
       "      <td>1</td>\n",
       "    </tr>\n",
       "    <tr>\n",
       "      <th>1</th>\n",
       "      <td>0.283582</td>\n",
       "      <td>0.475188</td>\n",
       "      <td>0.801782</td>\n",
       "      <td>0.333333</td>\n",
       "      <td>0.521429</td>\n",
       "      <td>0.077295</td>\n",
       "      <td>0.223048</td>\n",
       "      <td>0.0</td>\n",
       "      <td>0.0</td>\n",
       "      <td>1</td>\n",
       "    </tr>\n",
       "    <tr>\n",
       "      <th>2</th>\n",
       "      <td>0.220808</td>\n",
       "      <td>0.421053</td>\n",
       "      <td>0.790646</td>\n",
       "      <td>0.389408</td>\n",
       "      <td>0.567857</td>\n",
       "      <td>0.062802</td>\n",
       "      <td>0.218401</td>\n",
       "      <td>0.0</td>\n",
       "      <td>0.0</td>\n",
       "      <td>1</td>\n",
       "    </tr>\n",
       "    <tr>\n",
       "      <th>3</th>\n",
       "      <td>0.285777</td>\n",
       "      <td>0.372932</td>\n",
       "      <td>0.821826</td>\n",
       "      <td>0.311526</td>\n",
       "      <td>0.500000</td>\n",
       "      <td>0.091787</td>\n",
       "      <td>0.259294</td>\n",
       "      <td>0.0</td>\n",
       "      <td>0.0</td>\n",
       "      <td>1</td>\n",
       "    </tr>\n",
       "    <tr>\n",
       "      <th>4</th>\n",
       "      <td>0.275241</td>\n",
       "      <td>0.381955</td>\n",
       "      <td>0.806236</td>\n",
       "      <td>0.295950</td>\n",
       "      <td>0.583929</td>\n",
       "      <td>0.088567</td>\n",
       "      <td>0.245353</td>\n",
       "      <td>0.0</td>\n",
       "      <td>0.0</td>\n",
       "      <td>1</td>\n",
       "    </tr>\n",
       "  </tbody>\n",
       "</table>\n",
       "</div>"
      ],
      "text/plain": [
       "         RI        Na        Mg        Al        Si         K        Ca   Ba  \\\n",
       "0  0.432836  0.437594  1.000000  0.252336  0.351786  0.009662  0.308550  0.0   \n",
       "1  0.283582  0.475188  0.801782  0.333333  0.521429  0.077295  0.223048  0.0   \n",
       "2  0.220808  0.421053  0.790646  0.389408  0.567857  0.062802  0.218401  0.0   \n",
       "3  0.285777  0.372932  0.821826  0.311526  0.500000  0.091787  0.259294  0.0   \n",
       "4  0.275241  0.381955  0.806236  0.295950  0.583929  0.088567  0.245353  0.0   \n",
       "\n",
       "    Fe  Type  \n",
       "0  0.0     1  \n",
       "1  0.0     1  \n",
       "2  0.0     1  \n",
       "3  0.0     1  \n",
       "4  0.0     1  "
      ]
     },
     "execution_count": 7,
     "metadata": {},
     "output_type": "execute_result"
    }
   ],
   "source": [
    "# Preprocessing\n",
    "# Encoding categorical variables (if any)\n",
    "# Feature Scaling\n",
    "# Filling missing values (if any)\n",
    "scaler=MinMaxScaler()\n",
    "df.iloc[:,0:8]=scaler.fit_transform(df.iloc[:,0:8])\n",
    "df.head()"
   ]
  },
  {
   "cell_type": "code",
   "execution_count": 10,
   "metadata": {
    "ExecuteTime": {
     "end_time": "2020-10-20T16:54:59.247008Z",
     "start_time": "2020-10-20T16:54:59.239028Z"
    }
   },
   "outputs": [],
   "source": [
    "X_train, X_test, y_train, y_test = train_test_split(df.drop('Type',axis=1), df['Type'], test_size=0.3, random_state=42)"
   ]
  },
  {
   "cell_type": "code",
   "execution_count": 11,
   "metadata": {
    "ExecuteTime": {
     "end_time": "2020-10-20T16:55:00.858561Z",
     "start_time": "2020-10-20T16:55:00.827281Z"
    },
    "id": "-KEJ1BB8a5xQ"
   },
   "outputs": [
    {
     "data": {
      "text/plain": [
       "SVC()"
      ]
     },
     "execution_count": 11,
     "metadata": {},
     "output_type": "execute_result"
    }
   ],
   "source": [
    "# Build SVM model \n",
    "model=SVC()\n",
    "model.fit(X_train,y_train)"
   ]
  },
  {
   "cell_type": "code",
   "execution_count": 12,
   "metadata": {
    "ExecuteTime": {
     "end_time": "2020-10-20T16:56:01.883033Z",
     "start_time": "2020-10-20T16:56:01.851973Z"
    },
    "id": "jOIhehoYbSsJ"
   },
   "outputs": [
    {
     "name": "stdout",
     "output_type": "stream",
     "text": [
      "Training Accuracy - 0.7114093959731543\n",
      "Testing Accuracy - 0.6615384615384615\n"
     ]
    }
   ],
   "source": [
    "# Evaluate the build model on test dataset\n",
    "print('Training Accuracy -',accuracy_score(y_train,model.predict(X_train)))\n",
    "print('Testing Accuracy -',accuracy_score(y_test,model.predict(X_test)))"
   ]
  },
  {
   "cell_type": "code",
   "execution_count": 13,
   "metadata": {
    "ExecuteTime": {
     "end_time": "2020-10-20T16:56:27.110766Z",
     "start_time": "2020-10-20T16:56:27.079523Z"
    },
    "id": "XUBOrqrbbX-u"
   },
   "outputs": [
    {
     "name": "stdout",
     "output_type": "stream",
     "text": [
      "              precision    recall  f1-score   support\n",
      "\n",
      "           1       0.67      0.84      0.74        19\n",
      "           2       0.57      0.74      0.64        23\n",
      "           3       0.00      0.00      0.00         4\n",
      "           5       1.00      0.17      0.29         6\n",
      "           6       0.00      0.00      0.00         3\n",
      "           7       0.90      0.90      0.90        10\n",
      "\n",
      "    accuracy                           0.66        65\n",
      "   macro avg       0.52      0.44      0.43        65\n",
      "weighted avg       0.63      0.66      0.61        65\n",
      "\n"
     ]
    },
    {
     "name": "stderr",
     "output_type": "stream",
     "text": [
      "C:\\ProgramData\\Anaconda3\\lib\\site-packages\\sklearn\\metrics\\_classification.py:1221: UndefinedMetricWarning: Precision and F-score are ill-defined and being set to 0.0 in labels with no predicted samples. Use `zero_division` parameter to control this behavior.\n",
      "  _warn_prf(average, modifier, msg_start, len(result))\n"
     ]
    }
   ],
   "source": [
    "# Evaluate training and testing accuracy\n",
    "print(classification_report(y_test,model.predict(X_test)))"
   ]
  },
  {
   "cell_type": "markdown",
   "metadata": {
    "id": "9hZF7xcjbdAF"
   },
   "source": [
    "##Task 2: Implement support vector regression (SVR)\n"
   ]
  },
  {
   "cell_type": "code",
   "execution_count": 4,
   "metadata": {
    "ExecuteTime": {
     "end_time": "2020-10-20T16:49:37.855480Z",
     "start_time": "2020-10-20T16:49:37.770781Z"
    },
    "id": "1DSX6JMEbfss"
   },
   "outputs": [],
   "source": [
    "# Load training and testing datasets\n",
    "train=pd.read_csv('train.csv')\n",
    "test=pd.read_csv('test.csv')\n",
    "full=train.append(test)\n",
    "full.drop('Id',axis=1,inplace=True)"
   ]
  },
  {
   "cell_type": "code",
   "execution_count": 5,
   "metadata": {
    "ExecuteTime": {
     "end_time": "2020-10-20T16:49:38.392563Z",
     "start_time": "2020-10-20T16:49:38.239877Z"
    },
    "id": "2yqNwnVCbkxG"
   },
   "outputs": [
    {
     "data": {
      "text/html": [
       "<div>\n",
       "<style scoped>\n",
       "    .dataframe tbody tr th:only-of-type {\n",
       "        vertical-align: middle;\n",
       "    }\n",
       "\n",
       "    .dataframe tbody tr th {\n",
       "        vertical-align: top;\n",
       "    }\n",
       "\n",
       "    .dataframe thead th {\n",
       "        text-align: right;\n",
       "    }\n",
       "</style>\n",
       "<table border=\"1\" class=\"dataframe\">\n",
       "  <thead>\n",
       "    <tr style=\"text-align: right;\">\n",
       "      <th></th>\n",
       "      <th>MSSubClass</th>\n",
       "      <th>MSZoning</th>\n",
       "      <th>LotFrontage</th>\n",
       "      <th>LotArea</th>\n",
       "      <th>Street</th>\n",
       "      <th>Alley</th>\n",
       "      <th>LotShape</th>\n",
       "      <th>LandContour</th>\n",
       "      <th>Utilities</th>\n",
       "      <th>LotConfig</th>\n",
       "      <th>...</th>\n",
       "      <th>PoolArea</th>\n",
       "      <th>PoolQC</th>\n",
       "      <th>Fence</th>\n",
       "      <th>MiscFeature</th>\n",
       "      <th>MiscVal</th>\n",
       "      <th>MoSold</th>\n",
       "      <th>YrSold</th>\n",
       "      <th>SaleType</th>\n",
       "      <th>SaleCondition</th>\n",
       "      <th>SalePrice</th>\n",
       "    </tr>\n",
       "  </thead>\n",
       "  <tbody>\n",
       "    <tr>\n",
       "      <th>0</th>\n",
       "      <td>60</td>\n",
       "      <td>3</td>\n",
       "      <td>65.0</td>\n",
       "      <td>8450</td>\n",
       "      <td>1</td>\n",
       "      <td>2</td>\n",
       "      <td>3</td>\n",
       "      <td>3</td>\n",
       "      <td>0</td>\n",
       "      <td>4</td>\n",
       "      <td>...</td>\n",
       "      <td>0</td>\n",
       "      <td>3</td>\n",
       "      <td>4</td>\n",
       "      <td>4</td>\n",
       "      <td>0</td>\n",
       "      <td>2</td>\n",
       "      <td>2008</td>\n",
       "      <td>8</td>\n",
       "      <td>4</td>\n",
       "      <td>208500.0</td>\n",
       "    </tr>\n",
       "    <tr>\n",
       "      <th>1</th>\n",
       "      <td>20</td>\n",
       "      <td>3</td>\n",
       "      <td>80.0</td>\n",
       "      <td>9600</td>\n",
       "      <td>1</td>\n",
       "      <td>2</td>\n",
       "      <td>3</td>\n",
       "      <td>3</td>\n",
       "      <td>0</td>\n",
       "      <td>2</td>\n",
       "      <td>...</td>\n",
       "      <td>0</td>\n",
       "      <td>3</td>\n",
       "      <td>4</td>\n",
       "      <td>4</td>\n",
       "      <td>0</td>\n",
       "      <td>5</td>\n",
       "      <td>2007</td>\n",
       "      <td>8</td>\n",
       "      <td>4</td>\n",
       "      <td>181500.0</td>\n",
       "    </tr>\n",
       "    <tr>\n",
       "      <th>2</th>\n",
       "      <td>60</td>\n",
       "      <td>3</td>\n",
       "      <td>68.0</td>\n",
       "      <td>11250</td>\n",
       "      <td>1</td>\n",
       "      <td>2</td>\n",
       "      <td>0</td>\n",
       "      <td>3</td>\n",
       "      <td>0</td>\n",
       "      <td>4</td>\n",
       "      <td>...</td>\n",
       "      <td>0</td>\n",
       "      <td>3</td>\n",
       "      <td>4</td>\n",
       "      <td>4</td>\n",
       "      <td>0</td>\n",
       "      <td>9</td>\n",
       "      <td>2008</td>\n",
       "      <td>8</td>\n",
       "      <td>4</td>\n",
       "      <td>223500.0</td>\n",
       "    </tr>\n",
       "    <tr>\n",
       "      <th>3</th>\n",
       "      <td>70</td>\n",
       "      <td>3</td>\n",
       "      <td>60.0</td>\n",
       "      <td>9550</td>\n",
       "      <td>1</td>\n",
       "      <td>2</td>\n",
       "      <td>0</td>\n",
       "      <td>3</td>\n",
       "      <td>0</td>\n",
       "      <td>0</td>\n",
       "      <td>...</td>\n",
       "      <td>0</td>\n",
       "      <td>3</td>\n",
       "      <td>4</td>\n",
       "      <td>4</td>\n",
       "      <td>0</td>\n",
       "      <td>2</td>\n",
       "      <td>2006</td>\n",
       "      <td>8</td>\n",
       "      <td>0</td>\n",
       "      <td>140000.0</td>\n",
       "    </tr>\n",
       "    <tr>\n",
       "      <th>4</th>\n",
       "      <td>60</td>\n",
       "      <td>3</td>\n",
       "      <td>84.0</td>\n",
       "      <td>14260</td>\n",
       "      <td>1</td>\n",
       "      <td>2</td>\n",
       "      <td>0</td>\n",
       "      <td>3</td>\n",
       "      <td>0</td>\n",
       "      <td>2</td>\n",
       "      <td>...</td>\n",
       "      <td>0</td>\n",
       "      <td>3</td>\n",
       "      <td>4</td>\n",
       "      <td>4</td>\n",
       "      <td>0</td>\n",
       "      <td>12</td>\n",
       "      <td>2008</td>\n",
       "      <td>8</td>\n",
       "      <td>4</td>\n",
       "      <td>250000.0</td>\n",
       "    </tr>\n",
       "  </tbody>\n",
       "</table>\n",
       "<p>5 rows × 80 columns</p>\n",
       "</div>"
      ],
      "text/plain": [
       "   MSSubClass  MSZoning  LotFrontage  LotArea  Street  Alley  LotShape  \\\n",
       "0          60         3         65.0     8450       1      2         3   \n",
       "1          20         3         80.0     9600       1      2         3   \n",
       "2          60         3         68.0    11250       1      2         0   \n",
       "3          70         3         60.0     9550       1      2         0   \n",
       "4          60         3         84.0    14260       1      2         0   \n",
       "\n",
       "   LandContour  Utilities  LotConfig  ...  PoolArea  PoolQC  Fence  \\\n",
       "0            3          0          4  ...         0       3      4   \n",
       "1            3          0          2  ...         0       3      4   \n",
       "2            3          0          4  ...         0       3      4   \n",
       "3            3          0          0  ...         0       3      4   \n",
       "4            3          0          2  ...         0       3      4   \n",
       "\n",
       "   MiscFeature  MiscVal  MoSold  YrSold  SaleType  SaleCondition  SalePrice  \n",
       "0            4        0       2    2008         8              4   208500.0  \n",
       "1            4        0       5    2007         8              4   181500.0  \n",
       "2            4        0       9    2008         8              4   223500.0  \n",
       "3            4        0       2    2006         8              0   140000.0  \n",
       "4            4        0      12    2008         8              4   250000.0  \n",
       "\n",
       "[5 rows x 80 columns]"
      ]
     },
     "execution_count": 5,
     "metadata": {},
     "output_type": "execute_result"
    }
   ],
   "source": [
    "# Apply pre-processing techniques\n",
    "# Apply feature selection techniques of your choice to reduce the feature set\n",
    "full[full.select_dtypes(include='object').columns]=full[full.select_dtypes(include='object').columns].astype('str')\n",
    "enc=LabelEncoder()\n",
    "for i in full.select_dtypes(include='object').columns:\n",
    "    full[i]=enc.fit_transform(full[i])\n",
    "nullcols=list(full.isnull().any()[full.isnull().any()==True].index)\n",
    "imp=SimpleImputer()\n",
    "full[nullcols]=imp.fit_transform(full[nullcols])\n",
    "cols=full.columns\n",
    "scaler=MinMaxScaler()\n",
    "X=full.drop('SalePrice',axis=1)\n",
    "X=scaler.fit_transform(X)\n",
    "full=pd.DataFrame(full,columns=cols)\n",
    "full.head()\n"
   ]
  },
  {
   "cell_type": "code",
   "execution_count": 6,
   "metadata": {
    "ExecuteTime": {
     "end_time": "2020-10-20T16:49:39.542529Z",
     "start_time": "2020-10-20T16:49:39.526942Z"
    }
   },
   "outputs": [],
   "source": [
    "X_train, X_test, y_train, y_test = train_test_split(full.drop('SalePrice',axis=1), full['SalePrice'], test_size=0.3, random_state=42)"
   ]
  },
  {
   "cell_type": "code",
   "execution_count": 7,
   "metadata": {
    "ExecuteTime": {
     "end_time": "2020-10-20T16:49:40.264093Z",
     "start_time": "2020-10-20T16:49:39.827495Z"
    },
    "id": "eB_I4407bns6"
   },
   "outputs": [
    {
     "name": "stdout",
     "output_type": "stream",
     "text": [
      "Trained\n"
     ]
    }
   ],
   "source": [
    "# Train SVR model\n",
    "model=SVR()\n",
    "model.fit(X_train,y_train)\n",
    "print(\"Trained\")\n",
    "\n"
   ]
  },
  {
   "cell_type": "code",
   "execution_count": 8,
   "metadata": {
    "ExecuteTime": {
     "end_time": "2020-10-20T16:48:08.790553Z",
     "start_time": "2020-10-20T16:48:08.347486Z"
    },
    "id": "GHOGKAXiCsSN"
   },
   "outputs": [
    {
     "name": "stdout",
     "output_type": "stream",
     "text": [
      "Training MSE - 54224.110865502094\n",
      "Testing MSE - 60448.57044189207\n"
     ]
    }
   ],
   "source": [
    "# Evaluate training and testing root mean square error\n",
    "print('Training MSE -',(mean_squared_error(y_train,model.predict(X_train)))**(0.5))\n",
    "print('Testing MSE -',(mean_squared_error(y_test,model.predict(X_test)))**(0.5))"
   ]
  },
  {
   "cell_type": "markdown",
   "metadata": {
    "id": "EPw_-SMyrka_"
   },
   "source": [
    "\n",
    "##Task 3: Play with various SVM kernels such as polynomial, rbf, sigmoid tanh, etc.\n"
   ]
  },
  {
   "cell_type": "code",
   "execution_count": null,
   "metadata": {
    "id": "XyxR8ijpVvR4"
   },
   "outputs": [],
   "source": [
    "#Play with various SVM kernels such as polynomial, rbf, sigmoid tanh, etc."
   ]
  },
  {
   "cell_type": "code",
   "execution_count": 10,
   "metadata": {
    "ExecuteTime": {
     "end_time": "2020-10-20T16:48:21.972269Z",
     "start_time": "2020-10-20T16:48:21.091115Z"
    }
   },
   "outputs": [
    {
     "name": "stdout",
     "output_type": "stream",
     "text": [
      "Training MSE - 54120.00486564621\n",
      "Testing MSE - 60104.22059250853\n"
     ]
    }
   ],
   "source": [
    "model=SVR(kernel='poly')\n",
    "model.fit(X_train,y_train)\n",
    "print('Training MSE -',(mean_squared_error(y_train,model.predict(X_train)))**(0.5))\n",
    "print('Testing MSE -',(mean_squared_error(y_test,model.predict(X_test)))**(0.5))"
   ]
  },
  {
   "cell_type": "code",
   "execution_count": 11,
   "metadata": {
    "ExecuteTime": {
     "end_time": "2020-10-20T16:48:25.761853Z",
     "start_time": "2020-10-20T16:48:24.865566Z"
    }
   },
   "outputs": [
    {
     "name": "stdout",
     "output_type": "stream",
     "text": [
      "Training MSE - 54224.110865502094\n",
      "Testing MSE - 60448.57044189207\n"
     ]
    }
   ],
   "source": [
    "model=SVR(kernel='rbf')\n",
    "model.fit(X_train,y_train)\n",
    "print('Training MSE -',(mean_squared_error(y_train,model.predict(X_train)))**(0.5))\n",
    "print('Testing MSE -',(mean_squared_error(y_test,model.predict(X_test)))**(0.5))"
   ]
  },
  {
   "cell_type": "code",
   "execution_count": 12,
   "metadata": {
    "ExecuteTime": {
     "end_time": "2020-10-20T16:48:30.177762Z",
     "start_time": "2020-10-20T16:48:29.096864Z"
    }
   },
   "outputs": [
    {
     "name": "stdout",
     "output_type": "stream",
     "text": [
      "Training MSE - 54222.51545124184\n",
      "Testing MSE - 60447.11169364456\n"
     ]
    }
   ],
   "source": [
    "model=SVR(kernel='sigmoid')\n",
    "model.fit(X_train,y_train)\n",
    "print('Training MSE -',(mean_squared_error(y_train,model.predict(X_train)))**(0.5))\n",
    "print('Testing MSE -',(mean_squared_error(y_test,model.predict(X_test)))**(0.5))"
   ]
  },
  {
   "cell_type": "code",
   "execution_count": null,
   "metadata": {},
   "outputs": [],
   "source": []
  }
 ],
 "metadata": {
  "colab": {
   "collapsed_sections": [],
   "name": "Task_2_Multiclass_SVM_and_SVR.ipynb",
   "provenance": []
  },
  "kernelspec": {
   "display_name": "Python 3",
   "language": "python",
   "name": "python3"
  },
  "language_info": {
   "codemirror_mode": {
    "name": "ipython",
    "version": 3
   },
   "file_extension": ".py",
   "mimetype": "text/x-python",
   "name": "python",
   "nbconvert_exporter": "python",
   "pygments_lexer": "ipython3",
   "version": "3.8.5"
  },
  "varInspector": {
   "cols": {
    "lenName": 16,
    "lenType": 16,
    "lenVar": 40
   },
   "kernels_config": {
    "python": {
     "delete_cmd_postfix": "",
     "delete_cmd_prefix": "del ",
     "library": "var_list.py",
     "varRefreshCmd": "print(var_dic_list())"
    },
    "r": {
     "delete_cmd_postfix": ") ",
     "delete_cmd_prefix": "rm(",
     "library": "var_list.r",
     "varRefreshCmd": "cat(var_dic_list()) "
    }
   },
   "types_to_exclude": [
    "module",
    "function",
    "builtin_function_or_method",
    "instance",
    "_Feature"
   ],
   "window_display": false
  }
 },
 "nbformat": 4,
 "nbformat_minor": 1
}
