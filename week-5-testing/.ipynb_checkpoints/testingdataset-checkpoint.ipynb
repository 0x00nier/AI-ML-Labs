{
 "cells": [
  {
   "cell_type": "code",
   "execution_count": 86,
   "metadata": {},
   "outputs": [],
   "source": [
    "import pandas as pd\n",
    "import numpy as np\n",
    "from sklearn.preprocessing import StandardScaler,MinMaxScaler\n",
    "from sklearn.linear_model import LogisticRegression,SGDClassifier\n",
    "from sklearn.model_selection import train_test_split\n",
    "from sklearn.tree import DecisionTreeClassifier\n",
    "from sklearn.metrics import accuracy_score\n",
    "import matplotlib.pyplot as plt"
   ]
  },
  {
   "cell_type": "code",
   "execution_count": 2,
   "metadata": {
    "scrolled": true
   },
   "outputs": [
    {
     "data": {
      "text/html": [
       "<div>\n",
       "<style scoped>\n",
       "    .dataframe tbody tr th:only-of-type {\n",
       "        vertical-align: middle;\n",
       "    }\n",
       "\n",
       "    .dataframe tbody tr th {\n",
       "        vertical-align: top;\n",
       "    }\n",
       "\n",
       "    .dataframe thead th {\n",
       "        text-align: right;\n",
       "    }\n",
       "</style>\n",
       "<table border=\"1\" class=\"dataframe\">\n",
       "  <thead>\n",
       "    <tr style=\"text-align: right;\">\n",
       "      <th></th>\n",
       "      <th>Age</th>\n",
       "      <th>Attrition</th>\n",
       "      <th>BusinessTravel</th>\n",
       "      <th>DailyRate</th>\n",
       "      <th>Department</th>\n",
       "      <th>DistanceFromHome</th>\n",
       "      <th>Education</th>\n",
       "      <th>EducationField</th>\n",
       "      <th>EmployeeCount</th>\n",
       "      <th>EmployeeNumber</th>\n",
       "      <th>...</th>\n",
       "      <th>RelationshipSatisfaction</th>\n",
       "      <th>StandardHours</th>\n",
       "      <th>StockOptionLevel</th>\n",
       "      <th>TotalWorkingYears</th>\n",
       "      <th>TrainingTimesLastYear</th>\n",
       "      <th>WorkLifeBalance</th>\n",
       "      <th>YearsAtCompany</th>\n",
       "      <th>YearsInCurrentRole</th>\n",
       "      <th>YearsSinceLastPromotion</th>\n",
       "      <th>YearsWithCurrManager</th>\n",
       "    </tr>\n",
       "  </thead>\n",
       "  <tbody>\n",
       "    <tr>\n",
       "      <th>0</th>\n",
       "      <td>41</td>\n",
       "      <td>Yes</td>\n",
       "      <td>Travel_Rarely</td>\n",
       "      <td>1102</td>\n",
       "      <td>Sales</td>\n",
       "      <td>1</td>\n",
       "      <td>2</td>\n",
       "      <td>Life Sciences</td>\n",
       "      <td>1</td>\n",
       "      <td>1</td>\n",
       "      <td>...</td>\n",
       "      <td>1</td>\n",
       "      <td>80</td>\n",
       "      <td>0</td>\n",
       "      <td>8</td>\n",
       "      <td>0</td>\n",
       "      <td>1</td>\n",
       "      <td>6</td>\n",
       "      <td>4</td>\n",
       "      <td>0</td>\n",
       "      <td>5</td>\n",
       "    </tr>\n",
       "    <tr>\n",
       "      <th>1</th>\n",
       "      <td>49</td>\n",
       "      <td>No</td>\n",
       "      <td>Travel_Frequently</td>\n",
       "      <td>279</td>\n",
       "      <td>Research &amp; Development</td>\n",
       "      <td>8</td>\n",
       "      <td>1</td>\n",
       "      <td>Life Sciences</td>\n",
       "      <td>1</td>\n",
       "      <td>2</td>\n",
       "      <td>...</td>\n",
       "      <td>4</td>\n",
       "      <td>80</td>\n",
       "      <td>1</td>\n",
       "      <td>10</td>\n",
       "      <td>3</td>\n",
       "      <td>3</td>\n",
       "      <td>10</td>\n",
       "      <td>7</td>\n",
       "      <td>1</td>\n",
       "      <td>7</td>\n",
       "    </tr>\n",
       "    <tr>\n",
       "      <th>2</th>\n",
       "      <td>37</td>\n",
       "      <td>Yes</td>\n",
       "      <td>Travel_Rarely</td>\n",
       "      <td>1373</td>\n",
       "      <td>Research &amp; Development</td>\n",
       "      <td>2</td>\n",
       "      <td>2</td>\n",
       "      <td>Other</td>\n",
       "      <td>1</td>\n",
       "      <td>4</td>\n",
       "      <td>...</td>\n",
       "      <td>2</td>\n",
       "      <td>80</td>\n",
       "      <td>0</td>\n",
       "      <td>7</td>\n",
       "      <td>3</td>\n",
       "      <td>3</td>\n",
       "      <td>0</td>\n",
       "      <td>0</td>\n",
       "      <td>0</td>\n",
       "      <td>0</td>\n",
       "    </tr>\n",
       "    <tr>\n",
       "      <th>3</th>\n",
       "      <td>33</td>\n",
       "      <td>No</td>\n",
       "      <td>Travel_Frequently</td>\n",
       "      <td>1392</td>\n",
       "      <td>Research &amp; Development</td>\n",
       "      <td>3</td>\n",
       "      <td>4</td>\n",
       "      <td>Life Sciences</td>\n",
       "      <td>1</td>\n",
       "      <td>5</td>\n",
       "      <td>...</td>\n",
       "      <td>3</td>\n",
       "      <td>80</td>\n",
       "      <td>0</td>\n",
       "      <td>8</td>\n",
       "      <td>3</td>\n",
       "      <td>3</td>\n",
       "      <td>8</td>\n",
       "      <td>7</td>\n",
       "      <td>3</td>\n",
       "      <td>0</td>\n",
       "    </tr>\n",
       "    <tr>\n",
       "      <th>4</th>\n",
       "      <td>27</td>\n",
       "      <td>No</td>\n",
       "      <td>Travel_Rarely</td>\n",
       "      <td>591</td>\n",
       "      <td>Research &amp; Development</td>\n",
       "      <td>2</td>\n",
       "      <td>1</td>\n",
       "      <td>Medical</td>\n",
       "      <td>1</td>\n",
       "      <td>7</td>\n",
       "      <td>...</td>\n",
       "      <td>4</td>\n",
       "      <td>80</td>\n",
       "      <td>1</td>\n",
       "      <td>6</td>\n",
       "      <td>3</td>\n",
       "      <td>3</td>\n",
       "      <td>2</td>\n",
       "      <td>2</td>\n",
       "      <td>2</td>\n",
       "      <td>2</td>\n",
       "    </tr>\n",
       "  </tbody>\n",
       "</table>\n",
       "<p>5 rows × 35 columns</p>\n",
       "</div>"
      ],
      "text/plain": [
       "   Age Attrition     BusinessTravel  DailyRate              Department  \\\n",
       "0   41       Yes      Travel_Rarely       1102                   Sales   \n",
       "1   49        No  Travel_Frequently        279  Research & Development   \n",
       "2   37       Yes      Travel_Rarely       1373  Research & Development   \n",
       "3   33        No  Travel_Frequently       1392  Research & Development   \n",
       "4   27        No      Travel_Rarely        591  Research & Development   \n",
       "\n",
       "   DistanceFromHome  Education EducationField  EmployeeCount  EmployeeNumber  \\\n",
       "0                 1          2  Life Sciences              1               1   \n",
       "1                 8          1  Life Sciences              1               2   \n",
       "2                 2          2          Other              1               4   \n",
       "3                 3          4  Life Sciences              1               5   \n",
       "4                 2          1        Medical              1               7   \n",
       "\n",
       "   ...  RelationshipSatisfaction StandardHours  StockOptionLevel  \\\n",
       "0  ...                         1            80                 0   \n",
       "1  ...                         4            80                 1   \n",
       "2  ...                         2            80                 0   \n",
       "3  ...                         3            80                 0   \n",
       "4  ...                         4            80                 1   \n",
       "\n",
       "   TotalWorkingYears  TrainingTimesLastYear WorkLifeBalance  YearsAtCompany  \\\n",
       "0                  8                      0               1               6   \n",
       "1                 10                      3               3              10   \n",
       "2                  7                      3               3               0   \n",
       "3                  8                      3               3               8   \n",
       "4                  6                      3               3               2   \n",
       "\n",
       "  YearsInCurrentRole  YearsSinceLastPromotion  YearsWithCurrManager  \n",
       "0                  4                        0                     5  \n",
       "1                  7                        1                     7  \n",
       "2                  0                        0                     0  \n",
       "3                  7                        3                     0  \n",
       "4                  2                        2                     2  \n",
       "\n",
       "[5 rows x 35 columns]"
      ]
     },
     "execution_count": 2,
     "metadata": {},
     "output_type": "execute_result"
    }
   ],
   "source": [
    "df=pd.read_csv(\"WA_Fn-UseC_-HR-Employee-Attrition.csv\")\n",
    "df.head()"
   ]
  },
  {
   "cell_type": "code",
   "execution_count": 3,
   "metadata": {},
   "outputs": [
    {
     "data": {
      "text/plain": [
       "['Attrition',\n",
       " 'BusinessTravel',\n",
       " 'Department',\n",
       " 'EducationField',\n",
       " 'Gender',\n",
       " 'JobRole',\n",
       " 'MaritalStatus',\n",
       " 'Over18',\n",
       " 'OverTime']"
      ]
     },
     "execution_count": 3,
     "metadata": {},
     "output_type": "execute_result"
    }
   ],
   "source": [
    "list(df.select_dtypes(exclude=np.number).columns)"
   ]
  },
  {
   "cell_type": "code",
   "execution_count": 4,
   "metadata": {},
   "outputs": [
    {
     "name": "stdout",
     "output_type": "stream",
     "text": [
      "Attrition ['Yes' 'No']\n",
      "BusinessTravel ['Travel_Rarely' 'Travel_Frequently' 'Non-Travel']\n",
      "Department ['Sales' 'Research & Development' 'Human Resources']\n",
      "EducationField ['Life Sciences' 'Other' 'Medical' 'Marketing' 'Technical Degree'\n",
      " 'Human Resources']\n",
      "Gender ['Female' 'Male']\n",
      "JobRole ['Sales Executive' 'Research Scientist' 'Laboratory Technician'\n",
      " 'Manufacturing Director' 'Healthcare Representative' 'Manager'\n",
      " 'Sales Representative' 'Research Director' 'Human Resources']\n",
      "MaritalStatus ['Single' 'Married' 'Divorced']\n",
      "Over18 ['Y']\n",
      "OverTime ['Yes' 'No']\n"
     ]
    }
   ],
   "source": [
    "for i in df.select_dtypes(exclude=np.number).columns:\n",
    "    print(i, df[i].unique())"
   ]
  },
  {
   "cell_type": "code",
   "execution_count": 5,
   "metadata": {},
   "outputs": [],
   "source": [
    "df.drop('Over18',axis=1,inplace=True)"
   ]
  },
  {
   "cell_type": "code",
   "execution_count": 6,
   "metadata": {},
   "outputs": [
    {
     "name": "stdout",
     "output_type": "stream",
     "text": [
      "<class 'pandas.core.frame.DataFrame'>\n",
      "RangeIndex: 1470 entries, 0 to 1469\n",
      "Data columns (total 82 columns):\n",
      " #   Column                             Non-Null Count  Dtype \n",
      "---  ------                             --------------  ----- \n",
      " 0   Age                                1470 non-null   int64 \n",
      " 1   Attrition                          1470 non-null   object\n",
      " 2   DailyRate                          1470 non-null   int64 \n",
      " 3   DistanceFromHome                   1470 non-null   int64 \n",
      " 4   Education                          1470 non-null   int64 \n",
      " 5   EmployeeCount                      1470 non-null   int64 \n",
      " 6   EmployeeNumber                     1470 non-null   int64 \n",
      " 7   EnvironmentSatisfaction            1470 non-null   int64 \n",
      " 8   Gender                             1470 non-null   object\n",
      " 9   HourlyRate                         1470 non-null   int64 \n",
      " 10  JobInvolvement                     1470 non-null   int64 \n",
      " 11  JobLevel                           1470 non-null   int64 \n",
      " 12  JobSatisfaction                    1470 non-null   int64 \n",
      " 13  MonthlyIncome                      1470 non-null   int64 \n",
      " 14  MonthlyRate                        1470 non-null   int64 \n",
      " 15  NumCompaniesWorked                 1470 non-null   int64 \n",
      " 16  OverTime                           1470 non-null   object\n",
      " 17  PercentSalaryHike                  1470 non-null   int64 \n",
      " 18  PerformanceRating                  1470 non-null   int64 \n",
      " 19  RelationshipSatisfaction           1470 non-null   int64 \n",
      " 20  StandardHours                      1470 non-null   int64 \n",
      " 21  StockOptionLevel                   1470 non-null   int64 \n",
      " 22  TotalWorkingYears                  1470 non-null   int64 \n",
      " 23  TrainingTimesLastYear              1470 non-null   int64 \n",
      " 24  WorkLifeBalance                    1470 non-null   int64 \n",
      " 25  YearsAtCompany                     1470 non-null   int64 \n",
      " 26  YearsInCurrentRole                 1470 non-null   int64 \n",
      " 27  YearsSinceLastPromotion            1470 non-null   int64 \n",
      " 28  YearsWithCurrManager               1470 non-null   int64 \n",
      " 29  Age                                1470 non-null   int64 \n",
      " 30  Attrition                          1470 non-null   object\n",
      " 31  DailyRate                          1470 non-null   int64 \n",
      " 32  DistanceFromHome                   1470 non-null   int64 \n",
      " 33  Education                          1470 non-null   int64 \n",
      " 34  EmployeeCount                      1470 non-null   int64 \n",
      " 35  EmployeeNumber                     1470 non-null   int64 \n",
      " 36  EnvironmentSatisfaction            1470 non-null   int64 \n",
      " 37  Gender                             1470 non-null   object\n",
      " 38  HourlyRate                         1470 non-null   int64 \n",
      " 39  JobInvolvement                     1470 non-null   int64 \n",
      " 40  JobLevel                           1470 non-null   int64 \n",
      " 41  JobSatisfaction                    1470 non-null   int64 \n",
      " 42  MonthlyIncome                      1470 non-null   int64 \n",
      " 43  MonthlyRate                        1470 non-null   int64 \n",
      " 44  NumCompaniesWorked                 1470 non-null   int64 \n",
      " 45  OverTime                           1470 non-null   object\n",
      " 46  PercentSalaryHike                  1470 non-null   int64 \n",
      " 47  PerformanceRating                  1470 non-null   int64 \n",
      " 48  RelationshipSatisfaction           1470 non-null   int64 \n",
      " 49  StandardHours                      1470 non-null   int64 \n",
      " 50  StockOptionLevel                   1470 non-null   int64 \n",
      " 51  TotalWorkingYears                  1470 non-null   int64 \n",
      " 52  TrainingTimesLastYear              1470 non-null   int64 \n",
      " 53  WorkLifeBalance                    1470 non-null   int64 \n",
      " 54  YearsAtCompany                     1470 non-null   int64 \n",
      " 55  YearsInCurrentRole                 1470 non-null   int64 \n",
      " 56  YearsSinceLastPromotion            1470 non-null   int64 \n",
      " 57  YearsWithCurrManager               1470 non-null   int64 \n",
      " 58  BusinessTravel_Non-Travel          1470 non-null   uint8 \n",
      " 59  BusinessTravel_Travel_Frequently   1470 non-null   uint8 \n",
      " 60  BusinessTravel_Travel_Rarely       1470 non-null   uint8 \n",
      " 61  Department_Human Resources         1470 non-null   uint8 \n",
      " 62  Department_Research & Development  1470 non-null   uint8 \n",
      " 63  Department_Sales                   1470 non-null   uint8 \n",
      " 64  EducationField_Human Resources     1470 non-null   uint8 \n",
      " 65  EducationField_Life Sciences       1470 non-null   uint8 \n",
      " 66  EducationField_Marketing           1470 non-null   uint8 \n",
      " 67  EducationField_Medical             1470 non-null   uint8 \n",
      " 68  EducationField_Other               1470 non-null   uint8 \n",
      " 69  EducationField_Technical Degree    1470 non-null   uint8 \n",
      " 70  JobRole_Healthcare Representative  1470 non-null   uint8 \n",
      " 71  JobRole_Human Resources            1470 non-null   uint8 \n",
      " 72  JobRole_Laboratory Technician      1470 non-null   uint8 \n",
      " 73  JobRole_Manager                    1470 non-null   uint8 \n",
      " 74  JobRole_Manufacturing Director     1470 non-null   uint8 \n",
      " 75  JobRole_Research Director          1470 non-null   uint8 \n",
      " 76  JobRole_Research Scientist         1470 non-null   uint8 \n",
      " 77  JobRole_Sales Executive            1470 non-null   uint8 \n",
      " 78  JobRole_Sales Representative       1470 non-null   uint8 \n",
      " 79  MaritalStatus_Divorced             1470 non-null   uint8 \n",
      " 80  MaritalStatus_Married              1470 non-null   uint8 \n",
      " 81  MaritalStatus_Single               1470 non-null   uint8 \n",
      "dtypes: int64(52), object(6), uint8(24)\n",
      "memory usage: 700.7+ KB\n"
     ]
    }
   ],
   "source": [
    "dummies=pd.get_dummies(df,\n",
    "                       columns=['BusinessTravel', 'Department', \n",
    "                                'EducationField', 'JobRole', 'MaritalStatus'])\n",
    "df.drop(columns=['BusinessTravel', 'Department', 'EducationField', 'JobRole', 'MaritalStatus'],inplace=True)\n",
    "df=pd.concat([df,dummies],axis=1)\n",
    "df.info()"
   ]
  },
  {
   "cell_type": "code",
   "execution_count": 7,
   "metadata": {},
   "outputs": [
    {
     "name": "stdout",
     "output_type": "stream",
     "text": [
      "<class 'pandas.core.frame.DataFrame'>\n",
      "RangeIndex: 1470 entries, 0 to 1469\n",
      "Data columns (total 53 columns):\n",
      " #   Column                             Non-Null Count  Dtype \n",
      "---  ------                             --------------  ----- \n",
      " 0   Age                                1470 non-null   int64 \n",
      " 1   Attrition                          1470 non-null   object\n",
      " 2   DailyRate                          1470 non-null   int64 \n",
      " 3   DistanceFromHome                   1470 non-null   int64 \n",
      " 4   Education                          1470 non-null   int64 \n",
      " 5   EmployeeCount                      1470 non-null   int64 \n",
      " 6   EmployeeNumber                     1470 non-null   int64 \n",
      " 7   EnvironmentSatisfaction            1470 non-null   int64 \n",
      " 8   Gender                             1470 non-null   object\n",
      " 9   HourlyRate                         1470 non-null   int64 \n",
      " 10  JobInvolvement                     1470 non-null   int64 \n",
      " 11  JobLevel                           1470 non-null   int64 \n",
      " 12  JobSatisfaction                    1470 non-null   int64 \n",
      " 13  MonthlyIncome                      1470 non-null   int64 \n",
      " 14  MonthlyRate                        1470 non-null   int64 \n",
      " 15  NumCompaniesWorked                 1470 non-null   int64 \n",
      " 16  OverTime                           1470 non-null   object\n",
      " 17  PercentSalaryHike                  1470 non-null   int64 \n",
      " 18  PerformanceRating                  1470 non-null   int64 \n",
      " 19  RelationshipSatisfaction           1470 non-null   int64 \n",
      " 20  StandardHours                      1470 non-null   int64 \n",
      " 21  StockOptionLevel                   1470 non-null   int64 \n",
      " 22  TotalWorkingYears                  1470 non-null   int64 \n",
      " 23  TrainingTimesLastYear              1470 non-null   int64 \n",
      " 24  WorkLifeBalance                    1470 non-null   int64 \n",
      " 25  YearsAtCompany                     1470 non-null   int64 \n",
      " 26  YearsInCurrentRole                 1470 non-null   int64 \n",
      " 27  YearsSinceLastPromotion            1470 non-null   int64 \n",
      " 28  YearsWithCurrManager               1470 non-null   int64 \n",
      " 29  BusinessTravel_Non-Travel          1470 non-null   uint8 \n",
      " 30  BusinessTravel_Travel_Frequently   1470 non-null   uint8 \n",
      " 31  BusinessTravel_Travel_Rarely       1470 non-null   uint8 \n",
      " 32  Department_Human Resources         1470 non-null   uint8 \n",
      " 33  Department_Research & Development  1470 non-null   uint8 \n",
      " 34  Department_Sales                   1470 non-null   uint8 \n",
      " 35  EducationField_Human Resources     1470 non-null   uint8 \n",
      " 36  EducationField_Life Sciences       1470 non-null   uint8 \n",
      " 37  EducationField_Marketing           1470 non-null   uint8 \n",
      " 38  EducationField_Medical             1470 non-null   uint8 \n",
      " 39  EducationField_Other               1470 non-null   uint8 \n",
      " 40  EducationField_Technical Degree    1470 non-null   uint8 \n",
      " 41  JobRole_Healthcare Representative  1470 non-null   uint8 \n",
      " 42  JobRole_Human Resources            1470 non-null   uint8 \n",
      " 43  JobRole_Laboratory Technician      1470 non-null   uint8 \n",
      " 44  JobRole_Manager                    1470 non-null   uint8 \n",
      " 45  JobRole_Manufacturing Director     1470 non-null   uint8 \n",
      " 46  JobRole_Research Director          1470 non-null   uint8 \n",
      " 47  JobRole_Research Scientist         1470 non-null   uint8 \n",
      " 48  JobRole_Sales Executive            1470 non-null   uint8 \n",
      " 49  JobRole_Sales Representative       1470 non-null   uint8 \n",
      " 50  MaritalStatus_Divorced             1470 non-null   uint8 \n",
      " 51  MaritalStatus_Married              1470 non-null   uint8 \n",
      " 52  MaritalStatus_Single               1470 non-null   uint8 \n",
      "dtypes: int64(26), object(3), uint8(24)\n",
      "memory usage: 367.6+ KB\n"
     ]
    }
   ],
   "source": [
    "df = df.loc[:,~df.columns.duplicated()]\n",
    "df.info()"
   ]
  },
  {
   "cell_type": "code",
   "execution_count": 8,
   "metadata": {},
   "outputs": [],
   "source": [
    "df['Attrition']=df['Attrition'].apply(lambda x : 1 if x==\"Yes\" else 0)\n",
    "df['OverTime']=df['OverTime'].apply(lambda x : 1 if x==\"Yes\" else 0)"
   ]
  },
  {
   "cell_type": "code",
   "execution_count": 9,
   "metadata": {},
   "outputs": [],
   "source": [
    "df['Gender']=df['Gender'].apply(lambda x : 1 if x==\"Male\" else 0)"
   ]
  },
  {
   "cell_type": "code",
   "execution_count": 10,
   "metadata": {},
   "outputs": [],
   "source": [
    "X=df.drop(\"Attrition\",axis=1)\n",
    "y=df['Attrition']"
   ]
  },
  {
   "cell_type": "code",
   "execution_count": 11,
   "metadata": {},
   "outputs": [
    {
     "data": {
      "text/plain": [
       "0       1\n",
       "1       0\n",
       "2       1\n",
       "3       0\n",
       "4       0\n",
       "       ..\n",
       "1465    0\n",
       "1466    0\n",
       "1467    0\n",
       "1468    0\n",
       "1469    0\n",
       "Name: Attrition, Length: 1470, dtype: int64"
      ]
     },
     "execution_count": 11,
     "metadata": {},
     "output_type": "execute_result"
    }
   ],
   "source": [
    "y"
   ]
  },
  {
   "cell_type": "code",
   "execution_count": 58,
   "metadata": {},
   "outputs": [],
   "source": [
    " X_train, X_test, y_train, y_test = train_test_split(X, y, test_size=0.30, random_state=42)"
   ]
  },
  {
   "cell_type": "code",
   "execution_count": 59,
   "metadata": {},
   "outputs": [],
   "source": [
    "model=MyLogisticRegression()"
   ]
  },
  {
   "cell_type": "code",
   "execution_count": 60,
   "metadata": {},
   "outputs": [],
   "source": [
    "model=LogisticRegression()\n",
    "model1=DecisionTreeClassifier()"
   ]
  },
  {
   "cell_type": "code",
   "execution_count": 61,
   "metadata": {},
   "outputs": [
    {
     "name": "stderr",
     "output_type": "stream",
     "text": [
      "D:\\Anaconda3\\lib\\site-packages\\sklearn\\linear_model\\_logistic.py:764: ConvergenceWarning: lbfgs failed to converge (status=1):\n",
      "STOP: TOTAL NO. of ITERATIONS REACHED LIMIT.\n",
      "\n",
      "Increase the number of iterations (max_iter) or scale the data as shown in:\n",
      "    https://scikit-learn.org/stable/modules/preprocessing.html\n",
      "Please also refer to the documentation for alternative solver options:\n",
      "    https://scikit-learn.org/stable/modules/linear_model.html#logistic-regression\n",
      "  extra_warning_msg=_LOGISTIC_SOLVER_CONVERGENCE_MSG)\n"
     ]
    },
    {
     "data": {
      "text/plain": [
       "DecisionTreeClassifier()"
      ]
     },
     "execution_count": 61,
     "metadata": {},
     "output_type": "execute_result"
    }
   ],
   "source": [
    "model.fit(X_train,y_train)\n",
    "model1.fit(X_train,y_train)"
   ]
  },
  {
   "cell_type": "code",
   "execution_count": 92,
   "metadata": {},
   "outputs": [
    {
     "ename": "NameError",
     "evalue": "name 'plt' is not defined",
     "output_type": "error",
     "traceback": [
      "\u001b[1;31m---------------------------------------------------------------------------\u001b[0m",
      "\u001b[1;31mNameError\u001b[0m                                 Traceback (most recent call last)",
      "\u001b[1;32m<ipython-input-92-421b93f89616>\u001b[0m in \u001b[0;36m<module>\u001b[1;34m\u001b[0m\n\u001b[0;32m      7\u001b[0m \u001b[0mestimator\u001b[0m \u001b[1;33m=\u001b[0m \u001b[0mLogisticRegression\u001b[0m\u001b[1;33m(\u001b[0m\u001b[1;33m)\u001b[0m\u001b[1;33m\u001b[0m\u001b[1;33m\u001b[0m\u001b[0m\n\u001b[0;32m      8\u001b[0m plot_learning_curve(estimator, title, X_train, y_train, axes=axes[:, 0], ylim=(0.7, 1.01),\n\u001b[1;32m----> 9\u001b[1;33m                     cv=cv, n_jobs=4)\n\u001b[0m\u001b[0;32m     10\u001b[0m \u001b[1;33m\u001b[0m\u001b[0m\n\u001b[0;32m     11\u001b[0m \u001b[0mtitle\u001b[0m \u001b[1;33m=\u001b[0m \u001b[1;34mr\"Learning Curves (Decision Tree)\"\u001b[0m\u001b[1;33m\u001b[0m\u001b[1;33m\u001b[0m\u001b[0m\n",
      "\u001b[1;32m~\\AI-ML-Labs\\week-5-testing\\learning_plot.py\u001b[0m in \u001b[0;36mplot_learning_curve\u001b[1;34m(estimator, title, X, y, axes, ylim, cv, n_jobs, train_sizes)\u001b[0m\n\u001b[0;32m     57\u001b[0m     \u001b[0maxes\u001b[0m\u001b[1;33m[\u001b[0m\u001b[1;36m2\u001b[0m\u001b[1;33m]\u001b[0m\u001b[1;33m.\u001b[0m\u001b[0mset_title\u001b[0m\u001b[1;33m(\u001b[0m\u001b[1;34m\"Performance of the model\"\u001b[0m\u001b[1;33m)\u001b[0m\u001b[1;33m\u001b[0m\u001b[1;33m\u001b[0m\u001b[0m\n",
      "\u001b[1;31mNameError\u001b[0m: name 'plt' is not defined"
     ]
    },
    {
     "data": {
      "image/png": "[encoded data removed]",
      "text/plain": [
       "<Figure size 720x1080 with 6 Axes>"
      ]
     },
     "metadata": {},
     "output_type": "display_data"
    }
   ],
   "source": [
    "from learning_plot import plot_learning_curve\n",
    "fig, axes = plt.subplots(3, 2, figsize=(10, 15))\n",
    "\n",
    "title = \"Learning Curves (Logistic Regression)\"\n",
    "cv = ShuffleSplit(n_splits=10, test_size=0.2, random_state=0)\n",
    "\n",
    "estimator = LogisticRegression()\n",
    "plot_learning_curve(estimator, title, X_train, y_train, axes=axes[:, 0], ylim=(0.7, 1.01),\n",
    "                    cv=cv, n_jobs=4)\n",
    "\n",
    "title = r\"Learning Curves (Decision Tree)\"\n",
    "cv = ShuffleSplit(n_splits=10, test_size=0.2, random_state=0)\n",
    "estimator = DecisionTreeClassifier()\n",
    "plot_learning_curve(estimator, title, X_train, y_train, axes=axes[:, 1], ylim=(0.7, 1.01),\n",
    "                    cv=cv, n_jobs=4)\n"
   ]
  },
  {
   "cell_type": "code",
   "execution_count": null,
   "metadata": {},
   "outputs": [],
   "source": [
    "plot"
   ]
  }
 ],
 "metadata": {
  "kernelspec": {
   "display_name": "Python 3",
   "language": "python",
   "name": "python3"
  },
  "language_info": {
   "codemirror_mode": {
    "name": "ipython",
    "version": 3
   },
   "file_extension": ".py",
   "mimetype": "text/x-python",
   "name": "python",
   "nbconvert_exporter": "python",
   "pygments_lexer": "ipython3",
   "version": "3.7.9"
  }
 },
 "nbformat": 4,
 "nbformat_minor": 4
}
