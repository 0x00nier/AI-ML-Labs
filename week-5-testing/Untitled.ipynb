{
 "cells": [
  {
   "cell_type": "code",
   "execution_count": 9,
   "metadata": {},
   "outputs": [
    {
     "name": "stdout",
     "output_type": "stream",
     "text": [
      "[WinError 2] The system cannot find the file specified: 'C:/Users/RAGHAV VERMA/Documents/JupyterStuff/AI-ML-Labs/challenge-week-5'\n",
      "C:\\Users\\RAGHAV VERMA\\Documents\\JupyterStuff\\AI-ML-Labs\n"
     ]
    }
   ],
   "source": [
    "%cd C:/Users/RAGHAV VERMA/Documents/JupyterStuff/AI-ML-Labs/challenge-week-5"
   ]
  },
  {
   "cell_type": "code",
   "execution_count": 10,
   "metadata": {},
   "outputs": [
    {
     "name": "stdout",
     "output_type": "stream",
     "text": [
      "Reinitialized existing Git repository in C:/Users/RAGHAV VERMA/Documents/JupyterStuff/AI-ML-Labs/.git/\n"
     ]
    }
   ],
   "source": [
    "!git init"
   ]
  },
  {
   "cell_type": "code",
   "execution_count": 11,
   "metadata": {},
   "outputs": [
    {
     "name": "stdout",
     "output_type": "stream",
     "text": [
      "e022eb1 Merge branch 'master' of https://github.com/raghavverma651/AI-ML-Labs\n",
      "e9f801e fkms\n",
      "edde705 dataset 1 epicly fails. pain.\n",
      "eba3a7d decreasing rows of datasets and checking\n",
      "c9e55b2 dataset 2 ready\n",
      "20d0482 dataset 2 is the only promising one. pain.\n",
      "29274b5 created dataset\n",
      "8e8adc9 created dataset\n",
      "2cdba9c promising results. will try to decrease it even more\n",
      "a8cfa91 tried something on the final DS\n",
      "048c176 pain.\n",
      "d9d5d72 pain.\n",
      "1cc7f67 pain.\n",
      "b9168b5 Dataset 4 fails badly\n",
      "ab51683 Dataset 3 tested\n",
      "2f3da8c Commit for the day\n",
      "ea9c15c DT is hugely better in Dataset 2\n",
      "720c45d DT is better in this case\n",
      "e440592 testing week 5 datasets\n",
      "e1787d2 renamed the week 4 folder\n",
      "5120272 renamed the week 4 folder\n",
      "10f4487 adding week 4\n",
      "4f240a6 adding week 4\n",
      "bf19aa1 remove submodule\n",
      "655a435 adding week 4\n",
      "96db038 remove submodule\n",
      "3757d1e adding week 4\n",
      "fe2a65b remove submodule\n",
      "f4fafe8 Fixing import\n",
      "4d693b4 Fixing import\n",
      "2704df6 check\n",
      "99c9648 check\n",
      "e50c152 check\n",
      "8c94f1e did everything again for the github dataset\n",
      "318ee34 graphviz image made for best model\n",
      "362b61a displayed tree structure of the model with highest accuracy\n",
      "a0ad0a6 wrote text reps into a log file\n",
      "8406107 tried 15 models with diff hyperparams and printed their text reps\n",
      "44fdf43 all libraries installed. next commits will work on models\n",
      "cbadf4b test run of graphs\n",
      "c549c78 started task 2\n",
      "1efea85 completed task 1\n",
      "d1fe7ac low accuracy is tentatively fine. task 1 done\n",
      "e3207fe sklearn done (very low accuracy though?)\n",
      "29264f9 The LR from scratch part is done\n",
      "c409de9 Looks fine but graph is inversed\n",
      "51c4a04 nan values while dividing\n",
      "726f1ed softmax needs some correction\n",
      "ab5ae6f did the class part partially\n",
      "19d50df Added challenge 4\n",
      "cdc692e removed normalization (train:1 test:1)\n",
      "f4ff5ad Redid\n",
      "2b3a600 Added classifcation report\n",
      "815be58 Fixed the graph and cost function (sign wise)\n",
      "621234f All done (week 3)\n",
      "bcb8333 Finalized task 1 for teaching\n",
      "501f946 Commit of the day final 1\n",
      "063041f Commit of the day final\n",
      "72d16b4 Commit for the day\n",
      "d5b3782 hessian and gradient incomplete\n",
      "0b015a7 done the numpy part except jacobian and hessian\n",
      "7ab5057 task 1 done but look into the accuracies closely\n",
      "de4388e completed the function somewhat\n",
      "4aefefa Lets see\n",
      "b4bb0a8 Removed submodule\n",
      "c58f247 added files again 3\n",
      "376296b added files again 3\n",
      "6eb7e68 remove files\n",
      "b4882fc added files again\n",
      "2022ca7 removed week 3\n",
      "84b7f9e New edits 5\n",
      "0a14154 New edits 4\n",
      "eba750c New edits 3\n",
      "8fb4f92 New edits 2\n",
      "00f7760 New edits\n",
      "4912e67 added week 2\n",
      "25b928d Reinserting files\n",
      "9c7f103 Final edit 4\n",
      "8c6d851 Final edit 3\n",
      "2d51675 Final edit 2\n",
      "819f287 Final edit 2\n",
      "00e7162 Final edit\n",
      "a6bdfd6 Final edit\n",
      "7fc73fe Final edit\n",
      "6d8d030 New changes\n",
      "128f0f3 Lab 1\n"
     ]
    }
   ],
   "source": [
    "!git log --oneline"
   ]
  },
  {
   "cell_type": "code",
   "execution_count": 12,
   "metadata": {},
   "outputs": [
    {
     "name": "stdout",
     "output_type": "stream",
     "text": [
      "HEAD is now at e022eb1 Merge branch 'master' of https://github.com/raghavverma651/AI-ML-Labs\n"
     ]
    }
   ],
   "source": [
    "!git reset --hard e022eb1 "
   ]
  },
  {
   "cell_type": "code",
   "execution_count": 13,
   "metadata": {},
   "outputs": [
    {
     "name": "stderr",
     "output_type": "stream",
     "text": [
      "To https://github.com/raghavverma651/AI-ML-Labs.git\n",
      " + 3f4ea20...e022eb1 HEAD -> master (forced update)\n"
     ]
    }
   ],
   "source": [
    "!git push origin HEAD --force"
   ]
  },
  {
   "cell_type": "code",
   "execution_count": 1,
   "metadata": {},
   "outputs": [],
   "source": [
    "!rm -r challenge-week-5/"
   ]
  },
  {
   "cell_type": "code",
   "execution_count": 2,
   "metadata": {},
   "outputs": [
    {
     "name": "stdout",
     "output_type": "stream",
     "text": [
      "C:\\Users\\RAGHAV VERMA\\Documents\\JupyterStuff\\AI-ML-Labs\n"
     ]
    }
   ],
   "source": [
    "%cd C:/Users/RAGHAV VERMA/Documents/JupyterStuff/AI-ML-Labs/"
   ]
  },
  {
   "cell_type": "code",
   "execution_count": 3,
   "metadata": {},
   "outputs": [
    {
     "name": "stdout",
     "output_type": "stream",
     "text": [
      "Reinitialized existing Git repository in C:/Users/RAGHAV VERMA/Documents/JupyterStuff/AI-ML-Labs/.git/\n"
     ]
    },
    {
     "name": "stderr",
     "output_type": "stream",
     "text": [
      "warning: LF will be replaced by CRLF in Untitled.ipynb.\n",
      "The file will have its original line endings in your working directory\n",
      "warning: LF will be replaced by CRLF in challenge-week-4/task_1_multiclass_logistic.ipynb.\n",
      "The file will have its original line endings in your working directory\n"
     ]
    },
    {
     "name": "stdout",
     "output_type": "stream",
     "text": [
      "[master 3f4ea20] removing submodule\n",
      " 3 files changed, 323 insertions(+), 65 deletions(-)\n",
      " delete mode 160000 challenge-week-5\n"
     ]
    }
   ],
   "source": [
    "!git init\n",
    "!git add .\n",
    "!git commit -m \"removing submodule\""
   ]
  },
  {
   "cell_type": "code",
   "execution_count": 4,
   "metadata": {},
   "outputs": [
    {
     "name": "stderr",
     "output_type": "stream",
     "text": [
      "To https://github.com/raghavverma651/AI-ML-Labs.git\n",
      "   e26c43b..3f4ea20  master -> master\n"
     ]
    }
   ],
   "source": [
    "!git push"
   ]
  },
  {
   "cell_type": "code",
   "execution_count": null,
   "metadata": {},
   "outputs": [],
   "source": []
  }
 ],
 "metadata": {
  "kernelspec": {
   "display_name": "Python 3",
   "language": "python",
   "name": "python3"
  },
  "language_info": {
   "codemirror_mode": {
    "name": "ipython",
    "version": 3
   },
   "file_extension": ".py",
   "mimetype": "text/x-python",
   "name": "python",
   "nbconvert_exporter": "python",
   "pygments_lexer": "ipython3",
   "version": "3.6.5"
  }
 },
 "nbformat": 4,
 "nbformat_minor": 4
}
