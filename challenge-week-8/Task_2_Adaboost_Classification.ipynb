{
 "cells": [
  {
   "cell_type": "markdown",
   "metadata": {
    "id": "U_tcuiFmIToA"
   },
   "source": [
    "# Congressional Voting Classification\n",
    "\n",
    "#Objective\n",
    "The main objective is to predict whether congressmen is Democrat or Republican based on voting patterns by using the decision tree with the adaboost.\n",
    "\n",
    "#Adaboost\n",
    "AdaBoost is an ensemble learning method (also known as “meta-learning”) which was initially created to increase the efficiency of binary classifiers. AdaBoost uses an iterative approach to learn from the mistakes of weak classifiers, and turn them into strong ones.\n",
    "\n",
    "\n",
    "#Data Set\n",
    "This data set includes votes for each of the U.S. House of Representatives Congressmen on the 16 key votes identified by the CQA. The CQA lists nine different types of votes: voted for, paired for, and announced for (these three simplified to yea), voted against, paired against, and announced against (these three simplified to nay), voted present, voted present to avoid conflict of interest, and did not vote or otherwise make a position known (these three simplified to an unknown disposition).\n",
    "\n",
    "\n",
    "##Attribute Information:\n",
    "1. Class Name: 2 (democrat, republican)\n",
    "2. handicapped-infants: 2 (y,n)\n",
    "3. water-project-cost-sharing: 2 (y,n)\n",
    "4. adoption-of-the-budget-resolution: 2 (y,n)\n",
    "5. physician-fee-freeze: 2 (y,n)\n",
    "6. el-salvador-aid: 2 (y,n)\n",
    "7. religious-groups-in-schools: 2 (y,n)\n",
    "8. anti-satellite-test-ban: 2 (y,n)\n",
    "9. aid-to-nicaraguan-contras: 2 (y,n)\n",
    "10. mx-missile: 2 (y,n)\n",
    "11. immigration: 2 (y,n)\n",
    "12. synfuels-corporation-cutback: 2 (y,n)\n",
    "13. education-spending: 2 (y,n)\n",
    "14. superfund-right-to-sue: 2 (y,n)\n",
    "15. crime: 2 (y,n)\n",
    "16. duty-free-exports: 2 (y,n)\n",
    "17. export-administration-act-south-africa: 2 (y,n)\n",
    "\n",
    "\n",
    "\n",
    "#Source\n",
    "The dataset can be obtained from the:\n",
    "https://archive.ics.uci.edu/ml/datasets/Congressional+Voting+Records\n",
    "\n",
    "#Tasks:\n",
    "1.\tObtained the dataset\n",
    "2.\tApply pre-processing operations\n",
    "3.\tTrain Adaboost model from scratch and test the model\n",
    "4.\tTrain Adaboost model using sklearn\n",
    "6.\tCompare the performance of Adaboost, Random Forest and Decision Trees\n"
   ]
  },
  {
   "cell_type": "markdown",
   "metadata": {
    "id": "1yGvcerZa0S8"
   },
   "source": [
    "## Part 1: Adaboost from Scratch"
   ]
  },
  {
   "cell_type": "code",
   "execution_count": 15,
   "metadata": {
    "ExecuteTime": {
     "end_time": "2020-09-28T12:15:42.469543Z",
     "start_time": "2020-09-28T12:15:42.439959Z"
    },
    "id": "Duh_Q74qIidS"
   },
   "outputs": [],
   "source": [
    "# Load the libraries\n",
    "import numpy as np\n",
    "import pandas as pd\n",
    "from sklearn.ensemble import RandomForestClassifier,AdaBoostClassifier\n",
    "from sklearn.preprocessing import MinMaxScaler,LabelEncoder\n",
    "from sklearn.model_selection import train_test_split\n",
    "from sklearn.tree import DecisionTreeClassifier\n",
    "from sklearn.metrics import accuracy_score,classification_report\n",
    "import matplotlib.pyplot as plt"
   ]
  },
  {
   "cell_type": "code",
   "execution_count": 16,
   "metadata": {
    "ExecuteTime": {
     "end_time": "2020-09-28T12:15:42.769520Z",
     "start_time": "2020-09-28T12:15:42.729492Z"
    },
    "id": "SyioH2iYIjhk"
   },
   "outputs": [
    {
     "data": {
      "text/html": [
       "<div>\n",
       "<style scoped>\n",
       "    .dataframe tbody tr th:only-of-type {\n",
       "        vertical-align: middle;\n",
       "    }\n",
       "\n",
       "    .dataframe tbody tr th {\n",
       "        vertical-align: top;\n",
       "    }\n",
       "\n",
       "    .dataframe thead th {\n",
       "        text-align: right;\n",
       "    }\n",
       "</style>\n",
       "<table border=\"1\" class=\"dataframe\">\n",
       "  <thead>\n",
       "    <tr style=\"text-align: right;\">\n",
       "      <th></th>\n",
       "      <th>republican</th>\n",
       "      <th>n</th>\n",
       "      <th>y</th>\n",
       "      <th>n.1</th>\n",
       "      <th>y.1</th>\n",
       "      <th>y.2</th>\n",
       "      <th>y.3</th>\n",
       "      <th>n.2</th>\n",
       "      <th>n.3</th>\n",
       "      <th>n.4</th>\n",
       "      <th>y.4</th>\n",
       "      <th>?</th>\n",
       "      <th>y.5</th>\n",
       "      <th>y.6</th>\n",
       "      <th>y.7</th>\n",
       "      <th>n.5</th>\n",
       "      <th>y.8</th>\n",
       "    </tr>\n",
       "  </thead>\n",
       "  <tbody>\n",
       "    <tr>\n",
       "      <th>0</th>\n",
       "      <td>republican</td>\n",
       "      <td>n</td>\n",
       "      <td>y</td>\n",
       "      <td>n</td>\n",
       "      <td>y</td>\n",
       "      <td>y</td>\n",
       "      <td>y</td>\n",
       "      <td>n</td>\n",
       "      <td>n</td>\n",
       "      <td>n</td>\n",
       "      <td>n</td>\n",
       "      <td>n</td>\n",
       "      <td>y</td>\n",
       "      <td>y</td>\n",
       "      <td>y</td>\n",
       "      <td>n</td>\n",
       "      <td>?</td>\n",
       "    </tr>\n",
       "    <tr>\n",
       "      <th>1</th>\n",
       "      <td>democrat</td>\n",
       "      <td>?</td>\n",
       "      <td>y</td>\n",
       "      <td>y</td>\n",
       "      <td>?</td>\n",
       "      <td>y</td>\n",
       "      <td>y</td>\n",
       "      <td>n</td>\n",
       "      <td>n</td>\n",
       "      <td>n</td>\n",
       "      <td>n</td>\n",
       "      <td>y</td>\n",
       "      <td>n</td>\n",
       "      <td>y</td>\n",
       "      <td>y</td>\n",
       "      <td>n</td>\n",
       "      <td>n</td>\n",
       "    </tr>\n",
       "    <tr>\n",
       "      <th>2</th>\n",
       "      <td>democrat</td>\n",
       "      <td>n</td>\n",
       "      <td>y</td>\n",
       "      <td>y</td>\n",
       "      <td>n</td>\n",
       "      <td>?</td>\n",
       "      <td>y</td>\n",
       "      <td>n</td>\n",
       "      <td>n</td>\n",
       "      <td>n</td>\n",
       "      <td>n</td>\n",
       "      <td>y</td>\n",
       "      <td>n</td>\n",
       "      <td>y</td>\n",
       "      <td>n</td>\n",
       "      <td>n</td>\n",
       "      <td>y</td>\n",
       "    </tr>\n",
       "    <tr>\n",
       "      <th>3</th>\n",
       "      <td>democrat</td>\n",
       "      <td>y</td>\n",
       "      <td>y</td>\n",
       "      <td>y</td>\n",
       "      <td>n</td>\n",
       "      <td>y</td>\n",
       "      <td>y</td>\n",
       "      <td>n</td>\n",
       "      <td>n</td>\n",
       "      <td>n</td>\n",
       "      <td>n</td>\n",
       "      <td>y</td>\n",
       "      <td>?</td>\n",
       "      <td>y</td>\n",
       "      <td>y</td>\n",
       "      <td>y</td>\n",
       "      <td>y</td>\n",
       "    </tr>\n",
       "    <tr>\n",
       "      <th>4</th>\n",
       "      <td>democrat</td>\n",
       "      <td>n</td>\n",
       "      <td>y</td>\n",
       "      <td>y</td>\n",
       "      <td>n</td>\n",
       "      <td>y</td>\n",
       "      <td>y</td>\n",
       "      <td>n</td>\n",
       "      <td>n</td>\n",
       "      <td>n</td>\n",
       "      <td>n</td>\n",
       "      <td>n</td>\n",
       "      <td>n</td>\n",
       "      <td>y</td>\n",
       "      <td>y</td>\n",
       "      <td>y</td>\n",
       "      <td>y</td>\n",
       "    </tr>\n",
       "  </tbody>\n",
       "</table>\n",
       "</div>"
      ],
      "text/plain": [
       "   republican  n  y n.1 y.1 y.2 y.3 n.2 n.3 n.4 y.4  ? y.5 y.6 y.7 n.5 y.8\n",
       "0  republican  n  y   n   y   y   y   n   n   n   n  n   y   y   y   n   ?\n",
       "1    democrat  ?  y   y   ?   y   y   n   n   n   n  y   n   y   y   n   n\n",
       "2    democrat  n  y   y   n   ?   y   n   n   n   n  y   n   y   n   n   y\n",
       "3    democrat  y  y   y   n   y   y   n   n   n   n  y   ?   y   y   y   y\n",
       "4    democrat  n  y   y   n   y   y   n   n   n   n  n   n   y   y   y   y"
      ]
     },
     "execution_count": 16,
     "metadata": {},
     "output_type": "execute_result"
    }
   ],
   "source": [
    "# Load the dataset \n",
    "df=pd.read_table('house-votes-84.data',sep=',')\n",
    "df.head()"
   ]
  },
  {
   "cell_type": "code",
   "execution_count": 18,
   "metadata": {
    "ExecuteTime": {
     "end_time": "2020-09-28T12:16:18.839345Z",
     "start_time": "2020-09-28T12:16:18.779346Z"
    },
    "id": "vtfupr9JInhf"
   },
   "outputs": [
    {
     "data": {
      "text/html": [
       "<div>\n",
       "<style scoped>\n",
       "    .dataframe tbody tr th:only-of-type {\n",
       "        vertical-align: middle;\n",
       "    }\n",
       "\n",
       "    .dataframe tbody tr th {\n",
       "        vertical-align: top;\n",
       "    }\n",
       "\n",
       "    .dataframe thead th {\n",
       "        text-align: right;\n",
       "    }\n",
       "</style>\n",
       "<table border=\"1\" class=\"dataframe\">\n",
       "  <thead>\n",
       "    <tr style=\"text-align: right;\">\n",
       "      <th></th>\n",
       "      <th>republican</th>\n",
       "      <th>n</th>\n",
       "      <th>y</th>\n",
       "      <th>n.1</th>\n",
       "      <th>y.1</th>\n",
       "      <th>y.2</th>\n",
       "      <th>y.3</th>\n",
       "      <th>n.2</th>\n",
       "      <th>n.3</th>\n",
       "      <th>n.4</th>\n",
       "      <th>y.4</th>\n",
       "      <th>?</th>\n",
       "      <th>y.5</th>\n",
       "      <th>y.6</th>\n",
       "      <th>y.7</th>\n",
       "      <th>n.5</th>\n",
       "      <th>y.8</th>\n",
       "    </tr>\n",
       "  </thead>\n",
       "  <tbody>\n",
       "    <tr>\n",
       "      <th>0</th>\n",
       "      <td>1.0</td>\n",
       "      <td>1.0</td>\n",
       "      <td>2.0</td>\n",
       "      <td>1.0</td>\n",
       "      <td>2.0</td>\n",
       "      <td>2.0</td>\n",
       "      <td>2.0</td>\n",
       "      <td>1.0</td>\n",
       "      <td>1.0</td>\n",
       "      <td>1.0</td>\n",
       "      <td>1.0</td>\n",
       "      <td>1.0</td>\n",
       "      <td>2.0</td>\n",
       "      <td>2.0</td>\n",
       "      <td>2.0</td>\n",
       "      <td>1.0</td>\n",
       "      <td>0.0</td>\n",
       "    </tr>\n",
       "    <tr>\n",
       "      <th>1</th>\n",
       "      <td>0.0</td>\n",
       "      <td>0.0</td>\n",
       "      <td>2.0</td>\n",
       "      <td>2.0</td>\n",
       "      <td>0.0</td>\n",
       "      <td>2.0</td>\n",
       "      <td>2.0</td>\n",
       "      <td>1.0</td>\n",
       "      <td>1.0</td>\n",
       "      <td>1.0</td>\n",
       "      <td>1.0</td>\n",
       "      <td>2.0</td>\n",
       "      <td>1.0</td>\n",
       "      <td>2.0</td>\n",
       "      <td>2.0</td>\n",
       "      <td>1.0</td>\n",
       "      <td>1.0</td>\n",
       "    </tr>\n",
       "    <tr>\n",
       "      <th>2</th>\n",
       "      <td>0.0</td>\n",
       "      <td>1.0</td>\n",
       "      <td>2.0</td>\n",
       "      <td>2.0</td>\n",
       "      <td>1.0</td>\n",
       "      <td>0.0</td>\n",
       "      <td>2.0</td>\n",
       "      <td>1.0</td>\n",
       "      <td>1.0</td>\n",
       "      <td>1.0</td>\n",
       "      <td>1.0</td>\n",
       "      <td>2.0</td>\n",
       "      <td>1.0</td>\n",
       "      <td>2.0</td>\n",
       "      <td>1.0</td>\n",
       "      <td>1.0</td>\n",
       "      <td>2.0</td>\n",
       "    </tr>\n",
       "    <tr>\n",
       "      <th>3</th>\n",
       "      <td>0.0</td>\n",
       "      <td>2.0</td>\n",
       "      <td>2.0</td>\n",
       "      <td>2.0</td>\n",
       "      <td>1.0</td>\n",
       "      <td>2.0</td>\n",
       "      <td>2.0</td>\n",
       "      <td>1.0</td>\n",
       "      <td>1.0</td>\n",
       "      <td>1.0</td>\n",
       "      <td>1.0</td>\n",
       "      <td>2.0</td>\n",
       "      <td>0.0</td>\n",
       "      <td>2.0</td>\n",
       "      <td>2.0</td>\n",
       "      <td>2.0</td>\n",
       "      <td>2.0</td>\n",
       "    </tr>\n",
       "    <tr>\n",
       "      <th>4</th>\n",
       "      <td>0.0</td>\n",
       "      <td>1.0</td>\n",
       "      <td>2.0</td>\n",
       "      <td>2.0</td>\n",
       "      <td>1.0</td>\n",
       "      <td>2.0</td>\n",
       "      <td>2.0</td>\n",
       "      <td>1.0</td>\n",
       "      <td>1.0</td>\n",
       "      <td>1.0</td>\n",
       "      <td>1.0</td>\n",
       "      <td>1.0</td>\n",
       "      <td>1.0</td>\n",
       "      <td>2.0</td>\n",
       "      <td>2.0</td>\n",
       "      <td>2.0</td>\n",
       "      <td>2.0</td>\n",
       "    </tr>\n",
       "  </tbody>\n",
       "</table>\n",
       "</div>"
      ],
      "text/plain": [
       "   republican    n    y  n.1  y.1  y.2  y.3  n.2  n.3  n.4  y.4    ?  y.5  \\\n",
       "0         1.0  1.0  2.0  1.0  2.0  2.0  2.0  1.0  1.0  1.0  1.0  1.0  2.0   \n",
       "1         0.0  0.0  2.0  2.0  0.0  2.0  2.0  1.0  1.0  1.0  1.0  2.0  1.0   \n",
       "2         0.0  1.0  2.0  2.0  1.0  0.0  2.0  1.0  1.0  1.0  1.0  2.0  1.0   \n",
       "3         0.0  2.0  2.0  2.0  1.0  2.0  2.0  1.0  1.0  1.0  1.0  2.0  0.0   \n",
       "4         0.0  1.0  2.0  2.0  1.0  2.0  2.0  1.0  1.0  1.0  1.0  1.0  1.0   \n",
       "\n",
       "   y.6  y.7  n.5  y.8  \n",
       "0  2.0  2.0  1.0  0.0  \n",
       "1  2.0  2.0  1.0  1.0  \n",
       "2  2.0  1.0  1.0  2.0  \n",
       "3  2.0  2.0  2.0  2.0  \n",
       "4  2.0  2.0  2.0  2.0  "
      ]
     },
     "execution_count": 18,
     "metadata": {},
     "output_type": "execute_result"
    }
   ],
   "source": [
    "# Preprocessing\n",
    "# Encoding categorical variables (if any)\n",
    "# Feature Scaling\n",
    "# Filling missing values (if any)\n",
    "cols=df.columns\n",
    "enc=LabelEncoder()\n",
    "for i in range(0,len(df.columns)):\n",
    "    df.iloc[:,i]=enc.fit_transform(df.iloc[:,i])\n",
    "from sklearn.impute import SimpleImputer\n",
    "imp=SimpleImputer(missing_values=3,strategy='mean')\n",
    "df=pd.DataFrame(imp.fit_transform(df),columns=cols)\n",
    "df.head()"
   ]
  },
  {
   "cell_type": "code",
   "execution_count": 19,
   "metadata": {
    "ExecuteTime": {
     "end_time": "2020-09-28T12:16:28.699285Z",
     "start_time": "2020-09-28T12:16:28.649314Z"
    }
   },
   "outputs": [
    {
     "data": {
      "text/html": [
       "<div>\n",
       "<style scoped>\n",
       "    .dataframe tbody tr th:only-of-type {\n",
       "        vertical-align: middle;\n",
       "    }\n",
       "\n",
       "    .dataframe tbody tr th {\n",
       "        vertical-align: top;\n",
       "    }\n",
       "\n",
       "    .dataframe thead th {\n",
       "        text-align: right;\n",
       "    }\n",
       "</style>\n",
       "<table border=\"1\" class=\"dataframe\">\n",
       "  <thead>\n",
       "    <tr style=\"text-align: right;\">\n",
       "      <th></th>\n",
       "      <th>republican</th>\n",
       "      <th>n</th>\n",
       "      <th>y</th>\n",
       "      <th>n.1</th>\n",
       "      <th>y.1</th>\n",
       "      <th>y.2</th>\n",
       "      <th>y.3</th>\n",
       "      <th>n.2</th>\n",
       "      <th>n.3</th>\n",
       "      <th>n.4</th>\n",
       "      <th>y.4</th>\n",
       "      <th>?</th>\n",
       "      <th>y.5</th>\n",
       "      <th>y.6</th>\n",
       "      <th>y.7</th>\n",
       "      <th>n.5</th>\n",
       "      <th>y.8</th>\n",
       "    </tr>\n",
       "  </thead>\n",
       "  <tbody>\n",
       "    <tr>\n",
       "      <th>0</th>\n",
       "      <td>1.0</td>\n",
       "      <td>1.0</td>\n",
       "      <td>2.0</td>\n",
       "      <td>1.0</td>\n",
       "      <td>2.0</td>\n",
       "      <td>2.0</td>\n",
       "      <td>2.0</td>\n",
       "      <td>1.0</td>\n",
       "      <td>1.0</td>\n",
       "      <td>1.0</td>\n",
       "      <td>1.0</td>\n",
       "      <td>1.0</td>\n",
       "      <td>2.0</td>\n",
       "      <td>2.0</td>\n",
       "      <td>2.0</td>\n",
       "      <td>1.0</td>\n",
       "      <td>0.0</td>\n",
       "    </tr>\n",
       "    <tr>\n",
       "      <th>1</th>\n",
       "      <td>0.0</td>\n",
       "      <td>0.0</td>\n",
       "      <td>2.0</td>\n",
       "      <td>2.0</td>\n",
       "      <td>0.0</td>\n",
       "      <td>2.0</td>\n",
       "      <td>2.0</td>\n",
       "      <td>1.0</td>\n",
       "      <td>1.0</td>\n",
       "      <td>1.0</td>\n",
       "      <td>1.0</td>\n",
       "      <td>2.0</td>\n",
       "      <td>1.0</td>\n",
       "      <td>2.0</td>\n",
       "      <td>2.0</td>\n",
       "      <td>1.0</td>\n",
       "      <td>1.0</td>\n",
       "    </tr>\n",
       "    <tr>\n",
       "      <th>2</th>\n",
       "      <td>0.0</td>\n",
       "      <td>1.0</td>\n",
       "      <td>2.0</td>\n",
       "      <td>2.0</td>\n",
       "      <td>1.0</td>\n",
       "      <td>0.0</td>\n",
       "      <td>2.0</td>\n",
       "      <td>1.0</td>\n",
       "      <td>1.0</td>\n",
       "      <td>1.0</td>\n",
       "      <td>1.0</td>\n",
       "      <td>2.0</td>\n",
       "      <td>1.0</td>\n",
       "      <td>2.0</td>\n",
       "      <td>1.0</td>\n",
       "      <td>1.0</td>\n",
       "      <td>2.0</td>\n",
       "    </tr>\n",
       "    <tr>\n",
       "      <th>3</th>\n",
       "      <td>0.0</td>\n",
       "      <td>2.0</td>\n",
       "      <td>2.0</td>\n",
       "      <td>2.0</td>\n",
       "      <td>1.0</td>\n",
       "      <td>2.0</td>\n",
       "      <td>2.0</td>\n",
       "      <td>1.0</td>\n",
       "      <td>1.0</td>\n",
       "      <td>1.0</td>\n",
       "      <td>1.0</td>\n",
       "      <td>2.0</td>\n",
       "      <td>0.0</td>\n",
       "      <td>2.0</td>\n",
       "      <td>2.0</td>\n",
       "      <td>2.0</td>\n",
       "      <td>2.0</td>\n",
       "    </tr>\n",
       "    <tr>\n",
       "      <th>4</th>\n",
       "      <td>0.0</td>\n",
       "      <td>1.0</td>\n",
       "      <td>2.0</td>\n",
       "      <td>2.0</td>\n",
       "      <td>1.0</td>\n",
       "      <td>2.0</td>\n",
       "      <td>2.0</td>\n",
       "      <td>1.0</td>\n",
       "      <td>1.0</td>\n",
       "      <td>1.0</td>\n",
       "      <td>1.0</td>\n",
       "      <td>1.0</td>\n",
       "      <td>1.0</td>\n",
       "      <td>2.0</td>\n",
       "      <td>2.0</td>\n",
       "      <td>2.0</td>\n",
       "      <td>2.0</td>\n",
       "    </tr>\n",
       "    <tr>\n",
       "      <th>...</th>\n",
       "      <td>...</td>\n",
       "      <td>...</td>\n",
       "      <td>...</td>\n",
       "      <td>...</td>\n",
       "      <td>...</td>\n",
       "      <td>...</td>\n",
       "      <td>...</td>\n",
       "      <td>...</td>\n",
       "      <td>...</td>\n",
       "      <td>...</td>\n",
       "      <td>...</td>\n",
       "      <td>...</td>\n",
       "      <td>...</td>\n",
       "      <td>...</td>\n",
       "      <td>...</td>\n",
       "      <td>...</td>\n",
       "      <td>...</td>\n",
       "    </tr>\n",
       "    <tr>\n",
       "      <th>429</th>\n",
       "      <td>1.0</td>\n",
       "      <td>1.0</td>\n",
       "      <td>1.0</td>\n",
       "      <td>2.0</td>\n",
       "      <td>2.0</td>\n",
       "      <td>2.0</td>\n",
       "      <td>2.0</td>\n",
       "      <td>1.0</td>\n",
       "      <td>1.0</td>\n",
       "      <td>2.0</td>\n",
       "      <td>2.0</td>\n",
       "      <td>1.0</td>\n",
       "      <td>2.0</td>\n",
       "      <td>2.0</td>\n",
       "      <td>2.0</td>\n",
       "      <td>1.0</td>\n",
       "      <td>2.0</td>\n",
       "    </tr>\n",
       "    <tr>\n",
       "      <th>430</th>\n",
       "      <td>0.0</td>\n",
       "      <td>1.0</td>\n",
       "      <td>1.0</td>\n",
       "      <td>2.0</td>\n",
       "      <td>1.0</td>\n",
       "      <td>1.0</td>\n",
       "      <td>1.0</td>\n",
       "      <td>2.0</td>\n",
       "      <td>2.0</td>\n",
       "      <td>2.0</td>\n",
       "      <td>2.0</td>\n",
       "      <td>1.0</td>\n",
       "      <td>1.0</td>\n",
       "      <td>1.0</td>\n",
       "      <td>1.0</td>\n",
       "      <td>1.0</td>\n",
       "      <td>2.0</td>\n",
       "    </tr>\n",
       "    <tr>\n",
       "      <th>431</th>\n",
       "      <td>1.0</td>\n",
       "      <td>1.0</td>\n",
       "      <td>0.0</td>\n",
       "      <td>1.0</td>\n",
       "      <td>2.0</td>\n",
       "      <td>2.0</td>\n",
       "      <td>2.0</td>\n",
       "      <td>1.0</td>\n",
       "      <td>1.0</td>\n",
       "      <td>1.0</td>\n",
       "      <td>1.0</td>\n",
       "      <td>2.0</td>\n",
       "      <td>2.0</td>\n",
       "      <td>2.0</td>\n",
       "      <td>2.0</td>\n",
       "      <td>1.0</td>\n",
       "      <td>2.0</td>\n",
       "    </tr>\n",
       "    <tr>\n",
       "      <th>432</th>\n",
       "      <td>1.0</td>\n",
       "      <td>1.0</td>\n",
       "      <td>1.0</td>\n",
       "      <td>1.0</td>\n",
       "      <td>2.0</td>\n",
       "      <td>2.0</td>\n",
       "      <td>2.0</td>\n",
       "      <td>0.0</td>\n",
       "      <td>0.0</td>\n",
       "      <td>0.0</td>\n",
       "      <td>0.0</td>\n",
       "      <td>1.0</td>\n",
       "      <td>2.0</td>\n",
       "      <td>2.0</td>\n",
       "      <td>2.0</td>\n",
       "      <td>1.0</td>\n",
       "      <td>2.0</td>\n",
       "    </tr>\n",
       "    <tr>\n",
       "      <th>433</th>\n",
       "      <td>1.0</td>\n",
       "      <td>1.0</td>\n",
       "      <td>2.0</td>\n",
       "      <td>1.0</td>\n",
       "      <td>2.0</td>\n",
       "      <td>2.0</td>\n",
       "      <td>2.0</td>\n",
       "      <td>1.0</td>\n",
       "      <td>1.0</td>\n",
       "      <td>1.0</td>\n",
       "      <td>2.0</td>\n",
       "      <td>1.0</td>\n",
       "      <td>2.0</td>\n",
       "      <td>2.0</td>\n",
       "      <td>2.0</td>\n",
       "      <td>0.0</td>\n",
       "      <td>1.0</td>\n",
       "    </tr>\n",
       "  </tbody>\n",
       "</table>\n",
       "<p>341 rows × 17 columns</p>\n",
       "</div>"
      ],
      "text/plain": [
       "     republican    n    y  n.1  y.1  y.2  y.3  n.2  n.3  n.4  y.4    ?  y.5  \\\n",
       "0           1.0  1.0  2.0  1.0  2.0  2.0  2.0  1.0  1.0  1.0  1.0  1.0  2.0   \n",
       "1           0.0  0.0  2.0  2.0  0.0  2.0  2.0  1.0  1.0  1.0  1.0  2.0  1.0   \n",
       "2           0.0  1.0  2.0  2.0  1.0  0.0  2.0  1.0  1.0  1.0  1.0  2.0  1.0   \n",
       "3           0.0  2.0  2.0  2.0  1.0  2.0  2.0  1.0  1.0  1.0  1.0  2.0  0.0   \n",
       "4           0.0  1.0  2.0  2.0  1.0  2.0  2.0  1.0  1.0  1.0  1.0  1.0  1.0   \n",
       "..          ...  ...  ...  ...  ...  ...  ...  ...  ...  ...  ...  ...  ...   \n",
       "429         1.0  1.0  1.0  2.0  2.0  2.0  2.0  1.0  1.0  2.0  2.0  1.0  2.0   \n",
       "430         0.0  1.0  1.0  2.0  1.0  1.0  1.0  2.0  2.0  2.0  2.0  1.0  1.0   \n",
       "431         1.0  1.0  0.0  1.0  2.0  2.0  2.0  1.0  1.0  1.0  1.0  2.0  2.0   \n",
       "432         1.0  1.0  1.0  1.0  2.0  2.0  2.0  0.0  0.0  0.0  0.0  1.0  2.0   \n",
       "433         1.0  1.0  2.0  1.0  2.0  2.0  2.0  1.0  1.0  1.0  2.0  1.0  2.0   \n",
       "\n",
       "     y.6  y.7  n.5  y.8  \n",
       "0    2.0  2.0  1.0  0.0  \n",
       "1    2.0  2.0  1.0  1.0  \n",
       "2    2.0  1.0  1.0  2.0  \n",
       "3    2.0  2.0  2.0  2.0  \n",
       "4    2.0  2.0  2.0  2.0  \n",
       "..   ...  ...  ...  ...  \n",
       "429  2.0  2.0  1.0  2.0  \n",
       "430  1.0  1.0  1.0  2.0  \n",
       "431  2.0  2.0  1.0  2.0  \n",
       "432  2.0  2.0  1.0  2.0  \n",
       "433  2.0  2.0  0.0  1.0  \n",
       "\n",
       "[341 rows x 17 columns]"
      ]
     },
     "execution_count": 19,
     "metadata": {},
     "output_type": "execute_result"
    }
   ],
   "source": [
    "df=df.drop_duplicates()\n",
    "df"
   ]
  },
  {
   "cell_type": "code",
   "execution_count": 27,
   "metadata": {
    "ExecuteTime": {
     "end_time": "2020-09-28T12:22:42.299285Z",
     "start_time": "2020-09-28T12:22:42.283243Z"
    },
    "id": "13owZH7mIpZp"
   },
   "outputs": [],
   "source": [
    "# Divide the dataset to training and testing set\n",
    "X=df.drop(columns='republican')\n",
    "y=df['republican']\n",
    "y.replace(to_replace=0,value=-1,inplace=True)\n",
    "y.replace(to_replace=1,value=1,inplace=True)\n",
    "X_train, X_test, y_train, y_test = train_test_split(X, y, test_size=0.3, random_state=42)"
   ]
  },
  {
   "cell_type": "code",
   "execution_count": 41,
   "metadata": {
    "ExecuteTime": {
     "end_time": "2020-09-28T12:38:59.491955Z",
     "start_time": "2020-09-28T12:38:59.465320Z"
    }
   },
   "outputs": [
    {
     "data": {
      "text/plain": [
       "36     1.0\n",
       "391    1.0\n",
       "290   -1.0\n",
       "218   -1.0\n",
       "316   -1.0\n",
       "      ... \n",
       "233   -1.0\n",
       "84    -1.0\n",
       "130   -1.0\n",
       "350    1.0\n",
       "126   -1.0\n",
       "Name: republican, Length: 238, dtype: float64"
      ]
     },
     "execution_count": 41,
     "metadata": {},
     "output_type": "execute_result"
    }
   ],
   "source": [
    "y_train"
   ]
  },
  {
   "cell_type": "code",
   "execution_count": 77,
   "metadata": {
    "ExecuteTime": {
     "end_time": "2020-09-28T12:52:31.229761Z",
     "start_time": "2020-09-28T12:52:31.200273Z"
    }
   },
   "outputs": [
    {
     "data": {
      "text/plain": [
       "92"
      ]
     },
     "execution_count": 77,
     "metadata": {},
     "output_type": "execute_result"
    }
   ],
   "source": [
    "np.sum(np.where([y_train==1.0,model.predict(X_train)==1.0])[0]==1)"
   ]
  },
  {
   "cell_type": "code",
   "execution_count": 85,
   "metadata": {
    "ExecuteTime": {
     "end_time": "2020-09-28T13:13:15.704263Z",
     "start_time": "2020-09-28T13:13:15.303582Z"
    },
    "id": "-KEJ1BB8a5xQ"
   },
   "outputs": [],
   "source": [
    "# Implement Adaboost model from scratch\n",
    "# Adaboost consist of stumps which can be created using builtin decision trees in sklearn\n",
    "# Stump can be trained by keeping the max_depth as 1\n",
    "n=X_train.shape[0]\n",
    "initw=np.zeros((100, n))\n",
    "stumps=np.zeros((100,),dtype=object)\n",
    "stumpsw=np.zeros((100,))\n",
    "errors=np.zeros((100,))\n",
    "initw[0]=np.ones((n,))/n\n",
    "for i in range(100):\n",
    "    weights=initw[i]\n",
    "    stump=DecisionTreeClassifier(max_depth=1)\n",
    "    stump=stump.fit(X_train,y_train,sample_weight=weights)\n",
    "    stpred=stump.predict(X_train)\n",
    "    err=weights[(stpred!=y_train)].sum()\n",
    "    stumpswe=np.log((1-err)/err)/2\n",
    "    newweights=weights*np.exp(-stumpswe*y_train*stpred)\n",
    "    newweights=newweights/newweights.sum()\n",
    "    if(i+1<100):\n",
    "        initw[i+1]=newweights\n",
    "    stumps[i]=stump\n",
    "    stumpsw[i]=stumpswe\n",
    "    errors[i]=err\n",
    "    "
   ]
  },
  {
   "cell_type": "code",
   "execution_count": 93,
   "metadata": {
    "ExecuteTime": {
     "end_time": "2020-09-28T13:17:43.123107Z",
     "start_time": "2020-09-28T13:17:42.833392Z"
    },
    "id": "jOIhehoYbSsJ"
   },
   "outputs": [],
   "source": [
    "# Train the model and test the model\n",
    "stumppreds = np.array([stump.predict(X_train) for stump in stumps])\n",
    "y_pred_train=np.sign(np.dot(stumpsw, stumppreds))\n",
    "stumppreds = np.array([stump.predict(X_test) for stump in stumps])\n",
    "y_pred_test=np.sign(np.dot(stumpsw, stumppreds))"
   ]
  },
  {
   "cell_type": "code",
   "execution_count": 94,
   "metadata": {
    "ExecuteTime": {
     "end_time": "2020-09-28T13:17:49.002687Z",
     "start_time": "2020-09-28T13:17:48.986732Z"
    },
    "id": "XUBOrqrbbX-u"
   },
   "outputs": [
    {
     "name": "stdout",
     "output_type": "stream",
     "text": [
      "              precision    recall  f1-score   support\n",
      "\n",
      "        -1.0       1.00      1.00      1.00       152\n",
      "         1.0       1.00      1.00      1.00        86\n",
      "\n",
      "    accuracy                           1.00       238\n",
      "   macro avg       1.00      1.00      1.00       238\n",
      "weighted avg       1.00      1.00      1.00       238\n",
      "\n",
      "\n",
      "              precision    recall  f1-score   support\n",
      "\n",
      "        -1.0       0.93      0.95      0.94        73\n",
      "         1.0       0.86      0.83      0.85        30\n",
      "\n",
      "    accuracy                           0.91       103\n",
      "   macro avg       0.90      0.89      0.89       103\n",
      "weighted avg       0.91      0.91      0.91       103\n",
      "\n"
     ]
    }
   ],
   "source": [
    "# Evaluate the results using accuracy, precision, recall and f-measure\n",
    "print(classification_report(y_train,y_pred_train))\n",
    "print()\n",
    "print(classification_report(y_test,y_pred_test))"
   ]
  },
  {
   "cell_type": "markdown",
   "metadata": {
    "id": "9hZF7xcjbdAF"
   },
   "source": [
    "## Part 2: Adaboost using Sklearn"
   ]
  },
  {
   "cell_type": "code",
   "execution_count": 9,
   "metadata": {
    "ExecuteTime": {
     "end_time": "2020-09-28T12:12:03.730675Z",
     "start_time": "2020-09-28T12:12:03.710850Z"
    },
    "id": "1DSX6JMEbfss"
   },
   "outputs": [
    {
     "data": {
      "text/plain": [
       "(238, 16)"
      ]
     },
     "execution_count": 9,
     "metadata": {},
     "output_type": "execute_result"
    }
   ],
   "source": [
    "# Use the preprocessed dataset here\n",
    "X_train.shape"
   ]
  },
  {
   "cell_type": "code",
   "execution_count": 25,
   "metadata": {
    "ExecuteTime": {
     "end_time": "2020-09-28T12:17:28.559192Z",
     "start_time": "2020-09-28T12:17:28.449308Z"
    },
    "id": "2yqNwnVCbkxG"
   },
   "outputs": [
    {
     "data": {
      "text/plain": [
       "AdaBoostClassifier()"
      ]
     },
     "execution_count": 25,
     "metadata": {},
     "output_type": "execute_result"
    }
   ],
   "source": [
    "# Train the Adaboost Model using builtin Sklearn Dataset\n",
    "\n",
    "model=AdaBoostClassifier()\n",
    "model.fit(X_train,y_train)"
   ]
  },
  {
   "cell_type": "code",
   "execution_count": 26,
   "metadata": {
    "ExecuteTime": {
     "end_time": "2020-09-28T12:17:29.399624Z",
     "start_time": "2020-09-28T12:17:29.361381Z"
    },
    "id": "eB_I4407bns6"
   },
   "outputs": [
    {
     "name": "stdout",
     "output_type": "stream",
     "text": [
      "              precision    recall  f1-score   support\n",
      "\n",
      "         0.0       0.93      0.93      0.93        73\n",
      "         1.0       0.83      0.83      0.83        30\n",
      "\n",
      "    accuracy                           0.90       103\n",
      "   macro avg       0.88      0.88      0.88       103\n",
      "weighted avg       0.90      0.90      0.90       103\n",
      "\n"
     ]
    }
   ],
   "source": [
    "# Test the model with testing set and print the accuracy, precision, recall and f-measure\n",
    "print(classification_report(y_test,model.predict(X_test)))"
   ]
  },
  {
   "cell_type": "code",
   "execution_count": 30,
   "metadata": {
    "ExecuteTime": {
     "end_time": "2020-09-28T12:25:04.039175Z",
     "start_time": "2020-09-28T12:25:04.029195Z"
    },
    "id": "aK086juobpRo"
   },
   "outputs": [
    {
     "name": "stdout",
     "output_type": "stream",
     "text": [
      "16\n"
     ]
    }
   ],
   "source": [
    "# Play with parameters such as\n",
    "# number of decision trees\n",
    "# Criterion for splitting\n",
    "# Max depth\n",
    "# Minimum samples per split and leaf\n"
   ]
  },
  {
   "cell_type": "markdown",
   "metadata": {
    "id": "08GzOdPKbqPg"
   },
   "source": [
    "## Part 3: Compare the models"
   ]
  },
  {
   "cell_type": "code",
   "execution_count": null,
   "metadata": {
    "id": "Kr91M76xbtc0"
   },
   "outputs": [],
   "source": [
    "# Train Adaboost, Random Forest and Decision tree models from sklearn\n",
    "\n"
   ]
  },
  {
   "cell_type": "code",
   "execution_count": null,
   "metadata": {
    "id": "LPPI9vK_bzLz"
   },
   "outputs": [],
   "source": [
    "# Run the model on testing set\n",
    "\n"
   ]
  },
  {
   "cell_type": "code",
   "execution_count": null,
   "metadata": {
    "id": "mdSk17pkb25Q"
   },
   "outputs": [],
   "source": [
    "# Compare their accuracy, precision, recall and f-measure\n",
    "\n"
   ]
  }
 ],
 "metadata": {
  "colab": {
   "collapsed_sections": [],
   "name": "Task 2 - Adaboost Classification.ipynb",
   "provenance": []
  },
  "kernelspec": {
   "display_name": "Python 3",
   "language": "python",
   "name": "python3"
  },
  "language_info": {
   "codemirror_mode": {
    "name": "ipython",
    "version": 3
   },
   "file_extension": ".py",
   "mimetype": "text/x-python",
   "name": "python",
   "nbconvert_exporter": "python",
   "pygments_lexer": "ipython3",
   "version": "3.8.5"
  },
  "varInspector": {
   "cols": {
    "lenName": 16,
    "lenType": 16,
    "lenVar": 40
   },
   "kernels_config": {
    "python": {
     "delete_cmd_postfix": "",
     "delete_cmd_prefix": "del ",
     "library": "var_list.py",
     "varRefreshCmd": "print(var_dic_list())"
    },
    "r": {
     "delete_cmd_postfix": ") ",
     "delete_cmd_prefix": "rm(",
     "library": "var_list.r",
     "varRefreshCmd": "cat(var_dic_list()) "
    }
   },
   "types_to_exclude": [
    "module",
    "function",
    "builtin_function_or_method",
    "instance",
    "_Feature"
   ],
   "window_display": false
  }
 },
 "nbformat": 4,
 "nbformat_minor": 1
}
