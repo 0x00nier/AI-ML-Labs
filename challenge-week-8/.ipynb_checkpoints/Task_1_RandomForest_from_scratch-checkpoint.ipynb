{
 "cells": [
  {
   "cell_type": "markdown",
   "metadata": {
    "id": "m5A6n7jvYxPC"
   },
   "source": [
    "# Vehicle silhouettes\n",
    "\n",
    "## Objective\n",
    "To classify a given silhouette as one of four types of vehicle, \tusing a set of features extracted from the silhouette. The \tvehicle may be viewed from one of many different angles.   \n",
    "\n",
    "## Description\n",
    "\n",
    "### The features were extracted from the silhouettes by the HIPS\n",
    "(Hierarchical Image Processing System) extension BINATTS, which extracts a combination of scale independent features utilising\tboth classical moments based measures such as scaled variance,\tskewness and kurtosis about the major/minor axes and heuristic\tmeasures such as hollows, circularity, rectangularity and\tcompactness. Four \"Corgie\" model vehicles were used for the experiment: a double decker bus, Cheverolet van, Saab 9000 and an Opel Manta 400.\tThis particular combination of vehicles was chosen with the expectation that the bus, van and either one of the cars would be readily distinguishable, but it would be more difficult to distinguish between the cars.\n",
    "\t\n",
    "## Source: https://www.kaggle.com/rajansharma780/vehicle\n",
    "\n",
    "## ATTRIBUTES\n",
    "1.\tcompactness\tfloat\taverage perimeter**2/area\n",
    "2.\tcircularity\tfloat\taverage radius**2/area\n",
    "3.\tdistance_circularity\tfloat\tarea/(av.distance from border)**2\n",
    "4.\tradius_ratio\tfloat\t(max.rad-min.rad)/av.radius\n",
    "5.\tpr_axis_aspect_ratio\tfloat\t(minor axis)/(major axis)\n",
    "6.\tmax_length_aspect_ratio\tfloat\t(length perp. max length)/(max length)\n",
    "7.\tscatter_ratio\tfloat\t(inertia about minor axis)/(inertia about major axis)\n",
    "8.\telongatedness\tfloat\tarea/(shrink width)**2\n",
    "9.\tpr_axis_rectangularity\tfloat\tarea/(pr.axis length*pr.axis width)\n",
    "10.\tmax_length_rectangularity\tfloat\tarea/(max.length*length perp. to this)\n",
    "11.\tscaled_variance_major_axis\tfloat\t(2nd order moment about minor axis)/area\n",
    "12.\tscaled_variance_minor_axis\tfloat\t(2nd order moment about major axis)/area\n",
    "13.\tscaled_radius_gyration\tfloat\t(mavar+mivar)/area\n",
    "14.\tskewness_major_axis\tfloat\t(3rd order moment about major axis)/sigma_min**3\n",
    "15.\tskewness_minor_axis\tfloat\t(3rd order moment about minor axis)/sigma_maj**3\n",
    "16.\tkurtosis_minor_axis\tfloat\t(4th order moment about major axis)/sigma_min**4\n",
    "17.\tkurtosis_major_axis\tfloat\t(4th order moment about minor axis)/sigma_maj**4\n",
    "18.\thollows_ratio\tfloat\t(area of hollows)/(area of bounding polygon)\n",
    "\n",
    "## Target variable\n",
    "19.\tvehicle_class\tstring\tPredictor Class. Values: Opel, Saab, Bus, Van\t\n",
    "\n",
    "# Tasks:\n",
    "1.\tObtain the multi-class dataset from the given link\n",
    "2.\tLoad the dataset\n",
    "3.\tApply pre-processing techniques: Encoding, Scaling\n",
    "4.\tDivide the dataset into training (70%) and testing (30%)\n",
    "5.\tBuild your own random forest model from scratch (using invidual decision tree model from sklearn)\n",
    "6.\tTrain the random forest model\n",
    "7.\tTest the random forest model\n",
    "8.\tTrain and test the random forest model using sklearn.\n",
    "9.\tCompare the performance of both the models\n",
    "\n",
    "## Useful links:\n",
    "https://machinelearningmastery.com/implement-random-forest-scratch-python/\n",
    "\n",
    "https://towardsdatascience.com/random-forests-and-decision-trees-from-scratch-in-python-3e4fa5ae4249\n",
    "\n",
    "https://www.analyticsvidhya.com/blog/2018/12/building-a-random-forest-from-scratch-understanding-real-world-data-products-ml-for-programmers-part-3/"
   ]
  },
  {
   "cell_type": "markdown",
   "metadata": {
    "id": "W-FoSpD3QDP4"
   },
   "source": [
    "# Part 1: Random Forest from scratch\n",
    "\n",
    "Random forests are an ensemble learning method for classification and regression that operate by constructing multiple decision trees at training time and outputting the class that is the mode of the classes (classification) or mean prediction (regression) of the individual trees."
   ]
  },
  {
   "cell_type": "code",
   "execution_count": 184,
   "metadata": {
    "ExecuteTime": {
     "end_time": "2020-09-28T08:29:22.832424Z",
     "start_time": "2020-09-28T08:29:22.822282Z"
    },
    "id": "4q0F2HVFPl0R"
   },
   "outputs": [],
   "source": [
    "# Load the libraries\n",
    "import numpy as np\n",
    "import pandas as pd\n",
    "from sklearn.ensemble import RandomForestClassifier \n",
    "from sklearn.preprocessing import MinMaxScaler\n",
    "from sklearn.model_selection import train_test_split\n",
    "from sklearn.tree import DecisionTreeClassifier\n",
    "from sklearn.metrics import accuracy_score,classification_report\n",
    "import matplotlib.pyplot as plt\n",
    "from random import sample"
   ]
  },
  {
   "cell_type": "code",
   "execution_count": 26,
   "metadata": {
    "ExecuteTime": {
     "end_time": "2020-09-28T07:02:49.157001Z",
     "start_time": "2020-09-28T07:02:49.127100Z"
    },
    "id": "VACehGfwPoAg"
   },
   "outputs": [
    {
     "name": "stdout",
     "output_type": "stream",
     "text": [
      "<class 'pandas.core.frame.DataFrame'>\n",
      "RangeIndex: 846 entries, 0 to 845\n",
      "Data columns (total 19 columns):\n",
      " #   Column                       Non-Null Count  Dtype  \n",
      "---  ------                       --------------  -----  \n",
      " 0   compactness                  846 non-null    int64  \n",
      " 1   circularity                  841 non-null    float64\n",
      " 2   distance_circularity         842 non-null    float64\n",
      " 3   radius_ratio                 840 non-null    float64\n",
      " 4   pr.axis_aspect_ratio         844 non-null    float64\n",
      " 5   max.length_aspect_ratio      846 non-null    int64  \n",
      " 6   scatter_ratio                845 non-null    float64\n",
      " 7   elongatedness                845 non-null    float64\n",
      " 8   pr.axis_rectangularity       843 non-null    float64\n",
      " 9   max.length_rectangularity    846 non-null    int64  \n",
      " 10  scaled_variance              843 non-null    float64\n",
      " 11  scaled_variance.1            844 non-null    float64\n",
      " 12  scaled_radius_of_gyration    844 non-null    float64\n",
      " 13  scaled_radius_of_gyration.1  842 non-null    float64\n",
      " 14  skewness_about               840 non-null    float64\n",
      " 15  skewness_about.1             845 non-null    float64\n",
      " 16  skewness_about.2             845 non-null    float64\n",
      " 17  hollows_ratio                846 non-null    int64  \n",
      " 18  class                        846 non-null    object \n",
      "dtypes: float64(14), int64(4), object(1)\n",
      "memory usage: 125.7+ KB\n"
     ]
    }
   ],
   "source": [
    "# Load the dataset \n",
    "\n",
    "df=pd.read_csv(\"vehicle.csv\")\n",
    "df.info()"
   ]
  },
  {
   "cell_type": "code",
   "execution_count": 27,
   "metadata": {
    "ExecuteTime": {
     "end_time": "2020-09-28T07:02:49.417198Z",
     "start_time": "2020-09-28T07:02:49.377014Z"
    }
   },
   "outputs": [
    {
     "data": {
      "text/html": [
       "<div>\n",
       "<style scoped>\n",
       "    .dataframe tbody tr th:only-of-type {\n",
       "        vertical-align: middle;\n",
       "    }\n",
       "\n",
       "    .dataframe tbody tr th {\n",
       "        vertical-align: top;\n",
       "    }\n",
       "\n",
       "    .dataframe thead th {\n",
       "        text-align: right;\n",
       "    }\n",
       "</style>\n",
       "<table border=\"1\" class=\"dataframe\">\n",
       "  <thead>\n",
       "    <tr style=\"text-align: right;\">\n",
       "      <th></th>\n",
       "      <th>compactness</th>\n",
       "      <th>circularity</th>\n",
       "      <th>distance_circularity</th>\n",
       "      <th>radius_ratio</th>\n",
       "      <th>pr.axis_aspect_ratio</th>\n",
       "      <th>max.length_aspect_ratio</th>\n",
       "      <th>scatter_ratio</th>\n",
       "      <th>elongatedness</th>\n",
       "      <th>pr.axis_rectangularity</th>\n",
       "      <th>max.length_rectangularity</th>\n",
       "      <th>scaled_variance</th>\n",
       "      <th>scaled_variance.1</th>\n",
       "      <th>scaled_radius_of_gyration</th>\n",
       "      <th>scaled_radius_of_gyration.1</th>\n",
       "      <th>skewness_about</th>\n",
       "      <th>skewness_about.1</th>\n",
       "      <th>skewness_about.2</th>\n",
       "      <th>hollows_ratio</th>\n",
       "      <th>class</th>\n",
       "    </tr>\n",
       "  </thead>\n",
       "  <tbody>\n",
       "    <tr>\n",
       "      <th>0</th>\n",
       "      <td>95</td>\n",
       "      <td>48.0</td>\n",
       "      <td>83.0</td>\n",
       "      <td>178.0</td>\n",
       "      <td>72.0</td>\n",
       "      <td>10</td>\n",
       "      <td>162.0</td>\n",
       "      <td>42.0</td>\n",
       "      <td>20.0</td>\n",
       "      <td>159</td>\n",
       "      <td>176.0</td>\n",
       "      <td>379.0</td>\n",
       "      <td>184.0</td>\n",
       "      <td>70.0</td>\n",
       "      <td>6.0</td>\n",
       "      <td>16.0</td>\n",
       "      <td>187.0</td>\n",
       "      <td>197</td>\n",
       "      <td>van</td>\n",
       "    </tr>\n",
       "    <tr>\n",
       "      <th>1</th>\n",
       "      <td>91</td>\n",
       "      <td>41.0</td>\n",
       "      <td>84.0</td>\n",
       "      <td>141.0</td>\n",
       "      <td>57.0</td>\n",
       "      <td>9</td>\n",
       "      <td>149.0</td>\n",
       "      <td>45.0</td>\n",
       "      <td>19.0</td>\n",
       "      <td>143</td>\n",
       "      <td>170.0</td>\n",
       "      <td>330.0</td>\n",
       "      <td>158.0</td>\n",
       "      <td>72.0</td>\n",
       "      <td>9.0</td>\n",
       "      <td>14.0</td>\n",
       "      <td>189.0</td>\n",
       "      <td>199</td>\n",
       "      <td>van</td>\n",
       "    </tr>\n",
       "    <tr>\n",
       "      <th>2</th>\n",
       "      <td>104</td>\n",
       "      <td>50.0</td>\n",
       "      <td>106.0</td>\n",
       "      <td>209.0</td>\n",
       "      <td>66.0</td>\n",
       "      <td>10</td>\n",
       "      <td>207.0</td>\n",
       "      <td>32.0</td>\n",
       "      <td>23.0</td>\n",
       "      <td>158</td>\n",
       "      <td>223.0</td>\n",
       "      <td>635.0</td>\n",
       "      <td>220.0</td>\n",
       "      <td>73.0</td>\n",
       "      <td>14.0</td>\n",
       "      <td>9.0</td>\n",
       "      <td>188.0</td>\n",
       "      <td>196</td>\n",
       "      <td>car</td>\n",
       "    </tr>\n",
       "    <tr>\n",
       "      <th>3</th>\n",
       "      <td>93</td>\n",
       "      <td>41.0</td>\n",
       "      <td>82.0</td>\n",
       "      <td>159.0</td>\n",
       "      <td>63.0</td>\n",
       "      <td>9</td>\n",
       "      <td>144.0</td>\n",
       "      <td>46.0</td>\n",
       "      <td>19.0</td>\n",
       "      <td>143</td>\n",
       "      <td>160.0</td>\n",
       "      <td>309.0</td>\n",
       "      <td>127.0</td>\n",
       "      <td>63.0</td>\n",
       "      <td>6.0</td>\n",
       "      <td>10.0</td>\n",
       "      <td>199.0</td>\n",
       "      <td>207</td>\n",
       "      <td>van</td>\n",
       "    </tr>\n",
       "    <tr>\n",
       "      <th>4</th>\n",
       "      <td>85</td>\n",
       "      <td>44.0</td>\n",
       "      <td>70.0</td>\n",
       "      <td>205.0</td>\n",
       "      <td>103.0</td>\n",
       "      <td>52</td>\n",
       "      <td>149.0</td>\n",
       "      <td>45.0</td>\n",
       "      <td>19.0</td>\n",
       "      <td>144</td>\n",
       "      <td>241.0</td>\n",
       "      <td>325.0</td>\n",
       "      <td>188.0</td>\n",
       "      <td>127.0</td>\n",
       "      <td>9.0</td>\n",
       "      <td>11.0</td>\n",
       "      <td>180.0</td>\n",
       "      <td>183</td>\n",
       "      <td>bus</td>\n",
       "    </tr>\n",
       "  </tbody>\n",
       "</table>\n",
       "</div>"
      ],
      "text/plain": [
       "   compactness  circularity  distance_circularity  radius_ratio  \\\n",
       "0           95         48.0                  83.0         178.0   \n",
       "1           91         41.0                  84.0         141.0   \n",
       "2          104         50.0                 106.0         209.0   \n",
       "3           93         41.0                  82.0         159.0   \n",
       "4           85         44.0                  70.0         205.0   \n",
       "\n",
       "   pr.axis_aspect_ratio  max.length_aspect_ratio  scatter_ratio  \\\n",
       "0                  72.0                       10          162.0   \n",
       "1                  57.0                        9          149.0   \n",
       "2                  66.0                       10          207.0   \n",
       "3                  63.0                        9          144.0   \n",
       "4                 103.0                       52          149.0   \n",
       "\n",
       "   elongatedness  pr.axis_rectangularity  max.length_rectangularity  \\\n",
       "0           42.0                    20.0                        159   \n",
       "1           45.0                    19.0                        143   \n",
       "2           32.0                    23.0                        158   \n",
       "3           46.0                    19.0                        143   \n",
       "4           45.0                    19.0                        144   \n",
       "\n",
       "   scaled_variance  scaled_variance.1  scaled_radius_of_gyration  \\\n",
       "0            176.0              379.0                      184.0   \n",
       "1            170.0              330.0                      158.0   \n",
       "2            223.0              635.0                      220.0   \n",
       "3            160.0              309.0                      127.0   \n",
       "4            241.0              325.0                      188.0   \n",
       "\n",
       "   scaled_radius_of_gyration.1  skewness_about  skewness_about.1  \\\n",
       "0                         70.0             6.0              16.0   \n",
       "1                         72.0             9.0              14.0   \n",
       "2                         73.0            14.0               9.0   \n",
       "3                         63.0             6.0              10.0   \n",
       "4                        127.0             9.0              11.0   \n",
       "\n",
       "   skewness_about.2  hollows_ratio class  \n",
       "0             187.0            197   van  \n",
       "1             189.0            199   van  \n",
       "2             188.0            196   car  \n",
       "3             199.0            207   van  \n",
       "4             180.0            183   bus  "
      ]
     },
     "execution_count": 27,
     "metadata": {},
     "output_type": "execute_result"
    }
   ],
   "source": [
    "df.head()"
   ]
  },
  {
   "cell_type": "code",
   "execution_count": 28,
   "metadata": {
    "ExecuteTime": {
     "end_time": "2020-09-28T07:02:50.337284Z",
     "start_time": "2020-09-28T07:02:50.307013Z"
    }
   },
   "outputs": [],
   "source": [
    "from sklearn.impute import SimpleImputer\n",
    "imp=SimpleImputer(missing_values=np.nan,strategy='mean')\n",
    "df[list(df.isnull().any()[df.isnull().any()==True].index)]=imp.fit_transform(\n",
    "df[list(df.isnull().any()[df.isnull().any()==True].index)])"
   ]
  },
  {
   "cell_type": "code",
   "execution_count": 29,
   "metadata": {
    "ExecuteTime": {
     "end_time": "2020-09-28T07:02:50.667193Z",
     "start_time": "2020-09-28T07:02:50.627180Z"
    },
    "id": "S47gOYRhPqKF"
   },
   "outputs": [
    {
     "data": {
      "text/html": [
       "<div>\n",
       "<style scoped>\n",
       "    .dataframe tbody tr th:only-of-type {\n",
       "        vertical-align: middle;\n",
       "    }\n",
       "\n",
       "    .dataframe tbody tr th {\n",
       "        vertical-align: top;\n",
       "    }\n",
       "\n",
       "    .dataframe thead th {\n",
       "        text-align: right;\n",
       "    }\n",
       "</style>\n",
       "<table border=\"1\" class=\"dataframe\">\n",
       "  <thead>\n",
       "    <tr style=\"text-align: right;\">\n",
       "      <th></th>\n",
       "      <th>compactness</th>\n",
       "      <th>circularity</th>\n",
       "      <th>distance_circularity</th>\n",
       "      <th>radius_ratio</th>\n",
       "      <th>pr.axis_aspect_ratio</th>\n",
       "      <th>max.length_aspect_ratio</th>\n",
       "      <th>scatter_ratio</th>\n",
       "      <th>elongatedness</th>\n",
       "      <th>pr.axis_rectangularity</th>\n",
       "      <th>max.length_rectangularity</th>\n",
       "      <th>...</th>\n",
       "      <th>scaled_variance.1</th>\n",
       "      <th>scaled_radius_of_gyration</th>\n",
       "      <th>scaled_radius_of_gyration.1</th>\n",
       "      <th>skewness_about</th>\n",
       "      <th>skewness_about.1</th>\n",
       "      <th>skewness_about.2</th>\n",
       "      <th>hollows_ratio</th>\n",
       "      <th>bus</th>\n",
       "      <th>car</th>\n",
       "      <th>van</th>\n",
       "    </tr>\n",
       "  </thead>\n",
       "  <tbody>\n",
       "    <tr>\n",
       "      <th>0</th>\n",
       "      <td>0.478261</td>\n",
       "      <td>0.576923</td>\n",
       "      <td>0.597222</td>\n",
       "      <td>0.323144</td>\n",
       "      <td>0.274725</td>\n",
       "      <td>0.150943</td>\n",
       "      <td>0.326797</td>\n",
       "      <td>0.457143</td>\n",
       "      <td>0.250000</td>\n",
       "      <td>0.585714</td>\n",
       "      <td>...</td>\n",
       "      <td>0.233813</td>\n",
       "      <td>0.471698</td>\n",
       "      <td>0.144737</td>\n",
       "      <td>0.272727</td>\n",
       "      <td>0.390244</td>\n",
       "      <td>0.366667</td>\n",
       "      <td>197</td>\n",
       "      <td>0</td>\n",
       "      <td>0</td>\n",
       "      <td>1</td>\n",
       "    </tr>\n",
       "    <tr>\n",
       "      <th>1</th>\n",
       "      <td>0.391304</td>\n",
       "      <td>0.307692</td>\n",
       "      <td>0.611111</td>\n",
       "      <td>0.161572</td>\n",
       "      <td>0.109890</td>\n",
       "      <td>0.132075</td>\n",
       "      <td>0.241830</td>\n",
       "      <td>0.542857</td>\n",
       "      <td>0.166667</td>\n",
       "      <td>0.357143</td>\n",
       "      <td>...</td>\n",
       "      <td>0.175060</td>\n",
       "      <td>0.308176</td>\n",
       "      <td>0.171053</td>\n",
       "      <td>0.409091</td>\n",
       "      <td>0.341463</td>\n",
       "      <td>0.433333</td>\n",
       "      <td>199</td>\n",
       "      <td>0</td>\n",
       "      <td>0</td>\n",
       "      <td>1</td>\n",
       "    </tr>\n",
       "    <tr>\n",
       "      <th>2</th>\n",
       "      <td>0.673913</td>\n",
       "      <td>0.653846</td>\n",
       "      <td>0.916667</td>\n",
       "      <td>0.458515</td>\n",
       "      <td>0.208791</td>\n",
       "      <td>0.150943</td>\n",
       "      <td>0.620915</td>\n",
       "      <td>0.171429</td>\n",
       "      <td>0.500000</td>\n",
       "      <td>0.571429</td>\n",
       "      <td>...</td>\n",
       "      <td>0.540767</td>\n",
       "      <td>0.698113</td>\n",
       "      <td>0.184211</td>\n",
       "      <td>0.636364</td>\n",
       "      <td>0.219512</td>\n",
       "      <td>0.400000</td>\n",
       "      <td>196</td>\n",
       "      <td>0</td>\n",
       "      <td>1</td>\n",
       "      <td>0</td>\n",
       "    </tr>\n",
       "    <tr>\n",
       "      <th>3</th>\n",
       "      <td>0.434783</td>\n",
       "      <td>0.307692</td>\n",
       "      <td>0.583333</td>\n",
       "      <td>0.240175</td>\n",
       "      <td>0.175824</td>\n",
       "      <td>0.132075</td>\n",
       "      <td>0.209150</td>\n",
       "      <td>0.571429</td>\n",
       "      <td>0.166667</td>\n",
       "      <td>0.357143</td>\n",
       "      <td>...</td>\n",
       "      <td>0.149880</td>\n",
       "      <td>0.113208</td>\n",
       "      <td>0.052632</td>\n",
       "      <td>0.272727</td>\n",
       "      <td>0.243902</td>\n",
       "      <td>0.766667</td>\n",
       "      <td>207</td>\n",
       "      <td>0</td>\n",
       "      <td>0</td>\n",
       "      <td>1</td>\n",
       "    </tr>\n",
       "    <tr>\n",
       "      <th>4</th>\n",
       "      <td>0.260870</td>\n",
       "      <td>0.423077</td>\n",
       "      <td>0.416667</td>\n",
       "      <td>0.441048</td>\n",
       "      <td>0.615385</td>\n",
       "      <td>0.943396</td>\n",
       "      <td>0.241830</td>\n",
       "      <td>0.542857</td>\n",
       "      <td>0.166667</td>\n",
       "      <td>0.371429</td>\n",
       "      <td>...</td>\n",
       "      <td>0.169065</td>\n",
       "      <td>0.496855</td>\n",
       "      <td>0.894737</td>\n",
       "      <td>0.409091</td>\n",
       "      <td>0.268293</td>\n",
       "      <td>0.133333</td>\n",
       "      <td>183</td>\n",
       "      <td>1</td>\n",
       "      <td>0</td>\n",
       "      <td>0</td>\n",
       "    </tr>\n",
       "  </tbody>\n",
       "</table>\n",
       "<p>5 rows × 21 columns</p>\n",
       "</div>"
      ],
      "text/plain": [
       "   compactness  circularity  distance_circularity  radius_ratio  \\\n",
       "0     0.478261     0.576923              0.597222      0.323144   \n",
       "1     0.391304     0.307692              0.611111      0.161572   \n",
       "2     0.673913     0.653846              0.916667      0.458515   \n",
       "3     0.434783     0.307692              0.583333      0.240175   \n",
       "4     0.260870     0.423077              0.416667      0.441048   \n",
       "\n",
       "   pr.axis_aspect_ratio  max.length_aspect_ratio  scatter_ratio  \\\n",
       "0              0.274725                 0.150943       0.326797   \n",
       "1              0.109890                 0.132075       0.241830   \n",
       "2              0.208791                 0.150943       0.620915   \n",
       "3              0.175824                 0.132075       0.209150   \n",
       "4              0.615385                 0.943396       0.241830   \n",
       "\n",
       "   elongatedness  pr.axis_rectangularity  max.length_rectangularity  ...  \\\n",
       "0       0.457143                0.250000                   0.585714  ...   \n",
       "1       0.542857                0.166667                   0.357143  ...   \n",
       "2       0.171429                0.500000                   0.571429  ...   \n",
       "3       0.571429                0.166667                   0.357143  ...   \n",
       "4       0.542857                0.166667                   0.371429  ...   \n",
       "\n",
       "   scaled_variance.1  scaled_radius_of_gyration  scaled_radius_of_gyration.1  \\\n",
       "0           0.233813                   0.471698                     0.144737   \n",
       "1           0.175060                   0.308176                     0.171053   \n",
       "2           0.540767                   0.698113                     0.184211   \n",
       "3           0.149880                   0.113208                     0.052632   \n",
       "4           0.169065                   0.496855                     0.894737   \n",
       "\n",
       "   skewness_about  skewness_about.1  skewness_about.2  hollows_ratio  bus  \\\n",
       "0        0.272727          0.390244          0.366667            197    0   \n",
       "1        0.409091          0.341463          0.433333            199    0   \n",
       "2        0.636364          0.219512          0.400000            196    0   \n",
       "3        0.272727          0.243902          0.766667            207    0   \n",
       "4        0.409091          0.268293          0.133333            183    1   \n",
       "\n",
       "   car  van  \n",
       "0    0    1  \n",
       "1    0    1  \n",
       "2    1    0  \n",
       "3    0    1  \n",
       "4    0    0  \n",
       "\n",
       "[5 rows x 21 columns]"
      ]
     },
     "execution_count": 29,
     "metadata": {},
     "output_type": "execute_result"
    }
   ],
   "source": [
    "# Preprocessing\n",
    "# Encoding categorical variables (if any)\n",
    "# Feature Scaling\n",
    "# Filling missing values (if any)\n",
    "scaler=MinMaxScaler()\n",
    "df.iloc[:,0:17]=scaler.fit_transform(df.iloc[:,0:17])\n",
    "dum=pd.get_dummies(df['class'])\n",
    "df.drop('class',axis=1,inplace=True)\n",
    "df=pd.concat([df,dum],axis=1)\n",
    "df.head()\n"
   ]
  },
  {
   "cell_type": "code",
   "execution_count": 34,
   "metadata": {
    "ExecuteTime": {
     "end_time": "2020-09-28T07:04:34.397094Z",
     "start_time": "2020-09-28T07:04:34.366835Z"
    }
   },
   "outputs": [],
   "source": [
    "X=df.drop(columns=['bus','car','van'])\n",
    "y=df[['bus','car','van']]"
   ]
  },
  {
   "cell_type": "code",
   "execution_count": 35,
   "metadata": {
    "ExecuteTime": {
     "end_time": "2020-09-28T07:04:35.692043Z",
     "start_time": "2020-09-28T07:04:35.676851Z"
    },
    "id": "ywJGz-VZP2R9"
   },
   "outputs": [],
   "source": [
    "# Divide the dataset to training and testing set\n",
    "X_train, X_test, y_train, y_test = train_test_split(X, y, test_size=0.3, random_state=42)"
   ]
  },
  {
   "cell_type": "code",
   "execution_count": 43,
   "metadata": {
    "ExecuteTime": {
     "end_time": "2020-09-28T07:08:37.614692Z",
     "start_time": "2020-09-28T07:08:37.604410Z"
    },
    "id": "hu9YAA53YxPG"
   },
   "outputs": [],
   "source": [
    "# Randomly choose the features from training set and build decision tree\n",
    "# Randomness in the features will help us to achieve different DTrees every time\n",
    "# You can keep minimum number of random features every time so that trees will have sufficient features\n",
    "# Note: You can use builtin function for DT training using Sklearn\n",
    "\n"
   ]
  },
  {
   "cell_type": "code",
   "execution_count": 49,
   "metadata": {
    "ExecuteTime": {
     "end_time": "2020-09-28T07:12:47.219404Z",
     "start_time": "2020-09-28T07:12:47.199320Z"
    }
   },
   "outputs": [
    {
     "data": {
      "text/html": [
       "<div>\n",
       "<style scoped>\n",
       "    .dataframe tbody tr th:only-of-type {\n",
       "        vertical-align: middle;\n",
       "    }\n",
       "\n",
       "    .dataframe tbody tr th {\n",
       "        vertical-align: top;\n",
       "    }\n",
       "\n",
       "    .dataframe thead th {\n",
       "        text-align: right;\n",
       "    }\n",
       "</style>\n",
       "<table border=\"1\" class=\"dataframe\">\n",
       "  <thead>\n",
       "    <tr style=\"text-align: right;\">\n",
       "      <th></th>\n",
       "      <th>radius_ratio</th>\n",
       "      <th>circularity</th>\n",
       "    </tr>\n",
       "  </thead>\n",
       "  <tbody>\n",
       "    <tr>\n",
       "      <th>300</th>\n",
       "      <td>0.388646</td>\n",
       "      <td>0.769231</td>\n",
       "    </tr>\n",
       "    <tr>\n",
       "      <th>73</th>\n",
       "      <td>0.030568</td>\n",
       "      <td>0.153846</td>\n",
       "    </tr>\n",
       "    <tr>\n",
       "      <th>586</th>\n",
       "      <td>0.279476</td>\n",
       "      <td>0.846154</td>\n",
       "    </tr>\n",
       "    <tr>\n",
       "      <th>753</th>\n",
       "      <td>0.253275</td>\n",
       "      <td>0.115385</td>\n",
       "    </tr>\n",
       "    <tr>\n",
       "      <th>405</th>\n",
       "      <td>0.301310</td>\n",
       "      <td>0.269231</td>\n",
       "    </tr>\n",
       "    <tr>\n",
       "      <th>...</th>\n",
       "      <td>...</td>\n",
       "      <td>...</td>\n",
       "    </tr>\n",
       "    <tr>\n",
       "      <th>71</th>\n",
       "      <td>0.537118</td>\n",
       "      <td>1.000000</td>\n",
       "    </tr>\n",
       "    <tr>\n",
       "      <th>106</th>\n",
       "      <td>0.458515</td>\n",
       "      <td>0.500000</td>\n",
       "    </tr>\n",
       "    <tr>\n",
       "      <th>270</th>\n",
       "      <td>0.200873</td>\n",
       "      <td>0.461538</td>\n",
       "    </tr>\n",
       "    <tr>\n",
       "      <th>435</th>\n",
       "      <td>0.179039</td>\n",
       "      <td>0.153846</td>\n",
       "    </tr>\n",
       "    <tr>\n",
       "      <th>102</th>\n",
       "      <td>0.200873</td>\n",
       "      <td>0.346154</td>\n",
       "    </tr>\n",
       "  </tbody>\n",
       "</table>\n",
       "<p>592 rows × 2 columns</p>\n",
       "</div>"
      ],
      "text/plain": [
       "     radius_ratio  circularity\n",
       "300      0.388646     0.769231\n",
       "73       0.030568     0.153846\n",
       "586      0.279476     0.846154\n",
       "753      0.253275     0.115385\n",
       "405      0.301310     0.269231\n",
       "..            ...          ...\n",
       "71       0.537118     1.000000\n",
       "106      0.458515     0.500000\n",
       "270      0.200873     0.461538\n",
       "435      0.179039     0.153846\n",
       "102      0.200873     0.346154\n",
       "\n",
       "[592 rows x 2 columns]"
      ]
     },
     "execution_count": 49,
     "metadata": {},
     "output_type": "execute_result"
    }
   ],
   "source": [
    "X_train.iloc[:,columns]"
   ]
  },
  {
   "cell_type": "code",
   "execution_count": 92,
   "metadata": {
    "ExecuteTime": {
     "end_time": "2020-09-28T07:44:50.595177Z",
     "start_time": "2020-09-28T07:44:49.885438Z"
    },
    "id": "22bKlgbZYxPQ"
   },
   "outputs": [
    {
     "name": "stdout",
     "output_type": "stream",
     "text": [
      "Model 1 fitting ....\n",
      "List of Columns -  [12]\n",
      "\n",
      "Model 2 fitting ....\n",
      "List of Columns -  [9, 17]\n",
      "\n",
      "Model 3 fitting ....\n",
      "List of Columns -  [12]\n",
      "\n",
      "Model 4 fitting ....\n",
      "List of Columns -  [4, 11, 12, 6, 15, 5, 14, 3, 0, 17, 7]\n",
      "\n",
      "Model 5 fitting ....\n",
      "List of Columns -  [1, 9, 13, 3, 5]\n",
      "\n",
      "Model 6 fitting ....\n",
      "List of Columns -  [0, 8, 15, 7, 14, 16, 5, 17, 4, 2, 3, 6, 12, 1, 13]\n",
      "\n",
      "Model 7 fitting ....\n",
      "List of Columns -  [12, 1, 2, 9, 3, 11, 5, 13, 0]\n",
      "\n",
      "Model 8 fitting ....\n",
      "List of Columns -  [8, 12, 16, 15, 9, 0, 17, 4, 3, 14, 7]\n",
      "\n",
      "Model 9 fitting ....\n",
      "List of Columns -  [14, 6, 3, 5, 1, 0, 8, 16, 13, 12, 10, 4, 7, 17, 15, 9, 2]\n",
      "\n",
      "Model 10 fitting ....\n",
      "List of Columns -  [14, 6, 7, 5, 4, 2, 10, 16, 0, 15]\n",
      "\n",
      "Model 11 fitting ....\n",
      "List of Columns -  [13, 9, 17, 4, 7, 14, 11, 3, 16, 2, 8, 0, 15, 12]\n",
      "\n",
      "Model 12 fitting ....\n",
      "List of Columns -  [15]\n",
      "\n",
      "Model 13 fitting ....\n",
      "List of Columns -  [12, 15, 14, 3, 5, 17, 9]\n",
      "\n",
      "Model 14 fitting ....\n",
      "List of Columns -  [10]\n",
      "\n",
      "Model 15 fitting ....\n",
      "List of Columns -  [10, 7, 9, 16, 15]\n",
      "\n",
      "Model 16 fitting ....\n",
      "List of Columns -  [12, 17, 14, 1, 6, 8, 0, 13, 2, 7, 3, 11, 10, 9, 5, 4, 15, 16]\n",
      "\n",
      "Model 17 fitting ....\n",
      "List of Columns -  [6, 2, 9, 16, 14, 1]\n",
      "\n",
      "Model 18 fitting ....\n",
      "List of Columns -  [4, 17, 16, 10, 12, 9, 5, 0, 11, 2, 15, 6]\n",
      "\n",
      "Model 19 fitting ....\n",
      "List of Columns -  [13, 1, 6, 17, 4, 5, 11, 9, 14, 3, 7, 12, 8]\n",
      "\n",
      "Model 20 fitting ....\n",
      "List of Columns -  [17, 14, 13, 10, 4, 11, 3, 1, 5, 9, 16, 2, 8, 7, 12, 15, 6]\n",
      "\n",
      "Model 21 fitting ....\n",
      "List of Columns -  [17, 12, 9, 14, 0, 2, 8, 1]\n",
      "\n",
      "Model 22 fitting ....\n",
      "List of Columns -  [8, 6]\n",
      "\n",
      "Model 23 fitting ....\n",
      "List of Columns -  [11, 5, 14, 12, 13, 4, 17, 10, 3, 1, 15, 9, 8, 0, 6]\n",
      "\n",
      "Model 24 fitting ....\n",
      "List of Columns -  [15, 4, 3, 9, 8, 13, 10, 16, 2, 1, 11, 5, 7, 12, 0, 6, 17, 14]\n",
      "\n",
      "Model 25 fitting ....\n",
      "List of Columns -  [11, 14]\n",
      "\n",
      "Model 26 fitting ....\n",
      "List of Columns -  [16, 2, 17, 4, 15, 0, 6, 5]\n",
      "\n",
      "Model 27 fitting ....\n",
      "List of Columns -  [14, 7, 4, 9, 1, 8, 5, 3, 15, 6, 17, 13, 16, 2, 11, 0]\n",
      "\n",
      "Model 28 fitting ....\n",
      "List of Columns -  [1, 2, 15, 10, 7, 8, 6, 14, 13, 9, 16, 5, 3, 0, 12]\n",
      "\n",
      "Model 29 fitting ....\n",
      "List of Columns -  [3, 11, 13, 16, 12]\n",
      "\n",
      "Model 30 fitting ....\n",
      "List of Columns -  [2, 4, 6, 9, 17, 8, 0, 12, 14, 13, 10, 15, 16, 5, 11, 7, 3]\n",
      "\n",
      "Model 31 fitting ....\n",
      "List of Columns -  [11, 9, 4, 15, 0, 1, 10]\n",
      "\n",
      "Model 32 fitting ....\n",
      "List of Columns -  [6, 14, 11, 2, 9, 7, 4, 12, 17, 10, 15, 0, 5]\n",
      "\n",
      "Model 33 fitting ....\n",
      "List of Columns -  [10, 12, 3, 5, 17, 9, 2, 14, 8, 0, 1, 13, 4]\n",
      "\n",
      "Model 34 fitting ....\n",
      "List of Columns -  [3, 11, 1, 16, 2, 0, 17, 10, 14, 6, 5]\n",
      "\n",
      "Model 35 fitting ....\n",
      "List of Columns -  [7, 4, 10, 14]\n",
      "\n",
      "Model 36 fitting ....\n",
      "List of Columns -  [17, 9, 11, 16, 2, 14, 1, 15, 8, 3, 10, 7, 6, 13, 4, 12, 0, 5]\n",
      "\n",
      "Model 37 fitting ....\n",
      "List of Columns -  [4, 0, 3, 12, 10, 13, 2, 14, 17]\n",
      "\n",
      "Model 38 fitting ....\n",
      "List of Columns -  [5, 13, 2, 15, 12, 14, 0, 17, 9, 4, 3, 1, 10, 16, 7]\n",
      "\n",
      "Model 39 fitting ....\n",
      "List of Columns -  [16]\n",
      "\n",
      "Model 40 fitting ....\n",
      "List of Columns -  [17, 2, 6, 8, 9, 15, 13, 12, 14, 1, 7, 5, 4, 11, 16, 10]\n",
      "\n",
      "Model 41 fitting ....\n",
      "List of Columns -  [2, 8, 17, 15, 14, 9, 16, 10, 5, 4, 0, 13, 6, 3, 7]\n",
      "\n",
      "Model 42 fitting ....\n",
      "List of Columns -  [12, 14, 13, 8, 6, 5, 2, 7, 17]\n",
      "\n",
      "Model 43 fitting ....\n",
      "List of Columns -  [5, 3, 4, 0, 17, 13]\n",
      "\n",
      "Model 44 fitting ....\n",
      "List of Columns -  [5, 4, 8, 6, 1, 11, 13, 15, 16, 17, 10, 12, 0]\n",
      "\n",
      "Model 45 fitting ....\n",
      "List of Columns -  [10, 16, 17]\n",
      "\n",
      "Model 46 fitting ....\n",
      "List of Columns -  [1, 5, 13, 6, 3, 9, 8, 10]\n",
      "\n",
      "Model 47 fitting ....\n",
      "List of Columns -  [10, 5, 9, 11, 15, 12, 2, 7]\n",
      "\n",
      "Model 48 fitting ....\n",
      "List of Columns -  [0, 7, 8, 15, 5, 1, 16, 11, 13]\n",
      "\n",
      "Model 49 fitting ....\n",
      "List of Columns -  [13, 6, 9, 11, 17, 3, 4, 10, 15, 7, 1, 16]\n",
      "\n",
      "Model 50 fitting ....\n",
      "List of Columns -  [7]\n",
      "\n",
      "Model 51 fitting ....\n",
      "List of Columns -  [8, 14, 15, 4, 9, 11, 12, 10, 7, 17, 3, 13, 0, 1]\n",
      "\n",
      "Model 52 fitting ....\n",
      "List of Columns -  [5, 4, 16, 6, 17, 14]\n",
      "\n",
      "Model 53 fitting ....\n",
      "List of Columns -  [15]\n",
      "\n",
      "Model 54 fitting ....\n",
      "List of Columns -  [1, 4, 15, 11, 7, 13, 12, 6, 10, 5, 3, 8, 14, 0, 16]\n",
      "\n",
      "Model 55 fitting ....\n",
      "List of Columns -  [8, 5, 12, 1, 11, 2, 13]\n",
      "\n",
      "Model 56 fitting ....\n",
      "List of Columns -  [2, 10, 7, 14, 4, 6]\n",
      "\n",
      "Model 57 fitting ....\n",
      "List of Columns -  [13, 16, 1, 10, 9, 14, 15, 4, 2, 3, 5, 0, 8, 7, 11]\n",
      "\n",
      "Model 58 fitting ....\n",
      "List of Columns -  [8, 5, 9, 4, 14, 3, 7, 11, 13, 15, 10, 12, 17, 6, 0, 1, 16, 2]\n",
      "\n",
      "Model 59 fitting ....\n",
      "List of Columns -  [15, 5, 3, 2, 7, 9, 13, 12]\n",
      "\n",
      "Model 60 fitting ....\n",
      "List of Columns -  [16, 1, 4, 8, 5, 7]\n",
      "\n",
      "Model 61 fitting ....\n",
      "List of Columns -  [2, 5, 9, 11, 4, 17, 16, 13, 14, 0, 10, 7, 1, 12, 3, 8, 6, 15]\n",
      "\n",
      "Model 62 fitting ....\n",
      "List of Columns -  [5, 2, 17, 12]\n",
      "\n",
      "Model 63 fitting ....\n",
      "List of Columns -  [6, 5, 3, 8, 17, 10, 13, 9, 7, 2, 1, 15, 12]\n",
      "\n",
      "Model 64 fitting ....\n",
      "List of Columns -  [0, 9, 17, 15, 7, 16, 3, 5, 10, 6, 11, 2, 1]\n",
      "\n",
      "Model 65 fitting ....\n",
      "List of Columns -  [13]\n",
      "\n",
      "Model 66 fitting ....\n",
      "List of Columns -  [12, 8, 7, 16, 3]\n",
      "\n",
      "Model 67 fitting ....\n",
      "List of Columns -  [3, 6, 2, 17, 10, 0, 11, 7, 13, 5, 14]\n",
      "\n",
      "Model 68 fitting ....\n",
      "List of Columns -  [10]\n",
      "\n",
      "Model 69 fitting ....\n",
      "List of Columns -  [12, 17, 11]\n",
      "\n",
      "Model 70 fitting ....\n",
      "List of Columns -  [7, 8, 15, 14, 11]\n",
      "\n",
      "Model 71 fitting ....\n",
      "List of Columns -  [15, 17, 0, 13, 16, 11, 7, 10, 5, 2, 3, 9, 14, 12, 1, 4]\n",
      "\n",
      "Model 72 fitting ....\n",
      "List of Columns -  [4, 8, 15, 0, 10, 14, 2, 13, 3, 17]\n",
      "\n",
      "Model 73 fitting ....\n",
      "List of Columns -  [6, 17, 16]\n",
      "\n",
      "Model 74 fitting ....\n",
      "List of Columns -  [11, 4, 7, 1, 16, 10, 2, 9, 6]\n",
      "\n",
      "Model 75 fitting ....\n",
      "List of Columns -  [7, 11, 6, 10, 12, 3, 15, 2, 14, 9, 5, 16, 13, 4, 8]\n",
      "\n",
      "Model 76 fitting ....\n",
      "List of Columns -  [0, 8, 11, 13, 17, 3, 10, 12, 16, 9]\n",
      "\n",
      "Model 77 fitting ....\n",
      "List of Columns -  [14, 2, 5, 8, 6, 1, 11, 16, 13, 7, 10]\n",
      "\n",
      "Model 78 fitting ....\n",
      "List of Columns -  [8, 4, 0, 13, 6, 5, 15, 12, 3, 10, 17, 14, 2, 1, 9, 7, 16]\n",
      "\n",
      "Model 79 fitting ....\n",
      "List of Columns -  [0]\n",
      "\n",
      "Model 80 fitting ....\n",
      "List of Columns -  [17, 1, 8, 14, 9, 5, 7, 13, 12, 4, 6, 0, 11, 10]\n",
      "\n",
      "Model 81 fitting ....\n",
      "List of Columns -  [13]\n",
      "\n",
      "Model 82 fitting ....\n",
      "List of Columns -  [10, 12, 13, 2, 17, 7]\n",
      "\n",
      "Model 83 fitting ....\n",
      "List of Columns -  [4, 11, 16, 14, 7, 9, 6, 15, 2, 3, 17, 10, 1, 8, 13, 12]\n",
      "\n",
      "Model 84 fitting ....\n",
      "List of Columns -  [9, 13, 8]\n",
      "\n",
      "Model 85 fitting ....\n",
      "List of Columns -  [7, 14, 8, 6, 1, 16, 15, 2, 12, 4, 5, 17, 3, 11, 10, 13, 0, 9]\n",
      "\n",
      "Model 86 fitting ....\n",
      "List of Columns -  [13, 3, 6, 12, 15, 9, 8, 14, 16, 0, 11, 10, 1, 7]\n",
      "\n",
      "Model 87 fitting ....\n",
      "List of Columns -  [6, 15]\n",
      "\n",
      "Model 88 fitting ....\n",
      "List of Columns -  [4]\n",
      "\n",
      "Model 89 fitting ....\n",
      "List of Columns -  [6, 13]\n",
      "\n",
      "Model 90 fitting ....\n",
      "List of Columns -  [3, 2, 10, 0, 8]\n",
      "\n",
      "Model 91 fitting ....\n",
      "List of Columns -  [13, 5, 3, 15, 9, 17, 12, 2]\n",
      "\n",
      "Model 92 fitting ....\n",
      "List of Columns -  [10, 14, 2]\n",
      "\n",
      "Model 93 fitting ....\n",
      "List of Columns -  [10, 9, 15, 11, 1, 14, 16, 2, 3]\n",
      "\n",
      "Model 94 fitting ....\n",
      "List of Columns -  [11, 9, 0, 4, 10, 12, 14, 13, 3, 5, 7, 8, 6, 17, 16]\n",
      "\n",
      "Model 95 fitting ....\n",
      "List of Columns -  [1, 8, 13, 15, 7, 14, 17, 16, 12, 11, 5, 4, 10]\n",
      "\n",
      "Model 96 fitting ....\n",
      "List of Columns -  [7, 12, 2, 5, 14, 4, 10, 8, 1, 0]\n",
      "\n",
      "Model 97 fitting ....\n",
      "List of Columns -  [2, 15, 12, 8]\n",
      "\n",
      "Model 98 fitting ....\n",
      "List of Columns -  [4, 7, 10, 2]\n",
      "\n",
      "Model 99 fitting ....\n",
      "List of Columns -  [14, 15, 12, 10, 5, 3, 13, 2, 4]\n",
      "\n",
      "Model 100 fitting ....\n",
      "List of Columns -  [5, 10, 17, 9, 11, 1, 0, 12, 7, 13, 4, 6, 15, 16, 3, 14, 8, 2]\n",
      "\n"
     ]
    }
   ],
   "source": [
    "# Train N number of decision trees using random feature selection strategy\n",
    "# Number of trees N can be user input\n",
    "trees=[]\n",
    "cols=[]\n",
    "for i in range(100):\n",
    "    N_columns =  list(np.random.choice(range(X.shape[1]),1)+1)\n",
    "    columns = list(np.random.choice(range(X.shape[1]), N_columns, replace=False))\n",
    "    cols.append(columns)\n",
    "    model=DecisionTreeClassifier(random_state=42)\n",
    "    print(\"Model \"+str(i+1)+\" fitting ....\")\n",
    "    print(\"List of Columns - \",columns)\n",
    "    model.fit(X_train.iloc[:,columns],y_train)\n",
    "    trees.append(model)\n",
    "    print()\n"
   ]
  },
  {
   "cell_type": "code",
   "execution_count": 93,
   "metadata": {
    "ExecuteTime": {
     "end_time": "2020-09-28T07:44:53.365619Z",
     "start_time": "2020-09-28T07:44:53.032367Z"
    }
   },
   "outputs": [
    {
     "name": "stdout",
     "output_type": "stream",
     "text": [
      "0.38976377952755903\n",
      "0.5984251968503937\n",
      "0.38976377952755903\n",
      "0.9015748031496063\n",
      "0.8346456692913385\n",
      "0.9409448818897638\n",
      "0.9015748031496063\n",
      "0.84251968503937\n",
      "0.9212598425196851\n",
      "0.889763779527559\n",
      "0.8937007874015748\n",
      "0.2283464566929134\n",
      "0.8818897637795275\n",
      "0.515748031496063\n",
      "0.7992125984251969\n",
      "0.9094488188976378\n",
      "0.8661417322834646\n",
      "0.9212598425196851\n",
      "0.8976377952755905\n",
      "0.9251968503937008\n",
      "0.8582677165354331\n",
      "0.6062992125984252\n",
      "0.8818897637795275\n",
      "0.9173228346456693\n",
      "0.594488188976378\n",
      "0.889763779527559\n",
      "0.9094488188976378\n",
      "0.9330708661417323\n",
      "0.7913385826771654\n",
      "0.9212598425196851\n",
      "0.8503937007874016\n",
      "0.9291338582677166\n",
      "0.9330708661417323\n",
      "0.8779527559055118\n",
      "0.7716535433070866\n",
      "0.9015748031496063\n",
      "0.84251968503937\n",
      "0.9330708661417323\n",
      "0.484251968503937\n",
      "0.937007874015748\n",
      "0.9251968503937008\n",
      "0.8582677165354331\n",
      "0.8779527559055118\n",
      "0.8976377952755905\n",
      "0.7559055118110236\n",
      "0.8937007874015748\n",
      "0.889763779527559\n",
      "0.9015748031496063\n",
      "0.8858267716535433\n",
      "0.6417322834645669\n",
      "0.8503937007874016\n",
      "0.9015748031496063\n",
      "0.2283464566929134\n",
      "0.8661417322834646\n",
      "0.8779527559055118\n",
      "0.889763779527559\n",
      "0.9133858267716536\n",
      "0.9094488188976378\n",
      "0.905511811023622\n",
      "0.9251968503937008\n",
      "0.9212598425196851\n",
      "0.8228346456692913\n",
      "0.9173228346456693\n",
      "0.8937007874015748\n",
      "0.484251968503937\n",
      "0.7677165354330708\n",
      "0.8818897637795275\n",
      "0.515748031496063\n",
      "0.6889763779527559\n",
      "0.6929133858267716\n",
      "0.9133858267716536\n",
      "0.8740157480314961\n",
      "0.7952755905511811\n",
      "0.8385826771653543\n",
      "0.9173228346456693\n",
      "0.8937007874015748\n",
      "0.889763779527559\n",
      "0.937007874015748\n",
      "0.3228346456692913\n",
      "0.9173228346456693\n",
      "0.484251968503937\n",
      "0.8228346456692913\n",
      "0.8937007874015748\n",
      "0.7834645669291339\n",
      "0.9133858267716536\n",
      "0.8976377952755905\n",
      "0.6023622047244095\n",
      "0.39763779527559057\n",
      "0.7204724409448819\n",
      "0.7992125984251969\n",
      "0.8543307086614174\n",
      "0.7283464566929134\n",
      "0.8622047244094488\n",
      "0.905511811023622\n",
      "0.8976377952755905\n",
      "0.9291338582677166\n",
      "0.7677165354330708\n",
      "0.8464566929133859\n",
      "0.8622047244094488\n",
      "0.9015748031496063\n"
     ]
    }
   ],
   "source": [
    "for i,j in zip(trees,cols):\n",
    "    print(i.score(X_test.iloc[:,j],y_test))"
   ]
  },
  {
   "cell_type": "code",
   "execution_count": 94,
   "metadata": {
    "ExecuteTime": {
     "end_time": "2020-09-28T07:44:56.405572Z",
     "start_time": "2020-09-28T07:44:56.125366Z"
    }
   },
   "outputs": [
    {
     "data": {
      "text/plain": [
       "array([0.38976378, 0.5984252 , 0.38976378, 0.9015748 ])"
      ]
     },
     "execution_count": 94,
     "metadata": {},
     "output_type": "execute_result"
    }
   ],
   "source": [
    "scores=[]\n",
    "for i,j in zip(trees,cols):\n",
    "    scores.append(accuracy_score(i.predict(X_test.iloc[:,j]),y_test))\n",
    "scores=np.array(scores)\n",
    "scores[0:4]   "
   ]
  },
  {
   "cell_type": "code",
   "execution_count": null,
   "metadata": {
    "id": "DXBsseNEYxPX"
   },
   "outputs": [],
   "source": [
    "# Apply different voting mechanisms such as \n",
    "# max voting/average voting/weighted average voting (using accuracy as weightage)\n",
    "# Perform the ensembling for the training set.\n"
   ]
  },
  {
   "cell_type": "markdown",
   "metadata": {},
   "source": [
    "### Max Voting"
   ]
  },
  {
   "cell_type": "code",
   "execution_count": 95,
   "metadata": {
    "ExecuteTime": {
     "end_time": "2020-09-28T07:44:58.720836Z",
     "start_time": "2020-09-28T07:44:58.685550Z"
    }
   },
   "outputs": [
    {
     "name": "stdout",
     "output_type": "stream",
     "text": [
      "Training Score - 1.0\n",
      "Testing Score - 0.9409448818897638\n"
     ]
    }
   ],
   "source": [
    "maxvotmod=trees[np.argmax(scores)]\n",
    "print(\"Training Score -\",maxvotmod.score(X_train.iloc[:,cols[np.argmax(scores)]],y_train))\n",
    "print(\"Testing Score -\",maxvotmod.score(X_test.iloc[:,cols[np.argmax(scores)]],y_test))\n",
    "maxvottrain=maxvotmod.predict(X_train.iloc[:,cols[np.argmax(scores)]])\n",
    "maxvottest=maxvotmod.predict(X_test.iloc[:,cols[np.argmax(scores)]])"
   ]
  },
  {
   "cell_type": "markdown",
   "metadata": {},
   "source": [
    "### Average Voting"
   ]
  },
  {
   "cell_type": "code",
   "execution_count": 96,
   "metadata": {
    "ExecuteTime": {
     "end_time": "2020-09-28T07:45:00.423045Z",
     "start_time": "2020-09-28T07:45:00.055102Z"
    }
   },
   "outputs": [
    {
     "name": "stdout",
     "output_type": "stream",
     "text": [
      "Training Accuracy - 1.0\n",
      "Testing Accuracy - 0.9291338582677166\n"
     ]
    }
   ],
   "source": [
    "avgvottrain=np.mean([trees[i].predict(X_train.iloc[:,cols[i]]) for i in range(len(trees))],axis=0).round()\n",
    "avgvottest=np.mean([trees[i].predict(X_test.iloc[:,cols[i]]) for i in range(len(trees))],axis=0).round()\n",
    "print(\"Training Accuracy -\",accuracy_score(y_train,avgvottrain))\n",
    "print(\"Testing Accuracy -\",accuracy_score(y_test,avgvottest))"
   ]
  },
  {
   "cell_type": "markdown",
   "metadata": {},
   "source": [
    "### Weighted Average Voting"
   ]
  },
  {
   "cell_type": "code",
   "execution_count": 97,
   "metadata": {
    "ExecuteTime": {
     "end_time": "2020-09-28T07:45:02.505487Z",
     "start_time": "2020-09-28T07:45:01.590238Z"
    }
   },
   "outputs": [
    {
     "name": "stdout",
     "output_type": "stream",
     "text": [
      "Training Accuracy - 1.0\n",
      "Testing Accuracy - 0.9291338582677166\n"
     ]
    }
   ],
   "source": [
    "avgwevottrain=np.mean([accuracy_score(y_train,trees[i].predict(X_train.iloc[:,cols[i]]))*trees[i].predict(X_train.iloc[:,cols[i]]) for \n",
    "                     i in range(len(trees))],axis=0).round()\n",
    "avgwevottest=np.mean([accuracy_score(y_test,trees[i].predict(X_test.iloc[:,cols[i]]))*trees[i].predict(X_test.iloc[:,cols[i]]) for\n",
    "                    i in range(len(trees))],axis=0).round()\n",
    "print(\"Training Accuracy -\",accuracy_score(y_train,avgvottrain))\n",
    "print(\"Testing Accuracy -\",accuracy_score(y_test,avgvottest))"
   ]
  },
  {
   "cell_type": "code",
   "execution_count": 98,
   "metadata": {
    "ExecuteTime": {
     "end_time": "2020-09-28T07:45:04.455271Z",
     "start_time": "2020-09-28T07:45:04.450732Z"
    },
    "id": "nFEQjBB3RBpM"
   },
   "outputs": [],
   "source": [
    "# Apply invidual trees trained on the testingset\n",
    "# Note: You should've saved the feature sets used for training invidual trees,\n",
    "# so that same features can be chosen in testing set\n",
    "\n",
    "# Get predictions on testing set"
   ]
  },
  {
   "cell_type": "code",
   "execution_count": 99,
   "metadata": {
    "ExecuteTime": {
     "end_time": "2020-09-28T07:45:05.395247Z",
     "start_time": "2020-09-28T07:45:05.385478Z"
    },
    "id": "m2qQ84BJRcNP"
   },
   "outputs": [],
   "source": [
    "# Evaluate the results using accuracy, precision, recall and f-measure"
   ]
  },
  {
   "cell_type": "code",
   "execution_count": 102,
   "metadata": {
    "ExecuteTime": {
     "end_time": "2020-09-28T07:46:18.597993Z",
     "start_time": "2020-09-28T07:46:18.558289Z"
    },
    "id": "z_-xfr-CRoDa"
   },
   "outputs": [
    {
     "name": "stdout",
     "output_type": "stream",
     "text": [
      "------------------------Max Voting------------------------\n",
      "              precision    recall  f1-score   support\n",
      "\n",
      "           0       0.95      0.99      0.97        78\n",
      "           1       0.96      0.92      0.94       118\n",
      "           2       0.90      0.91      0.91        58\n",
      "\n",
      "   micro avg       0.94      0.94      0.94       254\n",
      "   macro avg       0.94      0.94      0.94       254\n",
      "weighted avg       0.94      0.94      0.94       254\n",
      " samples avg       0.94      0.94      0.94       254\n",
      "\n",
      "\n",
      "------------------------Average Voting------------------------\n",
      "              precision    recall  f1-score   support\n",
      "\n",
      "           0       1.00      0.96      0.98        78\n",
      "           1       0.94      0.95      0.95       118\n",
      "           2       0.98      0.84      0.91        58\n",
      "\n",
      "   micro avg       0.97      0.93      0.95       254\n",
      "   macro avg       0.97      0.92      0.94       254\n",
      "weighted avg       0.97      0.93      0.95       254\n",
      " samples avg       0.93      0.93      0.93       254\n",
      "\n",
      "\n",
      "------------------------Weighted Average Voting------------------------\n",
      "              precision    recall  f1-score   support\n",
      "\n",
      "           0       1.00      0.95      0.97        78\n",
      "           1       0.97      0.90      0.93       118\n",
      "           2       0.98      0.84      0.91        58\n",
      "\n",
      "   micro avg       0.98      0.90      0.94       254\n",
      "   macro avg       0.98      0.90      0.94       254\n",
      "weighted avg       0.98      0.90      0.94       254\n",
      " samples avg       0.90      0.90      0.90       254\n",
      "\n",
      "\n"
     ]
    },
    {
     "name": "stderr",
     "output_type": "stream",
     "text": [
      "C:\\ProgramData\\Anaconda3\\lib\\site-packages\\sklearn\\metrics\\_classification.py:1221: UndefinedMetricWarning: Precision and F-score are ill-defined and being set to 0.0 in samples with no predicted labels. Use `zero_division` parameter to control this behavior.\n",
      "  _warn_prf(average, modifier, msg_start, len(result))\n"
     ]
    }
   ],
   "source": [
    "# Compare different voting mechanisms and their accuracies\n",
    "print(\"------------------------Max Voting------------------------\")\n",
    "print(classification_report(y_test,maxvottest))\n",
    "print()\n",
    "print(\"------------------------Average Voting------------------------\")\n",
    "print(classification_report(y_test,avgvottest))\n",
    "print()\n",
    "print(\"------------------------Weighted Average Voting------------------------\")\n",
    "print(classification_report(y_test,avgwevottest))\n",
    "print()"
   ]
  },
  {
   "cell_type": "code",
   "execution_count": 210,
   "metadata": {
    "ExecuteTime": {
     "end_time": "2020-09-28T08:44:21.475254Z",
     "start_time": "2020-09-28T08:44:21.450497Z"
    },
    "id": "V2UXYktmRryu"
   },
   "outputs": [],
   "source": [
    "# Compare the Random forest models with different number of trees N\n",
    "trainaccs=[]\n",
    "testaccs=[]\n",
    "n=300\n",
    "def rfc(n=100,min_fea=None):\n",
    "    trees=[]\n",
    "    cols=[]\n",
    "    for i in range(1,n+1):\n",
    "        if min_fea!=None:\n",
    "            columns = list(np.random.choice(range(X.shape[1]), min_fea, replace=False))\n",
    "        else:\n",
    "            N_columns =  list(np.random.choice(range(X.shape[1]),1)+1)\n",
    "            columns = list(np.random.choice(range(X.shape[1]), N_columns, replace=False))\n",
    "        cols.append(columns)\n",
    "        model=DecisionTreeClassifier(random_state=42)\n",
    "        model.fit(X_train.iloc[:,columns],y_train)\n",
    "        trees.append(model)\n",
    "    scores=[]\n",
    "    for i,j in zip(trees,cols):\n",
    "        scores.append(accuracy_score(i.predict(X_test.iloc[:,j]),y_test))\n",
    "    scores=np.array(scores)\n",
    "    maxvotmod=trees[np.argmax(scores)]\n",
    "    maxvottrain=maxvotmod.predict(X_train.iloc[:,cols[np.argmax(scores)]])\n",
    "    maxvottest=maxvotmod.predict(X_test.iloc[:,cols[np.argmax(scores)]])\n",
    "    return({'test':maxvottest,'train':maxvottrain})\n",
    "for i in range(1,n+1):\n",
    "    print(\"Training \"+str(i)+\" trees\")\n",
    "    accs=rfc(i)\n",
    "    trainaccs.append(accs['train'])\n",
    "    testaccs.append(accs['test'])"
   ]
  },
  {
   "cell_type": "code",
   "execution_count": 146,
   "metadata": {
    "ExecuteTime": {
     "end_time": "2020-09-28T08:11:40.812365Z",
     "start_time": "2020-09-28T08:11:40.642058Z"
    }
   },
   "outputs": [],
   "source": [
    "testacc=[]\n",
    "trainacc=[]\n",
    "for i in range(n+1):\n",
    "    testacc.append(accuracy_score(y_test,testaccs[i]))\n",
    "    trainacc.append(accuracy_score(y_train,trainaccs[i]))"
   ]
  },
  {
   "cell_type": "code",
   "execution_count": 148,
   "metadata": {
    "ExecuteTime": {
     "end_time": "2020-09-28T08:11:58.980180Z",
     "start_time": "2020-09-28T08:11:58.950409Z"
    }
   },
   "outputs": [
    {
     "data": {
      "text/plain": [
       "(100,)"
      ]
     },
     "execution_count": 148,
     "metadata": {},
     "output_type": "execute_result"
    }
   ],
   "source": [
    "np.array(trainacc).shape"
   ]
  },
  {
   "cell_type": "code",
   "execution_count": 154,
   "metadata": {
    "ExecuteTime": {
     "end_time": "2020-09-28T08:14:32.910120Z",
     "start_time": "2020-09-28T08:14:32.710131Z"
    }
   },
   "outputs": [
    {
     "data": {
      "text/plain": [
       "<matplotlib.legend.Legend at 0x1c0029e9250>"
      ]
     },
     "execution_count": 154,
     "metadata": {},
     "output_type": "execute_result"
    },
    {
     "data": {
      "image/png": "[encoded data removed]",
      "text/plain": [
       "<Figure size 576x396 with 1 Axes>"
      ]
     },
     "metadata": {},
     "output_type": "display_data"
    }
   ],
   "source": [
    "plt.style.use('seaborn')\n",
    "plt.plot([i for i in range(n+1)],testacc,label=\"Testing Accuracy\")\n",
    "plt.plot([i for i in range(n+1)],trainacc,label=\"Training Accuracy\")\n",
    "plt.ylabel('Accuracies')\n",
    "plt.xlabel('Number of Estimators')\n",
    "plt.legend()"
   ]
  },
  {
   "cell_type": "code",
   "execution_count": 218,
   "metadata": {
    "ExecuteTime": {
     "end_time": "2020-09-28T08:52:05.613204Z",
     "start_time": "2020-09-28T08:52:05.538186Z"
    }
   },
   "outputs": [
    {
     "data": {
      "text/plain": [
       "(592, 3)"
      ]
     },
     "execution_count": 218,
     "metadata": {},
     "output_type": "execute_result"
    }
   ],
   "source": [
    "accs=rfc(5)\n",
    "accs['train'].shape"
   ]
  },
  {
   "cell_type": "code",
   "execution_count": 223,
   "metadata": {
    "ExecuteTime": {
     "end_time": "2020-09-28T08:55:12.498578Z",
     "start_time": "2020-09-28T08:54:58.612586Z"
    },
    "id": "_grD0B0qRwOI"
   },
   "outputs": [
    {
     "name": "stdout",
     "output_type": "stream",
     "text": [
      "Trained model with minimum 1 features\n",
      "Trained model with minimum 2 features\n",
      "Trained model with minimum 3 features\n",
      "Trained model with minimum 4 features\n",
      "Trained model with minimum 5 features\n",
      "Trained model with minimum 6 features\n",
      "Trained model with minimum 7 features\n",
      "Trained model with minimum 8 features\n",
      "Trained model with minimum 9 features\n",
      "Trained model with minimum 10 features\n",
      "Trained model with minimum 11 features\n",
      "Trained model with minimum 12 features\n",
      "Trained model with minimum 13 features\n",
      "Trained model with minimum 14 features\n",
      "Trained model with minimum 15 features\n",
      "Trained model with minimum 16 features\n",
      "Trained model with minimum 17 features\n",
      "Trained model with minimum 18 features\n"
     ]
    }
   ],
   "source": [
    "testacc=[]\n",
    "trainacc=[]\n",
    "for i in range(1,19):\n",
    "    accs=rfc(100,min_fea=i)\n",
    "    testacc.append(accuracy_score(y_test,accs['test']))\n",
    "    trainacc.append(accuracy_score(y_train,accs['train']))\n",
    "    print(\"Trained model with minimum \"+str(i)+\" features\")\n",
    "    \n",
    "                                  "
   ]
  },
  {
   "cell_type": "code",
   "execution_count": 224,
   "metadata": {
    "ExecuteTime": {
     "end_time": "2020-09-28T08:55:16.638110Z",
     "start_time": "2020-09-28T08:55:16.408139Z"
    }
   },
   "outputs": [
    {
     "data": {
      "text/plain": [
       "<matplotlib.legend.Legend at 0x1c0057a2850>"
      ]
     },
     "execution_count": 224,
     "metadata": {},
     "output_type": "execute_result"
    },
    {
     "data": {
      "image/png": "[encoded data removed]",
      "text/plain": [
       "<Figure size 576x396 with 1 Axes>"
      ]
     },
     "metadata": {},
     "output_type": "display_data"
    }
   ],
   "source": [
    "plt.style.use('seaborn')\n",
    "plt.plot([i for i in range(1,19)],testacc,label=\"Testing Accuracy\")\n",
    "plt.plot([i for i in range(1,19)],trainacc,label=\"Training Accuracy\")\n",
    "plt.ylabel('Accuracies')\n",
    "plt.xlabel('Mininum number of Features')\n",
    "plt.legend()"
   ]
  },
  {
   "cell_type": "markdown",
   "metadata": {
    "id": "QGVYWKUcRnhA"
   },
   "source": [
    "## Part 2: Random Forest using Sklearn"
   ]
  },
  {
   "cell_type": "code",
   "execution_count": 226,
   "metadata": {
    "ExecuteTime": {
     "end_time": "2020-09-28T08:55:35.378537Z",
     "start_time": "2020-09-28T08:55:35.368253Z"
    },
    "id": "7vJ02XgwRm-O"
   },
   "outputs": [],
   "source": [
    "# Use the preprocessed dataset here"
   ]
  },
  {
   "cell_type": "code",
   "execution_count": 227,
   "metadata": {
    "ExecuteTime": {
     "end_time": "2020-09-28T08:56:07.958034Z",
     "start_time": "2020-09-28T08:56:07.698477Z"
    },
    "id": "mHEEc7BrSDG0"
   },
   "outputs": [
    {
     "name": "stdout",
     "output_type": "stream",
     "text": [
      "building tree 1 of 100\n",
      "building tree 2 of 100\n",
      "building tree 3 of 100\n",
      "building tree 4 of 100\n",
      "building tree 5 of 100\n",
      "building tree 6 of 100\n",
      "building tree 7 of 100\n",
      "building tree 8 of 100\n",
      "building tree 9 of 100\n",
      "building tree 10 of 100\n",
      "building tree 11 of 100\n",
      "building tree 12 of 100\n",
      "building tree 13 of 100\n",
      "building tree 14 of 100\n",
      "building tree 15 of 100\n",
      "building tree 16 of 100\n",
      "building tree 17 of 100\n",
      "building tree 18 of 100\n",
      "building tree 19 of 100\n",
      "building tree 20 of 100\n",
      "building tree 21 of 100\n",
      "building tree 22 of 100\n",
      "building tree 23 of 100\n",
      "building tree 24 of 100\n",
      "building tree 25 of 100\n",
      "building tree 26 of 100\n",
      "building tree 27 of 100\n",
      "building tree 28 of 100\n",
      "building tree 29 of 100\n",
      "building tree 30 of 100\n",
      "building tree 31 of 100\n",
      "building tree 32 of 100\n",
      "building tree 33 of 100\n",
      "building tree 34 of 100\n",
      "building tree 35 of 100\n",
      "building tree 36 of 100\n",
      "building tree 37 of 100\n",
      "building tree 38 of 100\n",
      "building tree 39 of 100\n",
      "building tree 40 of 100\n",
      "building tree 41 of 100\n",
      "building tree 42 of 100\n",
      "building tree 43 of 100\n",
      "building tree 44 of 100\n",
      "building tree 45 of 100\n",
      "building tree 46 of 100\n",
      "building tree 47 of 100\n",
      "building tree 48 of 100\n",
      "building tree 49 of 100\n",
      "building tree 50 of 100\n",
      "building tree 51 of 100\n",
      "building tree 52 of 100\n",
      "building tree 53 of 100\n",
      "building tree 54 of 100\n",
      "building tree 55 of 100\n",
      "building tree 56 of 100\n",
      "building tree 57 of 100\n",
      "building tree 58 of 100\n",
      "building tree 59 of 100\n",
      "building tree 60 of 100\n",
      "building tree 61 of 100\n",
      "building tree 62 of 100\n",
      "building tree 63 of 100\n",
      "building tree 64 of 100\n",
      "building tree 65 of 100\n",
      "building tree 66 of 100\n",
      "building tree 67 of 100\n",
      "building tree 68 of 100\n",
      "building tree 69 of 100\n",
      "building tree 70 of 100\n",
      "building tree 71 of 100\n",
      "building tree 72 of 100\n",
      "building tree 73 of 100\n",
      "building tree 74 of 100\n",
      "building tree 75 of 100\n",
      "building tree 76 of 100\n",
      "building tree 77 of 100\n",
      "building tree 78 of 100\n",
      "building tree 79 of 100\n",
      "building tree 80 of 100\n",
      "building tree 81 of 100\n",
      "building tree 82 of 100\n",
      "building tree 83 of 100\n",
      "building tree 84 of 100\n",
      "building tree 85 of 100\n",
      "building tree 86 of 100\n",
      "building tree 87 of 100\n",
      "building tree 88 of 100\n",
      "building tree 89 of 100\n",
      "building tree 90 of 100\n",
      "building tree 91 of 100\n",
      "building tree 92 of 100\n",
      "building tree 93 of 100\n",
      "building tree 94 of 100\n",
      "building tree 95 of 100\n",
      "building tree 96 of 100\n",
      "building tree 97 of 100\n",
      "building tree 98 of 100\n",
      "building tree 99 of 100\n",
      "building tree 100 of 100\n"
     ]
    },
    {
     "name": "stderr",
     "output_type": "stream",
     "text": [
      "[Parallel(n_jobs=1)]: Using backend SequentialBackend with 1 concurrent workers.\n",
      "[Parallel(n_jobs=1)]: Done   1 out of   1 | elapsed:    0.0s remaining:    0.0s\n",
      "[Parallel(n_jobs=1)]: Done   2 out of   2 | elapsed:    0.0s remaining:    0.0s\n",
      "[Parallel(n_jobs=1)]: Done 100 out of 100 | elapsed:    0.1s finished\n"
     ]
    },
    {
     "data": {
      "text/plain": [
       "RandomForestClassifier(verbose=3)"
      ]
     },
     "execution_count": 227,
     "metadata": {},
     "output_type": "execute_result"
    }
   ],
   "source": [
    "# Train the Random Forest Model using builtin Sklearn Dataset\n",
    "model=RandomForestClassifier(verbose=3)\n",
    "model.fit(X_train,y_train)\n"
   ]
  },
  {
   "cell_type": "code",
   "execution_count": 232,
   "metadata": {
    "ExecuteTime": {
     "end_time": "2020-09-28T08:56:53.137972Z",
     "start_time": "2020-09-28T08:56:53.088429Z"
    },
    "id": "I-YJEeqPSIk1"
   },
   "outputs": [
    {
     "name": "stdout",
     "output_type": "stream",
     "text": [
      "              precision    recall  f1-score   support\n",
      "\n",
      "           0       1.00      0.97      0.99        78\n",
      "           1       0.98      0.97      0.97       118\n",
      "           2       0.96      0.93      0.95        58\n",
      "\n",
      "   micro avg       0.98      0.96      0.97       254\n",
      "   macro avg       0.98      0.96      0.97       254\n",
      "weighted avg       0.98      0.96      0.97       254\n",
      " samples avg       0.96      0.96      0.96       254\n",
      "\n"
     ]
    },
    {
     "name": "stderr",
     "output_type": "stream",
     "text": [
      "[Parallel(n_jobs=1)]: Using backend SequentialBackend with 1 concurrent workers.\n",
      "[Parallel(n_jobs=1)]: Done   1 out of   1 | elapsed:    0.0s remaining:    0.0s\n",
      "[Parallel(n_jobs=1)]: Done   2 out of   2 | elapsed:    0.0s remaining:    0.0s\n",
      "[Parallel(n_jobs=1)]: Done 100 out of 100 | elapsed:    0.0s finished\n",
      "C:\\ProgramData\\Anaconda3\\lib\\site-packages\\sklearn\\metrics\\_classification.py:1221: UndefinedMetricWarning: Precision and F-score are ill-defined and being set to 0.0 in samples with no predicted labels. Use `zero_division` parameter to control this behavior.\n",
      "  _warn_prf(average, modifier, msg_start, len(result))\n"
     ]
    }
   ],
   "source": [
    "# Test the model with testing set and print the accuracy, precision, recall and f-measure\n",
    "y_pred=model.predict(X_test)\n",
    "print(classification_report(y_test,y_pred))"
   ]
  },
  {
   "cell_type": "code",
   "execution_count": null,
   "metadata": {
    "id": "qlwe8gonSVFd"
   },
   "outputs": [],
   "source": [
    "# Play with parameters such as\n",
    "# number of decision trees\n",
    "# Criterion for splitting\n",
    "# Max depth\n",
    "# Minimum samples per split and leaf"
   ]
  },
  {
   "cell_type": "code",
   "execution_count": 233,
   "metadata": {
    "ExecuteTime": {
     "end_time": "2020-09-28T08:59:34.173826Z",
     "start_time": "2020-09-28T08:59:33.882567Z"
    }
   },
   "outputs": [
    {
     "name": "stdout",
     "output_type": "stream",
     "text": [
      "1.0\n",
      "0.9645669291338582\n"
     ]
    }
   ],
   "source": [
    "model=RandomForestClassifier(criterion='entropy')\n",
    "model.fit(X_train,y_train)\n",
    "print(model.score(X_train,y_train))\n",
    "print(model.score(X_test,y_test))"
   ]
  },
  {
   "cell_type": "code",
   "execution_count": 234,
   "metadata": {
    "ExecuteTime": {
     "end_time": "2020-09-28T08:59:51.368585Z",
     "start_time": "2020-09-28T08:59:51.105264Z"
    }
   },
   "outputs": [
    {
     "name": "stdout",
     "output_type": "stream",
     "text": [
      "1.0\n",
      "0.9724409448818898\n"
     ]
    }
   ],
   "source": [
    "model=RandomForestClassifier(criterion='gini')\n",
    "model.fit(X_train,y_train)\n",
    "print(model.score(X_train,y_train))\n",
    "print(model.score(X_test,y_test))"
   ]
  },
  {
   "cell_type": "code",
   "execution_count": 255,
   "metadata": {
    "ExecuteTime": {
     "end_time": "2020-09-28T09:01:29.657127Z",
     "start_time": "2020-09-28T09:01:29.205338Z"
    }
   },
   "outputs": [
    {
     "name": "stdout",
     "output_type": "stream",
     "text": [
      "1.0\n",
      "0.9606299212598425\n"
     ]
    }
   ],
   "source": [
    "model=RandomForestClassifier(n_estimators=200,max_depth=18)\n",
    "model.fit(X_train,y_train)\n",
    "print(model.score(X_train,y_train))\n",
    "print(model.score(X_test,y_test))"
   ]
  },
  {
   "cell_type": "code",
   "execution_count": 267,
   "metadata": {
    "ExecuteTime": {
     "end_time": "2020-09-28T09:02:52.572399Z",
     "start_time": "2020-09-28T09:02:52.105114Z"
    }
   },
   "outputs": [
    {
     "name": "stdout",
     "output_type": "stream",
     "text": [
      "0.9932432432432432\n",
      "0.952755905511811\n"
     ]
    }
   ],
   "source": [
    "model=RandomForestClassifier(n_estimators=200,min_samples_split=6,min_samples_leaf=3)\n",
    "model.fit(X_train,y_train)\n",
    "print(model.score(X_train,y_train))\n",
    "print(model.score(X_test,y_test))"
   ]
  },
  {
   "cell_type": "code",
   "execution_count": null,
   "metadata": {},
   "outputs": [],
   "source": []
  }
 ],
 "metadata": {
  "colab": {
   "collapsed_sections": [],
   "name": "Task 1 - RandomForest_from_scratch.ipynb",
   "provenance": []
  },
  "kernelspec": {
   "display_name": "Python 3",
   "language": "python",
   "name": "python3"
  },
  "language_info": {
   "codemirror_mode": {
    "name": "ipython",
    "version": 3
   },
   "file_extension": ".py",
   "mimetype": "text/x-python",
   "name": "python",
   "nbconvert_exporter": "python",
   "pygments_lexer": "ipython3",
   "version": "3.8.5"
  },
  "varInspector": {
   "cols": {
    "lenName": 16,
    "lenType": 16,
    "lenVar": 40
   },
   "kernels_config": {
    "python": {
     "delete_cmd_postfix": "",
     "delete_cmd_prefix": "del ",
     "library": "var_list.py",
     "varRefreshCmd": "print(var_dic_list())"
    },
    "r": {
     "delete_cmd_postfix": ") ",
     "delete_cmd_prefix": "rm(",
     "library": "var_list.r",
     "varRefreshCmd": "cat(var_dic_list()) "
    }
   },
   "types_to_exclude": [
    "module",
    "function",
    "builtin_function_or_method",
    "instance",
    "_Feature"
   ],
   "window_display": false
  }
 },
 "nbformat": 4,
 "nbformat_minor": 1
}
