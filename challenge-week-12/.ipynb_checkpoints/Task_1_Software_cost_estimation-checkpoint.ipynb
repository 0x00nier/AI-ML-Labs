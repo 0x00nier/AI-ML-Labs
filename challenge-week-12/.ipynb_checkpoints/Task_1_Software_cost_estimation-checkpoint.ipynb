{
 "cells": [
  {
   "cell_type": "markdown",
   "metadata": {
    "id": "1yGvcerZa0S8"
   },
   "source": [
    "# Objective: Feature Subset Selection to Improve Software Cost Estimation\n",
    "\n",
    "## Dataset\n",
    "This is a PROMISE Software Engineering Repository data set made publicly available to encourage repeatable, verifiable, refutable, and/or improvable predictive models of software engineering. The main objective is to estimate the software cost estimation using feature subset selection techniques.\n",
    "\n",
    "## Attributes\n",
    "1.\tRELY {Nominal,Very_High,High,Low} \n",
    "2.\tDATA {High,Low,Nominal,Very_High} \n",
    "3.\tCPLX {Very_High,High,Nominal,Extra_High,Low} \n",
    "4.\tTIME {Nominal,Very_High,High,Extra_High} \n",
    "5.\tSTOR {Nominal,Very_High,High,Extra_High} \n",
    "6.\tVIRT {Low,Nominal,High}\n",
    "7.\tTURN {Nominal,High,Low}\n",
    "8.\tACAP {High,Very_High,Nominal} \n",
    "9.\tAEXP {Nominal,Very_High,High} \n",
    "10.\tPCAP {Very_High,High,Nominal}\n",
    "11.\tVEXP {Low,Nominal,High}\n",
    "12.\tLEXP {Nominal,High,Very_Low,Low} \n",
    "13.\tMODP {High,Nominal,Very_High,Low}\n",
    "14.\tTOOL {Nominal,High,Very_High,Very_Low,Low} \n",
    "15.\tSCED {Low,Nominal,High}\n",
    "16.\tLOC numeric \n",
    "\n",
    "## Target Class\n",
    "ACT_EFFORT numeric %17\n",
    "\n",
    "### Source: http://promise.site.uottawa.ca/SERepository/datasets/cocomonasa_v1.arff\n",
    "\n",
    "Tasks:\n",
    "1.\tObtain the software cost estimation dataset\n",
    "2.\tApply pre-processing techniques (if any)\n",
    "3.\tApply feature subset selection techniques such as correlation analysis, forward selection, backward elimination, recursive feature elimination etc. Find best possible subset of features from each method.\n",
    "4.\tDivide dataset into training and testing set, respectively.\n",
    "5.\tImplement support vector regression (SVR), Linear regression, and Decision tree.\n",
    "6.\tEnsemble SVR, Linear regression and Decision tree. \n",
    "7.\tEvaluate Coefficient of determination and Root mean square error for all the models including the ensemble one.\n",
    "8.\tConclude the results\n",
    "\n",
    "Helpful links: https://scikit-learn.org/stable/modules/ensemble.html\n",
    "https://www.analyticsvidhya.com/blog/2020/03/support-vector-regression-tutorial-for-machine-learning/\n",
    "https://medium.com/pursuitnotes/support-vector-regression-in-6-steps-with-python-c4569acd062d\n",
    "https://scikit-learn.org/stable/auto_examples/svm/plot_svm_regression.html\n"
   ]
  },
  {
   "cell_type": "markdown",
   "metadata": {
    "id": "5uFw2frEUF0y"
   },
   "source": [
    "## Task 1: Implementation of regression models "
   ]
  },
  {
   "cell_type": "code",
   "execution_count": 101,
   "metadata": {
    "ExecuteTime": {
     "end_time": "2020-10-26T10:31:41.663656Z",
     "start_time": "2020-10-26T10:31:41.648004Z"
    },
    "id": "Duh_Q74qIidS"
   },
   "outputs": [],
   "source": [
    "# Load the libraries\n",
    "import pandas as pd\n",
    "import numpy as np\n",
    "from sklearn.model_selection import train_test_split\n",
    "from sklearn.svm import LinearSVR\n",
    "from sklearn.tree import DecisionTreeRegressor\n",
    "from sklearn.linear_model import LinearRegression\n",
    "from sklearn.preprocessing import StandardScaler,LabelEncoder,OrdinalEncoder\n",
    "from scipy.io import arff\n",
    "from sklearn.utils import shuffle\n",
    "from sklearn.metrics import accuracy_score,recall_score,mean_squared_error\n",
    "from sklearn.feature_selection import SelectKBest,f_classif\n",
    "from sklearn.ensemble import RandomForestRegressor"
   ]
  },
  {
   "cell_type": "code",
   "execution_count": 102,
   "metadata": {
    "ExecuteTime": {
     "end_time": "2020-10-26T10:31:42.487125Z",
     "start_time": "2020-10-26T10:31:42.248738Z"
    },
    "id": "SyioH2iYIjhk"
   },
   "outputs": [
    {
     "data": {
      "text/html": [
       "<div>\n",
       "<style scoped>\n",
       "    .dataframe tbody tr th:only-of-type {\n",
       "        vertical-align: middle;\n",
       "    }\n",
       "\n",
       "    .dataframe tbody tr th {\n",
       "        vertical-align: top;\n",
       "    }\n",
       "\n",
       "    .dataframe thead th {\n",
       "        text-align: right;\n",
       "    }\n",
       "</style>\n",
       "<table border=\"1\" class=\"dataframe\">\n",
       "  <thead>\n",
       "    <tr style=\"text-align: right;\">\n",
       "      <th></th>\n",
       "      <th>RELY</th>\n",
       "      <th>DATA</th>\n",
       "      <th>CPLX</th>\n",
       "      <th>TIME</th>\n",
       "      <th>STOR</th>\n",
       "      <th>VIRT</th>\n",
       "      <th>TURN</th>\n",
       "      <th>ACAP</th>\n",
       "      <th>AEXP</th>\n",
       "      <th>PCAP</th>\n",
       "      <th>VEXP</th>\n",
       "      <th>LEXP</th>\n",
       "      <th>MODP</th>\n",
       "      <th>TOOL</th>\n",
       "      <th>SCED</th>\n",
       "      <th>LOC</th>\n",
       "      <th>ACT_EFFORT</th>\n",
       "    </tr>\n",
       "  </thead>\n",
       "  <tbody>\n",
       "    <tr>\n",
       "      <th>0</th>\n",
       "      <td>Nominal</td>\n",
       "      <td>High</td>\n",
       "      <td>Very_High</td>\n",
       "      <td>Nominal</td>\n",
       "      <td>Nominal</td>\n",
       "      <td>Low</td>\n",
       "      <td>Nominal</td>\n",
       "      <td>High</td>\n",
       "      <td>Nominal</td>\n",
       "      <td>Very_High</td>\n",
       "      <td>Low</td>\n",
       "      <td>Nominal</td>\n",
       "      <td>High</td>\n",
       "      <td>Nominal</td>\n",
       "      <td>Low</td>\n",
       "      <td>70.0</td>\n",
       "      <td>278.0</td>\n",
       "    </tr>\n",
       "    <tr>\n",
       "      <th>1</th>\n",
       "      <td>Very_High</td>\n",
       "      <td>High</td>\n",
       "      <td>High</td>\n",
       "      <td>Very_High</td>\n",
       "      <td>Very_High</td>\n",
       "      <td>Nominal</td>\n",
       "      <td>Nominal</td>\n",
       "      <td>Very_High</td>\n",
       "      <td>Very_High</td>\n",
       "      <td>Very_High</td>\n",
       "      <td>Nominal</td>\n",
       "      <td>High</td>\n",
       "      <td>High</td>\n",
       "      <td>High</td>\n",
       "      <td>Low</td>\n",
       "      <td>227.0</td>\n",
       "      <td>1181.0</td>\n",
       "    </tr>\n",
       "    <tr>\n",
       "      <th>2</th>\n",
       "      <td>Nominal</td>\n",
       "      <td>High</td>\n",
       "      <td>High</td>\n",
       "      <td>Very_High</td>\n",
       "      <td>High</td>\n",
       "      <td>Low</td>\n",
       "      <td>High</td>\n",
       "      <td>High</td>\n",
       "      <td>Nominal</td>\n",
       "      <td>High</td>\n",
       "      <td>Low</td>\n",
       "      <td>High</td>\n",
       "      <td>High</td>\n",
       "      <td>Nominal</td>\n",
       "      <td>Low</td>\n",
       "      <td>177.9</td>\n",
       "      <td>1248.0</td>\n",
       "    </tr>\n",
       "    <tr>\n",
       "      <th>3</th>\n",
       "      <td>High</td>\n",
       "      <td>Low</td>\n",
       "      <td>High</td>\n",
       "      <td>Nominal</td>\n",
       "      <td>Nominal</td>\n",
       "      <td>Low</td>\n",
       "      <td>Low</td>\n",
       "      <td>Nominal</td>\n",
       "      <td>Nominal</td>\n",
       "      <td>Nominal</td>\n",
       "      <td>Nominal</td>\n",
       "      <td>High</td>\n",
       "      <td>High</td>\n",
       "      <td>Nominal</td>\n",
       "      <td>Low</td>\n",
       "      <td>115.8</td>\n",
       "      <td>480.0</td>\n",
       "    </tr>\n",
       "    <tr>\n",
       "      <th>4</th>\n",
       "      <td>High</td>\n",
       "      <td>Low</td>\n",
       "      <td>High</td>\n",
       "      <td>Nominal</td>\n",
       "      <td>Nominal</td>\n",
       "      <td>Low</td>\n",
       "      <td>Low</td>\n",
       "      <td>Nominal</td>\n",
       "      <td>Nominal</td>\n",
       "      <td>Nominal</td>\n",
       "      <td>Nominal</td>\n",
       "      <td>High</td>\n",
       "      <td>High</td>\n",
       "      <td>Nominal</td>\n",
       "      <td>Low</td>\n",
       "      <td>29.5</td>\n",
       "      <td>120.0</td>\n",
       "    </tr>\n",
       "  </tbody>\n",
       "</table>\n",
       "</div>"
      ],
      "text/plain": [
       "        RELY  DATA       CPLX       TIME       STOR     VIRT     TURN  \\\n",
       "0    Nominal  High  Very_High    Nominal    Nominal      Low  Nominal   \n",
       "1  Very_High  High       High  Very_High  Very_High  Nominal  Nominal   \n",
       "2    Nominal  High       High  Very_High       High      Low     High   \n",
       "3       High   Low       High    Nominal    Nominal      Low      Low   \n",
       "4       High   Low       High    Nominal    Nominal      Low      Low   \n",
       "\n",
       "        ACAP       AEXP       PCAP     VEXP     LEXP  MODP     TOOL SCED  \\\n",
       "0       High    Nominal  Very_High      Low  Nominal  High  Nominal  Low   \n",
       "1  Very_High  Very_High  Very_High  Nominal     High  High     High  Low   \n",
       "2       High    Nominal       High      Low     High  High  Nominal  Low   \n",
       "3    Nominal    Nominal    Nominal  Nominal     High  High  Nominal  Low   \n",
       "4    Nominal    Nominal    Nominal  Nominal     High  High  Nominal  Low   \n",
       "\n",
       "     LOC  ACT_EFFORT  \n",
       "0   70.0       278.0  \n",
       "1  227.0      1181.0  \n",
       "2  177.9      1248.0  \n",
       "3  115.8       480.0  \n",
       "4   29.5       120.0  "
      ]
     },
     "execution_count": 102,
     "metadata": {},
     "output_type": "execute_result"
    }
   ],
   "source": [
    "# Load the dataset \n",
    "\n",
    "data=arff.loadarff('cocomonasa_v1.arff')\n",
    "data=data[0]\n",
    "df=pd.DataFrame(data)\n",
    "for i in range(df.shape[0]):\n",
    "    for j in range(df.shape[1]-2):\n",
    "        df.iloc[i,j]=df.iloc[i,j].decode('utf-8')\n",
    "df.head()"
   ]
  },
  {
   "cell_type": "code",
   "execution_count": 103,
   "metadata": {
    "ExecuteTime": {
     "end_time": "2020-10-26T10:31:42.850570Z",
     "start_time": "2020-10-26T10:31:42.803737Z"
    },
    "id": "vtfupr9JInhf"
   },
   "outputs": [
    {
     "data": {
      "text/html": [
       "<div>\n",
       "<style scoped>\n",
       "    .dataframe tbody tr th:only-of-type {\n",
       "        vertical-align: middle;\n",
       "    }\n",
       "\n",
       "    .dataframe tbody tr th {\n",
       "        vertical-align: top;\n",
       "    }\n",
       "\n",
       "    .dataframe thead th {\n",
       "        text-align: right;\n",
       "    }\n",
       "</style>\n",
       "<table border=\"1\" class=\"dataframe\">\n",
       "  <thead>\n",
       "    <tr style=\"text-align: right;\">\n",
       "      <th></th>\n",
       "      <th>RELY</th>\n",
       "      <th>DATA</th>\n",
       "      <th>CPLX</th>\n",
       "      <th>TIME</th>\n",
       "      <th>STOR</th>\n",
       "      <th>VIRT</th>\n",
       "      <th>TURN</th>\n",
       "      <th>ACAP</th>\n",
       "      <th>AEXP</th>\n",
       "      <th>PCAP</th>\n",
       "      <th>VEXP</th>\n",
       "      <th>LEXP</th>\n",
       "      <th>MODP</th>\n",
       "      <th>TOOL</th>\n",
       "      <th>SCED</th>\n",
       "      <th>LOC</th>\n",
       "      <th>ACT_EFFORT</th>\n",
       "    </tr>\n",
       "  </thead>\n",
       "  <tbody>\n",
       "    <tr>\n",
       "      <th>0</th>\n",
       "      <td>0.0</td>\n",
       "      <td>0.0</td>\n",
       "      <td>0.0</td>\n",
       "      <td>0.0</td>\n",
       "      <td>0.0</td>\n",
       "      <td>0.0</td>\n",
       "      <td>0.0</td>\n",
       "      <td>0.0</td>\n",
       "      <td>0.0</td>\n",
       "      <td>0.0</td>\n",
       "      <td>0.0</td>\n",
       "      <td>0.0</td>\n",
       "      <td>0.0</td>\n",
       "      <td>0.0</td>\n",
       "      <td>0.0</td>\n",
       "      <td>70.0</td>\n",
       "      <td>278.0</td>\n",
       "    </tr>\n",
       "    <tr>\n",
       "      <th>1</th>\n",
       "      <td>1.0</td>\n",
       "      <td>0.0</td>\n",
       "      <td>1.0</td>\n",
       "      <td>1.0</td>\n",
       "      <td>1.0</td>\n",
       "      <td>1.0</td>\n",
       "      <td>0.0</td>\n",
       "      <td>1.0</td>\n",
       "      <td>1.0</td>\n",
       "      <td>0.0</td>\n",
       "      <td>1.0</td>\n",
       "      <td>1.0</td>\n",
       "      <td>0.0</td>\n",
       "      <td>1.0</td>\n",
       "      <td>0.0</td>\n",
       "      <td>227.0</td>\n",
       "      <td>1181.0</td>\n",
       "    </tr>\n",
       "    <tr>\n",
       "      <th>2</th>\n",
       "      <td>0.0</td>\n",
       "      <td>0.0</td>\n",
       "      <td>1.0</td>\n",
       "      <td>1.0</td>\n",
       "      <td>2.0</td>\n",
       "      <td>0.0</td>\n",
       "      <td>1.0</td>\n",
       "      <td>0.0</td>\n",
       "      <td>0.0</td>\n",
       "      <td>1.0</td>\n",
       "      <td>0.0</td>\n",
       "      <td>1.0</td>\n",
       "      <td>0.0</td>\n",
       "      <td>0.0</td>\n",
       "      <td>0.0</td>\n",
       "      <td>177.9</td>\n",
       "      <td>1248.0</td>\n",
       "    </tr>\n",
       "    <tr>\n",
       "      <th>3</th>\n",
       "      <td>2.0</td>\n",
       "      <td>1.0</td>\n",
       "      <td>1.0</td>\n",
       "      <td>0.0</td>\n",
       "      <td>0.0</td>\n",
       "      <td>0.0</td>\n",
       "      <td>2.0</td>\n",
       "      <td>2.0</td>\n",
       "      <td>0.0</td>\n",
       "      <td>2.0</td>\n",
       "      <td>1.0</td>\n",
       "      <td>1.0</td>\n",
       "      <td>0.0</td>\n",
       "      <td>0.0</td>\n",
       "      <td>0.0</td>\n",
       "      <td>115.8</td>\n",
       "      <td>480.0</td>\n",
       "    </tr>\n",
       "    <tr>\n",
       "      <th>4</th>\n",
       "      <td>2.0</td>\n",
       "      <td>1.0</td>\n",
       "      <td>1.0</td>\n",
       "      <td>0.0</td>\n",
       "      <td>0.0</td>\n",
       "      <td>0.0</td>\n",
       "      <td>2.0</td>\n",
       "      <td>2.0</td>\n",
       "      <td>0.0</td>\n",
       "      <td>2.0</td>\n",
       "      <td>1.0</td>\n",
       "      <td>1.0</td>\n",
       "      <td>0.0</td>\n",
       "      <td>0.0</td>\n",
       "      <td>0.0</td>\n",
       "      <td>29.5</td>\n",
       "      <td>120.0</td>\n",
       "    </tr>\n",
       "  </tbody>\n",
       "</table>\n",
       "</div>"
      ],
      "text/plain": [
       "   RELY  DATA  CPLX  TIME  STOR  VIRT  TURN  ACAP  AEXP  PCAP  VEXP  LEXP  \\\n",
       "0   0.0   0.0   0.0   0.0   0.0   0.0   0.0   0.0   0.0   0.0   0.0   0.0   \n",
       "1   1.0   0.0   1.0   1.0   1.0   1.0   0.0   1.0   1.0   0.0   1.0   1.0   \n",
       "2   0.0   0.0   1.0   1.0   2.0   0.0   1.0   0.0   0.0   1.0   0.0   1.0   \n",
       "3   2.0   1.0   1.0   0.0   0.0   0.0   2.0   2.0   0.0   2.0   1.0   1.0   \n",
       "4   2.0   1.0   1.0   0.0   0.0   0.0   2.0   2.0   0.0   2.0   1.0   1.0   \n",
       "\n",
       "   MODP  TOOL  SCED    LOC  ACT_EFFORT  \n",
       "0   0.0   0.0   0.0   70.0       278.0  \n",
       "1   0.0   1.0   0.0  227.0      1181.0  \n",
       "2   0.0   0.0   0.0  177.9      1248.0  \n",
       "3   0.0   0.0   0.0  115.8       480.0  \n",
       "4   0.0   0.0   0.0   29.5       120.0  "
      ]
     },
     "execution_count": 103,
     "metadata": {},
     "output_type": "execute_result"
    }
   ],
   "source": [
    "# Preprocessing\n",
    "# Encoding categorical variables (if any)\n",
    "# Feature Scaling\n",
    "# Filling missing values (if any)\n",
    "categories = [list(df[i].unique()) for i in df.columns[:-2]]\n",
    "categories\n",
    "enc=OrdinalEncoder(categories=categories)\n",
    "df.iloc[:,:-2]=enc.fit_transform(df.iloc[:,:-2])\n",
    "df.head()"
   ]
  },
  {
   "cell_type": "code",
   "execution_count": 104,
   "metadata": {
    "ExecuteTime": {
     "end_time": "2020-10-26T10:31:43.135940Z",
     "start_time": "2020-10-26T10:31:43.104862Z"
    }
   },
   "outputs": [],
   "source": [
    "scaler=StandardScaler()\n",
    "df['LOC']=scaler.fit_transform(np.array(df['LOC']).reshape(-1,1))"
   ]
  },
  {
   "cell_type": "code",
   "execution_count": 105,
   "metadata": {
    "ExecuteTime": {
     "end_time": "2020-10-26T10:31:43.452611Z",
     "start_time": "2020-10-26T10:31:43.421449Z"
    }
   },
   "outputs": [],
   "source": [
    "X=df.drop('ACT_EFFORT',axis=1)\n",
    "y=df['ACT_EFFORT']"
   ]
  },
  {
   "cell_type": "code",
   "execution_count": 106,
   "metadata": {
    "ExecuteTime": {
     "end_time": "2020-10-26T10:31:43.791269Z",
     "start_time": "2020-10-26T10:31:43.775630Z"
    },
    "id": "ylhtVecl-5kT"
   },
   "outputs": [
    {
     "name": "stderr",
     "output_type": "stream",
     "text": [
      "C:\\ProgramData\\Anaconda3\\lib\\site-packages\\sklearn\\feature_selection\\_univariate_selection.py:116: RuntimeWarning:\n",
      "\n",
      "divide by zero encountered in true_divide\n",
      "\n"
     ]
    }
   ],
   "source": [
    "# Apply feature subset selection techniques \n",
    "estimator=LinearRegression()\n",
    "sel=SelectKBest(f_classif,k=15)\n",
    "X=sel.fit_transform(X,y)"
   ]
  },
  {
   "cell_type": "code",
   "execution_count": 107,
   "metadata": {
    "ExecuteTime": {
     "end_time": "2020-10-26T10:31:44.139255Z",
     "start_time": "2020-10-26T10:31:44.123634Z"
    },
    "id": "13owZH7mIpZp"
   },
   "outputs": [],
   "source": [
    "# Divide the dataset to training and testing set\n",
    "X_train, X_test, y_train, y_test = train_test_split(X, y, test_size=0.30, random_state=42)"
   ]
  },
  {
   "cell_type": "code",
   "execution_count": 108,
   "metadata": {
    "ExecuteTime": {
     "end_time": "2020-10-26T10:31:44.659739Z",
     "start_time": "2020-10-26T10:31:44.628673Z"
    },
    "id": "-KEJ1BB8a5xQ"
   },
   "outputs": [
    {
     "name": "stdout",
     "output_type": "stream",
     "text": [
      "Training Accuracy (1) -  0.9658112787040599\n",
      "Training Accuracy (2) -  1.0\n",
      "Training Accuracy (3) -  -0.12339691972310973\n"
     ]
    }
   ],
   "source": [
    "# Build regression models \n",
    "model=LinearRegression()\n",
    "model1=DecisionTreeRegressor()\n",
    "model2=LinearSVR()\n",
    "model.fit(X_train,y_train)\n",
    "model1.fit(X_train,y_train)\n",
    "model2.fit(X_train,y_train)\n",
    "print('Training Accuracy (1) - ',model.score(X_train,y_train))\n",
    "print('Training Accuracy (2) - ',model1.score(X_train,y_train))\n",
    "print('Training Accuracy (3) - ',model2.score(X_train,y_train))"
   ]
  },
  {
   "cell_type": "code",
   "execution_count": 109,
   "metadata": {
    "ExecuteTime": {
     "end_time": "2020-10-26T10:31:45.117502Z",
     "start_time": "2020-10-26T10:31:45.101854Z"
    },
    "id": "jOIhehoYbSsJ"
   },
   "outputs": [
    {
     "name": "stdout",
     "output_type": "stream",
     "text": [
      "Testing Accuracy (1) -  0.8890984128477836\n",
      "Testing Accuracy (2) -  0.6305570560629776\n",
      "Testing Accuracy (3) -  -0.1931437346637499\n"
     ]
    }
   ],
   "source": [
    "# Evaluate the build model on test dataset\n",
    "print('Testing Accuracy (1) - ',model.score(X_test,y_test))\n",
    "print('Testing Accuracy (2) - ',model1.score(X_test,y_test))\n",
    "print('Testing Accuracy (3) - ',model2.score(X_test,y_test))"
   ]
  },
  {
   "cell_type": "code",
   "execution_count": 129,
   "metadata": {
    "ExecuteTime": {
     "end_time": "2020-10-26T10:39:03.018241Z",
     "start_time": "2020-10-26T10:39:02.987157Z"
    },
    "id": "XUBOrqrbbX-u"
   },
   "outputs": [
    {
     "name": "stdout",
     "output_type": "stream",
     "text": [
      "Training RMSE (1) -  100.53450948463174\n",
      "Training RMSE (2) -  0.0\n",
      "Training RMSE (3) -  576.2890248476601\n",
      "\n",
      "Testing RMSE (1) -  279.2110177739933\n",
      "Testing RMSE (2) -  509.60931659022435\n",
      "Testing RMSE (3) -  915.8198521843149\n"
     ]
    }
   ],
   "source": [
    "# Evaluate training and testing coefficient of determination and root mean squre error\n",
    "print('Training RMSE (1) - ',mean_squared_error(y_train,model.predict(X_train))**0.5)\n",
    "print('Training RMSE (2) - ',mean_squared_error(y_train,model1.predict(X_train))**0.5)\n",
    "print('Training RMSE (3) - ',mean_squared_error(y_train,model2.predict(X_train))**0.5)\n",
    "print()\n",
    "print('Testing RMSE (1) - ',mean_squared_error(y_test,model.predict(X_test))**0.5)\n",
    "print('Testing RMSE (2) - ',mean_squared_error(y_test,model1.predict(X_test))**0.5)\n",
    "print('Testing RMSE (3) - ',mean_squared_error(y_test,model2.predict(X_test))**0.5)\n"
   ]
  },
  {
   "cell_type": "markdown",
   "metadata": {
    "id": "9hZF7xcjbdAF"
   },
   "source": [
    "## Task 2: Ensemble regression models\n"
   ]
  },
  {
   "cell_type": "code",
   "execution_count": 130,
   "metadata": {
    "ExecuteTime": {
     "end_time": "2020-10-26T10:40:16.188877Z",
     "start_time": "2020-10-26T10:40:16.173246Z"
    },
    "id": "GHOGKAXiCsSN"
   },
   "outputs": [],
   "source": [
    "# Ensemble the regression models\n",
    "ensembletrain=np.vstack((model.predict(X_train),model1.predict(X_train),model2.predict(X_train)))\n",
    "ensembletrain=np.mean(ensembletrain,axis=0)\n",
    "ensembletest=np.vstack((model.predict(X_test),model1.predict(X_test),model2.predict(X_test)))\n",
    "ensembletest=np.mean(ensembletest,axis=0)"
   ]
  },
  {
   "cell_type": "code",
   "execution_count": 131,
   "metadata": {
    "ExecuteTime": {
     "end_time": "2020-10-26T10:40:34.831190Z",
     "start_time": "2020-10-26T10:40:34.815539Z"
    },
    "id": "-Gue0Z-p_WXw"
   },
   "outputs": [
    {
     "name": "stdout",
     "output_type": "stream",
     "text": [
      "Training RMSE (4) -  200.67403168981772\n",
      "Testing RMSE (4) -  496.98888567523176\n"
     ]
    }
   ],
   "source": [
    "# Evaluate Coefficient of determination and Root mean square error \n",
    "print('Training RMSE (4) - ',mean_squared_error(y_train,ensembletrain)**0.5)\n",
    "print('Testing RMSE (4) - ',mean_squared_error(y_test,ensembletest)**0.5)"
   ]
  },
  {
   "cell_type": "markdown",
   "metadata": {
    "id": "EPw_-SMyrka_"
   },
   "source": [
    "\n",
    "## Task 3: Conclude the results\n"
   ]
  },
  {
   "cell_type": "code",
   "execution_count": null,
   "metadata": {},
   "outputs": [],
   "source": []
  }
 ],
 "metadata": {
  "colab": {
   "collapsed_sections": [],
   "name": "Task_1_Software_cost_estimation.ipynb",
   "provenance": []
  },
  "kernelspec": {
   "display_name": "Python 3",
   "language": "python",
   "name": "python3"
  },
  "language_info": {
   "codemirror_mode": {
    "name": "ipython",
    "version": 3
   },
   "file_extension": ".py",
   "mimetype": "text/x-python",
   "name": "python",
   "nbconvert_exporter": "python",
   "pygments_lexer": "ipython3",
   "version": "3.8.5"
  },
  "varInspector": {
   "cols": {
    "lenName": 16,
    "lenType": 16,
    "lenVar": 40
   },
   "kernels_config": {
    "python": {
     "delete_cmd_postfix": "",
     "delete_cmd_prefix": "del ",
     "library": "var_list.py",
     "varRefreshCmd": "print(var_dic_list())"
    },
    "r": {
     "delete_cmd_postfix": ") ",
     "delete_cmd_prefix": "rm(",
     "library": "var_list.r",
     "varRefreshCmd": "cat(var_dic_list()) "
    }
   },
   "types_to_exclude": [
    "module",
    "function",
    "builtin_function_or_method",
    "instance",
    "_Feature"
   ],
   "window_display": false
  }
 },
 "nbformat": 4,
 "nbformat_minor": 1
}
