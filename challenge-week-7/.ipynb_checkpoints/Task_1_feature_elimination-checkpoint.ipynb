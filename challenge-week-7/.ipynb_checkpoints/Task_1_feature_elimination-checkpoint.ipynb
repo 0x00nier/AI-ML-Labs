{
 "cells": [
  {
   "cell_type": "markdown",
   "metadata": {
    "colab_type": "text",
    "id": "9kUDLNT12F1-"
   },
   "source": [
    "# Task 1: Feature Selection Schemes\n",
    "\n",
    "In this assignment you will understand Feature selection techniques\n",
    "\n",
    "###Forward Selection: \n",
    "Forward selection is an iterative method in which we start with having no feature in the model. In each iteration, we keep adding the feature which best improves our model till an addition of a new variable does not improve the performance of the model.\n",
    "\n",
    "###Backward Elimination: \n",
    "In backward elimination, we start with all the features and removes the least significant feature at each iteration which improves the performance of the model. We repeat this until no improvement is observed on removal of features.\n",
    "\n",
    "###Recursive Feature elimination: \n",
    "It is a greedy optimization algorithm which aims to find the best performing feature subset. It repeatedly creates models and keeps aside the best or the worst performing feature at each iteration. It constructs the next model with the left features until all the features are exhausted. It then ranks the features based on the order of their elimination."
   ]
  },
  {
   "cell_type": "markdown",
   "metadata": {
    "colab_type": "text",
    "id": "3SgypcY36EZX"
   },
   "source": [
    "##Dataset\n",
    "The dataset is available at \"data/bank-full.csv\" in the respective challenge's repo.\n",
    "The dataset can be obtained from:\n",
    "https://www.kaggle.com/sonujha090/bank-marketing\n",
    "\n",
    "#Features (X)\n",
    "##Input variables:\n",
    "# bank client data:\n",
    "1. age (numeric)\n",
    "2. job : type of job (categorical: 'admin.','blue-collar','entrepreneur','housemaid','management','retired','self-employed','services','student','technician','unemployed','unknown')\n",
    "3. marital : marital status (categorical: 'divorced','married','single','unknown'; note: 'divorced' means divorced or widowed)\n",
    "4. education (categorical: 'basic.4y','basic.6y','basic.9y','high.school','illiterate','professional.course','university.degree','unknown')\n",
    "5. default: has credit in default? (categorical: 'no','yes','unknown')\n",
    "6. housing: has housing loan? (categorical: 'no','yes','unknown')\n",
    "7. loan: has personal loan? (categorical: 'no','yes','unknown')\n",
    "# related with the last contact of the current campaign:\n",
    "8. contact: contact communication type (categorical: 'cellular','telephone')\n",
    "9. month: last contact month of year (categorical: 'jan', 'feb', 'mar', ..., 'nov', 'dec')\n",
    "10. day_of_week: last contact day of the week (categorical: 'mon','tue','wed','thu','fri')\n",
    "11. duration: last contact duration, in seconds (numeric). Important note: this attribute highly affects the output target (e.g., if duration=0 then y='no'). Yet, the duration is not known before a call is performed. Also, after the end of the call y is obviously known. Thus, this input should only be included for benchmark purposes and should be discarded if the intention is to have a realistic predictive model.\n",
    "# other attributes:\n",
    "12. campaign: number of contacts performed during this campaign and for this client (numeric, includes last contact)\n",
    "13. pdays: number of days that passed by after the client was last contacted from a previous campaign (numeric; 999 means client was not previously contacted)\n",
    "14. previous: number of contacts performed before this campaign and for this client (numeric)\n",
    "15. poutcome: outcome of the previous marketing campaign (categorical: 'failure','nonexistent','success')\n",
    "# social and economic context attributes\n",
    "16. emp.var.rate: employment variation rate. quarterly indicator (numeric)\n",
    "17. cons.price.idx: consumer price index. monthly indicator (numeric)\n",
    "18. cons.conf.idx: consumer confidence index. monthly indicator (numeric)\n",
    "19. euribor3m: euribor 3 month rate. daily indicator (numeric)\n",
    "20. nr.employed: number of employees. quarterly indicator (numeric)\n",
    "\n",
    "##Output variable (desired target):\n",
    "21. y. has the client subscribed a term deposit? (binary: 'yes','no')"
   ]
  },
  {
   "cell_type": "markdown",
   "metadata": {
    "colab_type": "text",
    "id": "IcV8L0Q_7AgD"
   },
   "source": [
    "#### Objective\n",
    "- To apply different feature selection approaches such as Forward Selection, Backward Elimination and recursive feature elimination for feature selection in Logistic Regression Algorithm.\n",
    "\n",
    "\n",
    "#### Tasks\n",
    "- Download and load the data (csv file)\n",
    "- Process the data \n",
    "- Split the dataset into 70% for training and rest 30% for testing (sklearn.model_selection.train_test_split function)\n",
    "- Train Logistic Regression\n",
    "- Apply feature selection techniques\n",
    "- Train the models on the feature reduced datasets\n",
    "- Compare their accuracies and print feature subset\n",
    "\n",
    "#### Further Fun\n",
    "- Perform feature selection with other schemes in the Sklearn: https://scikit-learn.org/stable/modules/classes.html#module-sklearn.feature_selection|\n",
    "\n",
    "#### Helpful links\n",
    "- pd.get_dummies() and One Hot Encoding: https://queirozf.com/entries/one-hot-encoding-a-feature-on-a-pandas-dataframe-an-example\n",
    "- Feature Scaling: https://scikit-learn.org/stable/modules/preprocessing.html\n",
    "- Train-test splitting: https://scikit-learn.org/stable/modules/generated/sklearn.model_selection.train_test_split.html\n",
    "- Feature selection in ML: https://machinelearningmastery.com/feature-selection-machine-learning-python/\n",
    "- Feature selection in sklearn: https://scikit-learn.org/stable/modules/feature_selection.html\n",
    "- Use slack for doubts: https://join.slack.com/t/deepconnectai/shared_invite/zt-givlfnf6-~cn3SQ43k0BGDrG9_YOn4g\n",
    "\n",
    "\n"
   ]
  },
  {
   "cell_type": "code",
   "execution_count": 2,
   "metadata": {
    "ExecuteTime": {
     "end_time": "2020-09-21T17:22:57.501330Z",
     "start_time": "2020-09-21T17:22:54.010696Z"
    },
    "colab": {},
    "colab_type": "code",
    "id": "tipydTZB12oN"
   },
   "outputs": [],
   "source": [
    "import seaborn as sns\n",
    "import pandas as pd\n",
    "import numpy as np\n",
    "import matplotlib.pyplot as plt\n",
    "import scipy.stats\n",
    "from sklearn import preprocessing"
   ]
  },
  {
   "cell_type": "code",
   "execution_count": 3,
   "metadata": {
    "ExecuteTime": {
     "end_time": "2020-09-21T17:22:57.648064Z",
     "start_time": "2020-09-21T17:22:57.525665Z"
    },
    "colab": {},
    "colab_type": "code",
    "id": "y_FW91Aa8v6L"
   },
   "outputs": [],
   "source": [
    "banking =  pd.read_csv(\"bank-full.csv\")"
   ]
  },
  {
   "cell_type": "code",
   "execution_count": 4,
   "metadata": {
    "ExecuteTime": {
     "end_time": "2020-09-21T17:22:58.343072Z",
     "start_time": "2020-09-21T17:22:58.327447Z"
    },
    "colab": {},
    "colab_type": "code",
    "id": "x6v0PXkZ9WLz"
   },
   "outputs": [
    {
     "data": {
      "text/plain": [
       "Index(['age', 'job', 'marital', 'education', 'default', 'balance', 'housing',\n",
       "       'loan', 'contact', 'day', 'month', 'duration', 'campaign', 'pdays',\n",
       "       'previous', 'poutcome', 'y'],\n",
       "      dtype='object')"
      ]
     },
     "execution_count": 4,
     "metadata": {},
     "output_type": "execute_result"
    }
   ],
   "source": [
    "banking.columns"
   ]
  },
  {
   "cell_type": "code",
   "execution_count": 5,
   "metadata": {
    "ExecuteTime": {
     "end_time": "2020-09-21T17:22:59.813207Z",
     "start_time": "2020-09-21T17:22:59.797594Z"
    },
    "colab": {},
    "colab_type": "code",
    "id": "0MJVXOUP9ZGo"
   },
   "outputs": [
    {
     "data": {
      "text/plain": [
       "age           int64\n",
       "job          object\n",
       "marital      object\n",
       "education    object\n",
       "default      object\n",
       "balance       int64\n",
       "housing      object\n",
       "loan         object\n",
       "contact      object\n",
       "day           int64\n",
       "month        object\n",
       "duration      int64\n",
       "campaign      int64\n",
       "pdays         int64\n",
       "previous      int64\n",
       "poutcome     object\n",
       "y            object\n",
       "dtype: object"
      ]
     },
     "execution_count": 5,
     "metadata": {},
     "output_type": "execute_result"
    }
   ],
   "source": [
    "banking.dtypes"
   ]
  },
  {
   "cell_type": "code",
   "execution_count": 6,
   "metadata": {
    "ExecuteTime": {
     "end_time": "2020-09-21T17:23:04.692496Z",
     "start_time": "2020-09-21T17:23:04.661280Z"
    },
    "colab": {},
    "colab_type": "code",
    "id": "b5OISHp99aY8"
   },
   "outputs": [
    {
     "data": {
      "text/html": [
       "<div>\n",
       "<style scoped>\n",
       "    .dataframe tbody tr th:only-of-type {\n",
       "        vertical-align: middle;\n",
       "    }\n",
       "\n",
       "    .dataframe tbody tr th {\n",
       "        vertical-align: top;\n",
       "    }\n",
       "\n",
       "    .dataframe thead th {\n",
       "        text-align: right;\n",
       "    }\n",
       "</style>\n",
       "<table border=\"1\" class=\"dataframe\">\n",
       "  <thead>\n",
       "    <tr style=\"text-align: right;\">\n",
       "      <th></th>\n",
       "      <th>age</th>\n",
       "      <th>job</th>\n",
       "      <th>marital</th>\n",
       "      <th>education</th>\n",
       "      <th>default</th>\n",
       "      <th>balance</th>\n",
       "      <th>housing</th>\n",
       "      <th>loan</th>\n",
       "      <th>contact</th>\n",
       "      <th>day</th>\n",
       "      <th>month</th>\n",
       "      <th>duration</th>\n",
       "      <th>campaign</th>\n",
       "      <th>pdays</th>\n",
       "      <th>previous</th>\n",
       "      <th>poutcome</th>\n",
       "      <th>y</th>\n",
       "    </tr>\n",
       "  </thead>\n",
       "  <tbody>\n",
       "    <tr>\n",
       "      <th>0</th>\n",
       "      <td>58</td>\n",
       "      <td>management</td>\n",
       "      <td>married</td>\n",
       "      <td>tertiary</td>\n",
       "      <td>no</td>\n",
       "      <td>2143</td>\n",
       "      <td>yes</td>\n",
       "      <td>no</td>\n",
       "      <td>unknown</td>\n",
       "      <td>5</td>\n",
       "      <td>may</td>\n",
       "      <td>261</td>\n",
       "      <td>1</td>\n",
       "      <td>-1</td>\n",
       "      <td>0</td>\n",
       "      <td>unknown</td>\n",
       "      <td>no</td>\n",
       "    </tr>\n",
       "    <tr>\n",
       "      <th>1</th>\n",
       "      <td>44</td>\n",
       "      <td>technician</td>\n",
       "      <td>single</td>\n",
       "      <td>secondary</td>\n",
       "      <td>no</td>\n",
       "      <td>29</td>\n",
       "      <td>yes</td>\n",
       "      <td>no</td>\n",
       "      <td>unknown</td>\n",
       "      <td>5</td>\n",
       "      <td>may</td>\n",
       "      <td>151</td>\n",
       "      <td>1</td>\n",
       "      <td>-1</td>\n",
       "      <td>0</td>\n",
       "      <td>unknown</td>\n",
       "      <td>no</td>\n",
       "    </tr>\n",
       "    <tr>\n",
       "      <th>2</th>\n",
       "      <td>33</td>\n",
       "      <td>entrepreneur</td>\n",
       "      <td>married</td>\n",
       "      <td>secondary</td>\n",
       "      <td>no</td>\n",
       "      <td>2</td>\n",
       "      <td>yes</td>\n",
       "      <td>yes</td>\n",
       "      <td>unknown</td>\n",
       "      <td>5</td>\n",
       "      <td>may</td>\n",
       "      <td>76</td>\n",
       "      <td>1</td>\n",
       "      <td>-1</td>\n",
       "      <td>0</td>\n",
       "      <td>unknown</td>\n",
       "      <td>no</td>\n",
       "    </tr>\n",
       "    <tr>\n",
       "      <th>3</th>\n",
       "      <td>47</td>\n",
       "      <td>blue-collar</td>\n",
       "      <td>married</td>\n",
       "      <td>unknown</td>\n",
       "      <td>no</td>\n",
       "      <td>1506</td>\n",
       "      <td>yes</td>\n",
       "      <td>no</td>\n",
       "      <td>unknown</td>\n",
       "      <td>5</td>\n",
       "      <td>may</td>\n",
       "      <td>92</td>\n",
       "      <td>1</td>\n",
       "      <td>-1</td>\n",
       "      <td>0</td>\n",
       "      <td>unknown</td>\n",
       "      <td>no</td>\n",
       "    </tr>\n",
       "    <tr>\n",
       "      <th>4</th>\n",
       "      <td>33</td>\n",
       "      <td>unknown</td>\n",
       "      <td>single</td>\n",
       "      <td>unknown</td>\n",
       "      <td>no</td>\n",
       "      <td>1</td>\n",
       "      <td>no</td>\n",
       "      <td>no</td>\n",
       "      <td>unknown</td>\n",
       "      <td>5</td>\n",
       "      <td>may</td>\n",
       "      <td>198</td>\n",
       "      <td>1</td>\n",
       "      <td>-1</td>\n",
       "      <td>0</td>\n",
       "      <td>unknown</td>\n",
       "      <td>no</td>\n",
       "    </tr>\n",
       "    <tr>\n",
       "      <th>5</th>\n",
       "      <td>35</td>\n",
       "      <td>management</td>\n",
       "      <td>married</td>\n",
       "      <td>tertiary</td>\n",
       "      <td>no</td>\n",
       "      <td>231</td>\n",
       "      <td>yes</td>\n",
       "      <td>no</td>\n",
       "      <td>unknown</td>\n",
       "      <td>5</td>\n",
       "      <td>may</td>\n",
       "      <td>139</td>\n",
       "      <td>1</td>\n",
       "      <td>-1</td>\n",
       "      <td>0</td>\n",
       "      <td>unknown</td>\n",
       "      <td>no</td>\n",
       "    </tr>\n",
       "  </tbody>\n",
       "</table>\n",
       "</div>"
      ],
      "text/plain": [
       "   age           job  marital  education default  balance housing loan  \\\n",
       "0   58    management  married   tertiary      no     2143     yes   no   \n",
       "1   44    technician   single  secondary      no       29     yes   no   \n",
       "2   33  entrepreneur  married  secondary      no        2     yes  yes   \n",
       "3   47   blue-collar  married    unknown      no     1506     yes   no   \n",
       "4   33       unknown   single    unknown      no        1      no   no   \n",
       "5   35    management  married   tertiary      no      231     yes   no   \n",
       "\n",
       "   contact  day month  duration  campaign  pdays  previous poutcome   y  \n",
       "0  unknown    5   may       261         1     -1         0  unknown  no  \n",
       "1  unknown    5   may       151         1     -1         0  unknown  no  \n",
       "2  unknown    5   may        76         1     -1         0  unknown  no  \n",
       "3  unknown    5   may        92         1     -1         0  unknown  no  \n",
       "4  unknown    5   may       198         1     -1         0  unknown  no  \n",
       "5  unknown    5   may       139         1     -1         0  unknown  no  "
      ]
     },
     "execution_count": 6,
     "metadata": {},
     "output_type": "execute_result"
    }
   ],
   "source": [
    "banking.head(6)"
   ]
  },
  {
   "cell_type": "code",
   "execution_count": 7,
   "metadata": {
    "ExecuteTime": {
     "end_time": "2020-09-21T17:23:08.128736Z",
     "start_time": "2020-09-21T17:23:08.050760Z"
    },
    "colab": {},
    "colab_type": "code",
    "id": "tWsbP6GI9fK_"
   },
   "outputs": [
    {
     "data": {
      "text/html": [
       "<div>\n",
       "<style scoped>\n",
       "    .dataframe tbody tr th:only-of-type {\n",
       "        vertical-align: middle;\n",
       "    }\n",
       "\n",
       "    .dataframe tbody tr th {\n",
       "        vertical-align: top;\n",
       "    }\n",
       "\n",
       "    .dataframe thead th {\n",
       "        text-align: right;\n",
       "    }\n",
       "</style>\n",
       "<table border=\"1\" class=\"dataframe\">\n",
       "  <thead>\n",
       "    <tr style=\"text-align: right;\">\n",
       "      <th></th>\n",
       "      <th>age</th>\n",
       "      <th>balance</th>\n",
       "      <th>day</th>\n",
       "      <th>duration</th>\n",
       "      <th>campaign</th>\n",
       "      <th>pdays</th>\n",
       "      <th>previous</th>\n",
       "    </tr>\n",
       "  </thead>\n",
       "  <tbody>\n",
       "    <tr>\n",
       "      <th>count</th>\n",
       "      <td>45211.000000</td>\n",
       "      <td>45211.000000</td>\n",
       "      <td>45211.000000</td>\n",
       "      <td>45211.000000</td>\n",
       "      <td>45211.000000</td>\n",
       "      <td>45211.000000</td>\n",
       "      <td>45211.000000</td>\n",
       "    </tr>\n",
       "    <tr>\n",
       "      <th>mean</th>\n",
       "      <td>40.936210</td>\n",
       "      <td>1362.272058</td>\n",
       "      <td>15.806419</td>\n",
       "      <td>258.163080</td>\n",
       "      <td>2.763841</td>\n",
       "      <td>40.197828</td>\n",
       "      <td>0.580323</td>\n",
       "    </tr>\n",
       "    <tr>\n",
       "      <th>std</th>\n",
       "      <td>10.618762</td>\n",
       "      <td>3044.765829</td>\n",
       "      <td>8.322476</td>\n",
       "      <td>257.527812</td>\n",
       "      <td>3.098021</td>\n",
       "      <td>100.128746</td>\n",
       "      <td>2.303441</td>\n",
       "    </tr>\n",
       "    <tr>\n",
       "      <th>min</th>\n",
       "      <td>18.000000</td>\n",
       "      <td>-8019.000000</td>\n",
       "      <td>1.000000</td>\n",
       "      <td>0.000000</td>\n",
       "      <td>1.000000</td>\n",
       "      <td>-1.000000</td>\n",
       "      <td>0.000000</td>\n",
       "    </tr>\n",
       "    <tr>\n",
       "      <th>25%</th>\n",
       "      <td>33.000000</td>\n",
       "      <td>72.000000</td>\n",
       "      <td>8.000000</td>\n",
       "      <td>103.000000</td>\n",
       "      <td>1.000000</td>\n",
       "      <td>-1.000000</td>\n",
       "      <td>0.000000</td>\n",
       "    </tr>\n",
       "    <tr>\n",
       "      <th>50%</th>\n",
       "      <td>39.000000</td>\n",
       "      <td>448.000000</td>\n",
       "      <td>16.000000</td>\n",
       "      <td>180.000000</td>\n",
       "      <td>2.000000</td>\n",
       "      <td>-1.000000</td>\n",
       "      <td>0.000000</td>\n",
       "    </tr>\n",
       "    <tr>\n",
       "      <th>75%</th>\n",
       "      <td>48.000000</td>\n",
       "      <td>1428.000000</td>\n",
       "      <td>21.000000</td>\n",
       "      <td>319.000000</td>\n",
       "      <td>3.000000</td>\n",
       "      <td>-1.000000</td>\n",
       "      <td>0.000000</td>\n",
       "    </tr>\n",
       "    <tr>\n",
       "      <th>max</th>\n",
       "      <td>95.000000</td>\n",
       "      <td>102127.000000</td>\n",
       "      <td>31.000000</td>\n",
       "      <td>4918.000000</td>\n",
       "      <td>63.000000</td>\n",
       "      <td>871.000000</td>\n",
       "      <td>275.000000</td>\n",
       "    </tr>\n",
       "  </tbody>\n",
       "</table>\n",
       "</div>"
      ],
      "text/plain": [
       "                age        balance           day      duration      campaign  \\\n",
       "count  45211.000000   45211.000000  45211.000000  45211.000000  45211.000000   \n",
       "mean      40.936210    1362.272058     15.806419    258.163080      2.763841   \n",
       "std       10.618762    3044.765829      8.322476    257.527812      3.098021   \n",
       "min       18.000000   -8019.000000      1.000000      0.000000      1.000000   \n",
       "25%       33.000000      72.000000      8.000000    103.000000      1.000000   \n",
       "50%       39.000000     448.000000     16.000000    180.000000      2.000000   \n",
       "75%       48.000000    1428.000000     21.000000    319.000000      3.000000   \n",
       "max       95.000000  102127.000000     31.000000   4918.000000     63.000000   \n",
       "\n",
       "              pdays      previous  \n",
       "count  45211.000000  45211.000000  \n",
       "mean      40.197828      0.580323  \n",
       "std      100.128746      2.303441  \n",
       "min       -1.000000      0.000000  \n",
       "25%       -1.000000      0.000000  \n",
       "50%       -1.000000      0.000000  \n",
       "75%       -1.000000      0.000000  \n",
       "max      871.000000    275.000000  "
      ]
     },
     "execution_count": 7,
     "metadata": {},
     "output_type": "execute_result"
    }
   ],
   "source": [
    "banking.describe()"
   ]
  },
  {
   "cell_type": "code",
   "execution_count": 8,
   "metadata": {
    "ExecuteTime": {
     "end_time": "2020-09-21T17:23:26.927879Z",
     "start_time": "2020-09-21T17:23:26.912423Z"
    },
    "colab": {},
    "colab_type": "code",
    "id": "bGuP-XILy28y"
   },
   "outputs": [
    {
     "data": {
      "text/plain": [
       "(45211, 17)"
      ]
     },
     "execution_count": 8,
     "metadata": {},
     "output_type": "execute_result"
    }
   ],
   "source": [
    "banking.shape"
   ]
  },
  {
   "cell_type": "code",
   "execution_count": 9,
   "metadata": {
    "ExecuteTime": {
     "end_time": "2020-09-21T17:23:38.195944Z",
     "start_time": "2020-09-21T17:23:38.180500Z"
    },
    "colab": {},
    "colab_type": "code",
    "id": "_n_uuKXCCJXQ"
   },
   "outputs": [],
   "source": [
    "banking.rename(columns={\"y\":\"Action\"},inplace = True)"
   ]
  },
  {
   "cell_type": "code",
   "execution_count": 10,
   "metadata": {
    "ExecuteTime": {
     "end_time": "2020-09-21T17:23:45.388950Z",
     "start_time": "2020-09-21T17:23:45.357660Z"
    },
    "colab": {},
    "colab_type": "code",
    "id": "BwS_x_qA_OQr"
   },
   "outputs": [
    {
     "data": {
      "text/plain": [
       "no     39922\n",
       "yes     5289\n",
       "Name: Action, dtype: int64"
      ]
     },
     "execution_count": 10,
     "metadata": {},
     "output_type": "execute_result"
    }
   ],
   "source": [
    "banking.Action.value_counts()"
   ]
  },
  {
   "cell_type": "code",
   "execution_count": 14,
   "metadata": {
    "ExecuteTime": {
     "end_time": "2020-09-21T17:24:40.246984Z",
     "start_time": "2020-09-21T17:24:39.429459Z"
    },
    "colab": {},
    "colab_type": "code",
    "id": "RtgLuxd7Cs18"
   },
   "outputs": [
    {
     "data": {
      "text/plain": [
       "<AxesSubplot:>"
      ]
     },
     "execution_count": 14,
     "metadata": {},
     "output_type": "execute_result"
    },
    {
     "data": {
      "image/png": "[encoded data removed]",
      "text/plain": [
       "<Figure size 576x396 with 1 Axes>"
      ]
     },
     "metadata": {},
     "output_type": "display_data"
    }
   ],
   "source": [
    "import matplotlib.pyplot as plt\n",
    "plt.style.use('seaborn')\n",
    "sns.heatmap(banking.isnull(),yticklabels = False, cbar = False , cmap ='RdYlGn')"
   ]
  },
  {
   "cell_type": "code",
   "execution_count": 15,
   "metadata": {
    "ExecuteTime": {
     "end_time": "2020-09-21T17:24:44.208981Z",
     "start_time": "2020-09-21T17:24:44.177769Z"
    },
    "colab": {},
    "colab_type": "code",
    "id": "-Yl6YjlXz-I-"
   },
   "outputs": [],
   "source": [
    "new_data =  banking.select_dtypes(include='object')"
   ]
  },
  {
   "cell_type": "code",
   "execution_count": 18,
   "metadata": {
    "ExecuteTime": {
     "end_time": "2020-09-21T17:25:15.949879Z",
     "start_time": "2020-09-21T17:25:15.903011Z"
    },
    "colab": {},
    "colab_type": "code",
    "id": "8bqsIpGZzjYa"
   },
   "outputs": [
    {
     "name": "stdout",
     "output_type": "stream",
     "text": [
      "job ; ['management' 'technician' 'entrepreneur' 'blue-collar' 'unknown'\n",
      " 'retired' 'admin.' 'services' 'self-employed' 'unemployed' 'housemaid'\n",
      " 'student'] labels\n",
      "marital ; ['married' 'single' 'divorced'] labels\n",
      "education ; ['tertiary' 'secondary' 'unknown' 'primary'] labels\n",
      "default ; ['no' 'yes'] labels\n",
      "housing ; ['yes' 'no'] labels\n",
      "loan ; ['no' 'yes'] labels\n",
      "contact ; ['unknown' 'cellular' 'telephone'] labels\n",
      "month ; ['may' 'jun' 'jul' 'aug' 'oct' 'nov' 'dec' 'jan' 'feb' 'mar' 'apr' 'sep'] labels\n",
      "poutcome ; ['unknown' 'failure' 'other' 'success'] labels\n",
      "Action ; ['no' 'yes'] labels\n"
     ]
    }
   ],
   "source": [
    "#checking the number of uique categories in each column\n",
    "for i in new_data.columns:\n",
    "    print(i,';',new_data[i].unique(),'labels')"
   ]
  },
  {
   "cell_type": "code",
   "execution_count": 19,
   "metadata": {
    "ExecuteTime": {
     "end_time": "2020-09-21T17:25:30.776363Z",
     "start_time": "2020-09-21T17:25:30.682528Z"
    },
    "colab": {},
    "colab_type": "code",
    "id": "W5l9AQTTFx8Z"
   },
   "outputs": [],
   "source": [
    "from sklearn.preprocessing import LabelEncoder\n",
    "lb = LabelEncoder()\n",
    "new_data_encoded = new_data.apply(lb.fit_transform)\n",
    "new_data_nonobject = banking.select_dtypes(exclude = [\"object\"])\n",
    "banking1 = pd.concat([new_data_nonobject,new_data_encoded], axis = 1)"
   ]
  },
  {
   "cell_type": "code",
   "execution_count": 20,
   "metadata": {
    "ExecuteTime": {
     "end_time": "2020-09-21T17:25:31.600591Z",
     "start_time": "2020-09-21T17:25:31.573956Z"
    },
    "colab": {},
    "colab_type": "code",
    "id": "nl6MensF1dBg"
   },
   "outputs": [
    {
     "data": {
      "text/html": [
       "<div>\n",
       "<style scoped>\n",
       "    .dataframe tbody tr th:only-of-type {\n",
       "        vertical-align: middle;\n",
       "    }\n",
       "\n",
       "    .dataframe tbody tr th {\n",
       "        vertical-align: top;\n",
       "    }\n",
       "\n",
       "    .dataframe thead th {\n",
       "        text-align: right;\n",
       "    }\n",
       "</style>\n",
       "<table border=\"1\" class=\"dataframe\">\n",
       "  <thead>\n",
       "    <tr style=\"text-align: right;\">\n",
       "      <th></th>\n",
       "      <th>age</th>\n",
       "      <th>balance</th>\n",
       "      <th>day</th>\n",
       "      <th>duration</th>\n",
       "      <th>campaign</th>\n",
       "      <th>pdays</th>\n",
       "      <th>previous</th>\n",
       "      <th>job</th>\n",
       "      <th>marital</th>\n",
       "      <th>education</th>\n",
       "      <th>default</th>\n",
       "      <th>housing</th>\n",
       "      <th>loan</th>\n",
       "      <th>contact</th>\n",
       "      <th>month</th>\n",
       "      <th>poutcome</th>\n",
       "      <th>Action</th>\n",
       "    </tr>\n",
       "  </thead>\n",
       "  <tbody>\n",
       "    <tr>\n",
       "      <th>0</th>\n",
       "      <td>58</td>\n",
       "      <td>2143</td>\n",
       "      <td>5</td>\n",
       "      <td>261</td>\n",
       "      <td>1</td>\n",
       "      <td>-1</td>\n",
       "      <td>0</td>\n",
       "      <td>4</td>\n",
       "      <td>1</td>\n",
       "      <td>2</td>\n",
       "      <td>0</td>\n",
       "      <td>1</td>\n",
       "      <td>0</td>\n",
       "      <td>2</td>\n",
       "      <td>8</td>\n",
       "      <td>3</td>\n",
       "      <td>0</td>\n",
       "    </tr>\n",
       "    <tr>\n",
       "      <th>1</th>\n",
       "      <td>44</td>\n",
       "      <td>29</td>\n",
       "      <td>5</td>\n",
       "      <td>151</td>\n",
       "      <td>1</td>\n",
       "      <td>-1</td>\n",
       "      <td>0</td>\n",
       "      <td>9</td>\n",
       "      <td>2</td>\n",
       "      <td>1</td>\n",
       "      <td>0</td>\n",
       "      <td>1</td>\n",
       "      <td>0</td>\n",
       "      <td>2</td>\n",
       "      <td>8</td>\n",
       "      <td>3</td>\n",
       "      <td>0</td>\n",
       "    </tr>\n",
       "    <tr>\n",
       "      <th>2</th>\n",
       "      <td>33</td>\n",
       "      <td>2</td>\n",
       "      <td>5</td>\n",
       "      <td>76</td>\n",
       "      <td>1</td>\n",
       "      <td>-1</td>\n",
       "      <td>0</td>\n",
       "      <td>2</td>\n",
       "      <td>1</td>\n",
       "      <td>1</td>\n",
       "      <td>0</td>\n",
       "      <td>1</td>\n",
       "      <td>1</td>\n",
       "      <td>2</td>\n",
       "      <td>8</td>\n",
       "      <td>3</td>\n",
       "      <td>0</td>\n",
       "    </tr>\n",
       "    <tr>\n",
       "      <th>3</th>\n",
       "      <td>47</td>\n",
       "      <td>1506</td>\n",
       "      <td>5</td>\n",
       "      <td>92</td>\n",
       "      <td>1</td>\n",
       "      <td>-1</td>\n",
       "      <td>0</td>\n",
       "      <td>1</td>\n",
       "      <td>1</td>\n",
       "      <td>3</td>\n",
       "      <td>0</td>\n",
       "      <td>1</td>\n",
       "      <td>0</td>\n",
       "      <td>2</td>\n",
       "      <td>8</td>\n",
       "      <td>3</td>\n",
       "      <td>0</td>\n",
       "    </tr>\n",
       "    <tr>\n",
       "      <th>4</th>\n",
       "      <td>33</td>\n",
       "      <td>1</td>\n",
       "      <td>5</td>\n",
       "      <td>198</td>\n",
       "      <td>1</td>\n",
       "      <td>-1</td>\n",
       "      <td>0</td>\n",
       "      <td>11</td>\n",
       "      <td>2</td>\n",
       "      <td>3</td>\n",
       "      <td>0</td>\n",
       "      <td>0</td>\n",
       "      <td>0</td>\n",
       "      <td>2</td>\n",
       "      <td>8</td>\n",
       "      <td>3</td>\n",
       "      <td>0</td>\n",
       "    </tr>\n",
       "  </tbody>\n",
       "</table>\n",
       "</div>"
      ],
      "text/plain": [
       "   age  balance  day  duration  campaign  pdays  previous  job  marital  \\\n",
       "0   58     2143    5       261         1     -1         0    4        1   \n",
       "1   44       29    5       151         1     -1         0    9        2   \n",
       "2   33        2    5        76         1     -1         0    2        1   \n",
       "3   47     1506    5        92         1     -1         0    1        1   \n",
       "4   33        1    5       198         1     -1         0   11        2   \n",
       "\n",
       "   education  default  housing  loan  contact  month  poutcome  Action  \n",
       "0          2        0        1     0        2      8         3       0  \n",
       "1          1        0        1     0        2      8         3       0  \n",
       "2          1        0        1     1        2      8         3       0  \n",
       "3          3        0        1     0        2      8         3       0  \n",
       "4          3        0        0     0        2      8         3       0  "
      ]
     },
     "execution_count": 20,
     "metadata": {},
     "output_type": "execute_result"
    }
   ],
   "source": [
    "banking1.head()"
   ]
  },
  {
   "cell_type": "code",
   "execution_count": 21,
   "metadata": {
    "ExecuteTime": {
     "end_time": "2020-09-21T17:25:31.863878Z",
     "start_time": "2020-09-21T17:25:31.848258Z"
    },
    "colab": {},
    "colab_type": "code",
    "id": "RSeDV4ef2CQn"
   },
   "outputs": [
    {
     "data": {
      "text/plain": [
       "(45211, 17)"
      ]
     },
     "execution_count": 21,
     "metadata": {},
     "output_type": "execute_result"
    }
   ],
   "source": [
    "banking1.shape"
   ]
  },
  {
   "cell_type": "markdown",
   "metadata": {
    "colab_type": "text",
    "id": "miZtPmYhN90h"
   },
   "source": [
    "# K Best Features"
   ]
  },
  {
   "cell_type": "code",
   "execution_count": 55,
   "metadata": {
    "ExecuteTime": {
     "end_time": "2020-09-21T17:36:50.278785Z",
     "start_time": "2020-09-21T17:36:50.263355Z"
    },
    "colab": {},
    "colab_type": "code",
    "id": "0LjUnDEoDRt_"
   },
   "outputs": [],
   "source": [
    "from sklearn.feature_selection import SelectKBest\n",
    "from scipy.stats import chi2 \n",
    "from sklearn.feature_selection import f_classif\n",
    "from sklearn.model_selection import train_test_split"
   ]
  },
  {
   "cell_type": "code",
   "execution_count": 25,
   "metadata": {
    "ExecuteTime": {
     "end_time": "2020-09-21T17:27:09.072026Z",
     "start_time": "2020-09-21T17:27:09.034377Z"
    },
    "colab": {},
    "colab_type": "code",
    "id": "rJqFg5EgE0rn"
   },
   "outputs": [],
   "source": [
    "X = banking1.drop('Action',axis=1)\n",
    "y = banking1['Action']"
   ]
  },
  {
   "cell_type": "code",
   "execution_count": 27,
   "metadata": {
    "ExecuteTime": {
     "end_time": "2020-09-21T17:27:11.524705Z",
     "start_time": "2020-09-21T17:27:11.493600Z"
    },
    "colab": {},
    "colab_type": "code",
    "id": "vlWArWIkTnH9"
   },
   "outputs": [
    {
     "data": {
      "text/plain": [
       "(45211, 16)"
      ]
     },
     "execution_count": 27,
     "metadata": {},
     "output_type": "execute_result"
    }
   ],
   "source": [
    "X.shape"
   ]
  },
  {
   "cell_type": "code",
   "execution_count": 169,
   "metadata": {
    "ExecuteTime": {
     "end_time": "2020-09-21T18:26:38.908283Z",
     "start_time": "2020-09-21T18:26:38.877060Z"
    }
   },
   "outputs": [],
   "source": [
    "X_train, X_test, y_train, y_test = train_test_split(X, y, test_size=0.2, random_state=0)"
   ]
  },
  {
   "cell_type": "code",
   "execution_count": 170,
   "metadata": {
    "ExecuteTime": {
     "end_time": "2020-09-21T18:26:39.347830Z",
     "start_time": "2020-09-21T18:26:39.312035Z"
    },
    "colab": {},
    "colab_type": "code",
    "id": "KPOTMWCOEU9l"
   },
   "outputs": [],
   "source": [
    "Kbest = SelectKBest(f_classif, k=10)\n",
    "kfit = Kbest.fit(X_train,y_train)"
   ]
  },
  {
   "cell_type": "code",
   "execution_count": 174,
   "metadata": {
    "ExecuteTime": {
     "end_time": "2020-09-21T18:27:15.360235Z",
     "start_time": "2020-09-21T18:27:15.344639Z"
    },
    "colab": {},
    "colab_type": "code",
    "id": "-x8IYkezEvWJ"
   },
   "outputs": [
    {
     "data": {
      "text/html": [
       "<div>\n",
       "<style scoped>\n",
       "    .dataframe tbody tr th:only-of-type {\n",
       "        vertical-align: middle;\n",
       "    }\n",
       "\n",
       "    .dataframe tbody tr th {\n",
       "        vertical-align: top;\n",
       "    }\n",
       "\n",
       "    .dataframe thead th {\n",
       "        text-align: right;\n",
       "    }\n",
       "</style>\n",
       "<table border=\"1\" class=\"dataframe\">\n",
       "  <thead>\n",
       "    <tr style=\"text-align: right;\">\n",
       "      <th></th>\n",
       "      <th>0</th>\n",
       "    </tr>\n",
       "  </thead>\n",
       "  <tbody>\n",
       "    <tr>\n",
       "      <th>0</th>\n",
       "      <td>balance</td>\n",
       "    </tr>\n",
       "    <tr>\n",
       "      <th>1</th>\n",
       "      <td>duration</td>\n",
       "    </tr>\n",
       "    <tr>\n",
       "      <th>2</th>\n",
       "      <td>campaign</td>\n",
       "    </tr>\n",
       "    <tr>\n",
       "      <th>3</th>\n",
       "      <td>pdays</td>\n",
       "    </tr>\n",
       "    <tr>\n",
       "      <th>4</th>\n",
       "      <td>previous</td>\n",
       "    </tr>\n",
       "    <tr>\n",
       "      <th>5</th>\n",
       "      <td>education</td>\n",
       "    </tr>\n",
       "    <tr>\n",
       "      <th>6</th>\n",
       "      <td>housing</td>\n",
       "    </tr>\n",
       "    <tr>\n",
       "      <th>7</th>\n",
       "      <td>loan</td>\n",
       "    </tr>\n",
       "    <tr>\n",
       "      <th>8</th>\n",
       "      <td>contact</td>\n",
       "    </tr>\n",
       "    <tr>\n",
       "      <th>9</th>\n",
       "      <td>poutcome</td>\n",
       "    </tr>\n",
       "  </tbody>\n",
       "</table>\n",
       "</div>"
      ],
      "text/plain": [
       "           0\n",
       "0    balance\n",
       "1   duration\n",
       "2   campaign\n",
       "3      pdays\n",
       "4   previous\n",
       "5  education\n",
       "6    housing\n",
       "7       loan\n",
       "8    contact\n",
       "9   poutcome"
      ]
     },
     "execution_count": 174,
     "metadata": {},
     "output_type": "execute_result"
    }
   ],
   "source": [
    "scores = pd.DataFrame(kfit.scores_.reshape(-1,1))\n",
    "columns = pd.DataFrame(X_train.columns[kfit.get_support()])\n",
    "columns"
   ]
  },
  {
   "cell_type": "code",
   "execution_count": 80,
   "metadata": {
    "ExecuteTime": {
     "end_time": "2020-09-21T17:46:35.760946Z",
     "start_time": "2020-09-21T17:46:35.745324Z"
    },
    "colab": {},
    "colab_type": "code",
    "id": "sEw4HMoDTjYs"
   },
   "outputs": [],
   "source": [
    "# Train logistic regression model with subset of features from K Best\n",
    "from sklearn.pipeline import make_pipeline\n",
    "from sklearn.linear_model import LogisticRegression\n",
    "from sklearn.metrics import accuracy_score\n",
    "from warnings import simplefilter\n",
    "from sklearn.exceptions import ConvergenceWarning\n",
    "simplefilter(\"ignore\", category=ConvergenceWarning)"
   ]
  },
  {
   "cell_type": "code",
   "execution_count": 81,
   "metadata": {
    "ExecuteTime": {
     "end_time": "2020-09-21T17:46:42.285838Z",
     "start_time": "2020-09-21T17:46:37.290828Z"
    }
   },
   "outputs": [
    {
     "name": "stdout",
     "output_type": "stream",
     "text": [
      "-------- k = 1 --------\n",
      "0.8892114576421146\n",
      "0.8872055733716687\n",
      "-------- k = 2 --------\n",
      "0.8903450564034505\n",
      "0.8875373216852814\n",
      "-------- k = 3 --------\n",
      "0.8910362751603628\n",
      "0.8874267389140772\n",
      "-------- k = 4 --------\n",
      "0.8914786551647865\n",
      "0.8880902355413026\n",
      "-------- k = 5 --------\n",
      "0.8913404114134041\n",
      "0.8876479044564857\n",
      "-------- k = 6 --------\n",
      "0.891506303915063\n",
      "0.8875373216852814\n",
      "-------- k = 7 --------\n",
      "0.8901791639017916\n",
      "0.8865420767444432\n",
      "-------- k = 8 --------\n",
      "0.8904003539040035\n",
      "0.8852150834899922\n",
      "-------- k = 9 --------\n",
      "0.8904003539040035\n",
      "0.8852150834899922\n",
      "-------- k = 10 --------\n",
      "0.8896261888962619\n",
      "0.8833351763795201\n",
      "-------- k = 11 --------\n",
      "0.8893220526432205\n",
      "0.8844410040915626\n",
      "-------- k = 12 --------\n",
      "0.8881331563813316\n",
      "0.8831140108371116\n",
      "-------- k = 13 --------\n",
      "0.8886861313868614\n",
      "0.8844410040915626\n",
      "-------- k = 14 --------\n",
      "0.8872760451227605\n",
      "0.885546831803605\n",
      "-------- k = 15 --------\n",
      "0.8874695863746959\n",
      "0.8856574145748093\n",
      "-------- k = 16 --------\n",
      "0.8882437513824375\n",
      "0.8849939179475838\n"
     ]
    }
   ],
   "source": [
    "for i in range(1,17):\n",
    "    model = make_pipeline(SelectKBest(f_classif, k=i), LogisticRegression())\n",
    "    model.fit(X_train,y_train)\n",
    "    print(\"-------- k = \"+str(i)+\" --------\")\n",
    "    print(accuracy_score(y_train,model.predict(X_train)))\n",
    "    print(accuracy_score(y_test,model.predict(X_test)))"
   ]
  },
  {
   "cell_type": "code",
   "execution_count": 161,
   "metadata": {
    "ExecuteTime": {
     "end_time": "2020-09-21T18:21:42.806254Z",
     "start_time": "2020-09-21T18:21:42.737386Z"
    },
    "colab": {},
    "colab_type": "code",
    "id": "a7DaPOqIckol"
   },
   "outputs": [],
   "source": [
    "from sklearn.linear_model import LogisticRegression,SGDClassifier, RidgeClassifier\n",
    "from sklearn.tree import DecisionTreeClassifier\n",
    "from sklearn.feature_selection import RFE\n",
    "from sklearn.feature_selection import RFECV\n",
    "from sklearn.feature_selection import SelectKBest, chi2\n",
    "from sklearn.metrics import accuracy_score, f1_score\n",
    "from sklearn.metrics import f1_score,confusion_matrix\n",
    "from sklearn.model_selection import train_test_split\n",
    "from sklearn.linear_model import LogisticRegression\n"
   ]
  },
  {
   "cell_type": "markdown",
   "metadata": {
    "colab_type": "text",
    "id": "AIG4cjGSOKSK"
   },
   "source": [
    "# Forward Selection"
   ]
  },
  {
   "cell_type": "code",
   "execution_count": 149,
   "metadata": {
    "ExecuteTime": {
     "end_time": "2020-09-21T18:20:55.671425Z",
     "start_time": "2020-09-21T18:20:55.329779Z"
    },
    "colab": {},
    "colab_type": "code",
    "id": "EULB-0-_OM-q"
   },
   "outputs": [
    {
     "data": {
      "text/plain": [
       "LogisticRegression()"
      ]
     },
     "execution_count": 149,
     "metadata": {},
     "output_type": "execute_result"
    }
   ],
   "source": [
    "# Train a logistic regression model here\n",
    "model=LogisticRegression()\n",
    "model.fit(X_train,y_train)"
   ]
  },
  {
   "cell_type": "code",
   "execution_count": 150,
   "metadata": {
    "ExecuteTime": {
     "end_time": "2020-09-21T18:20:55.856293Z",
     "start_time": "2020-09-21T18:20:55.840672Z"
    },
    "colab": {},
    "colab_type": "code",
    "id": "CBmsSFMvOc-E"
   },
   "outputs": [
    {
     "name": "stdout",
     "output_type": "stream",
     "text": [
      "[[-3.27283762e-01 -2.38541096e-01 -2.24470004e-01 -2.15081283e-01\n",
      "  -1.10994558e-01 -6.53581228e-02 -6.45531520e-02 -2.46796625e-02\n",
      "  -1.80907957e-02 -1.65488023e-02 -5.87631287e-03 -1.21453353e-03\n",
      "   3.50209873e-05  3.53304815e-03  2.26484702e-02  1.35387822e-01]]\n"
     ]
    }
   ],
   "source": [
    "# Print the absolute weights of the model and sort them in descending order\n",
    "weights=np.sort(model.coef_)[::-1]\n",
    "print(weights)"
   ]
  },
  {
   "cell_type": "code",
   "execution_count": 151,
   "metadata": {
    "ExecuteTime": {
     "end_time": "2020-09-21T18:20:56.025545Z",
     "start_time": "2020-09-21T18:20:56.009934Z"
    }
   },
   "outputs": [
    {
     "data": {
      "text/plain": [
       "[4, 13, 11, 15, 8, 12, 14, 0, 2, 9, 10, 5, 1, 3, 7, 6]"
      ]
     },
     "execution_count": 151,
     "metadata": {},
     "output_type": "execute_result"
    }
   ],
   "source": [
    "colind=np.argsort(model.coef_)[::-1]\n",
    "colind.tolist()[0]"
   ]
  },
  {
   "cell_type": "code",
   "execution_count": 152,
   "metadata": {
    "ExecuteTime": {
     "end_time": "2020-09-21T18:20:56.226088Z",
     "start_time": "2020-09-21T18:20:56.210539Z"
    },
    "colab": {},
    "colab_type": "code",
    "id": "INErGSQEOgWx"
   },
   "outputs": [],
   "source": [
    "# Run a for loop where each time you train a new model by adding features (from no of features 1 to n) \n",
    "# with highest weights (based on absolute weight from initial model) \n",
    "# Note you can choose features randomly also "
   ]
  },
  {
   "cell_type": "code",
   "execution_count": 153,
   "metadata": {
    "ExecuteTime": {
     "end_time": "2020-09-21T18:21:00.108194Z",
     "start_time": "2020-09-21T18:20:56.395411Z"
    },
    "colab": {},
    "colab_type": "code",
    "id": "2eBBbHLZPPe1",
    "scrolled": true
   },
   "outputs": [
    {
     "name": "stdout",
     "output_type": "stream",
     "text": [
      "-------- Top 1 columns--------\n",
      "0.8831563813315638\n",
      "0.8824505142098861\n",
      "\n",
      "-------- Top 2 columns--------\n",
      "0.8831563813315638\n",
      "0.8824505142098861\n",
      "\n",
      "-------- Top 3 columns--------\n",
      "0.8831563813315638\n",
      "0.8824505142098861\n",
      "\n",
      "-------- Top 4 columns--------\n",
      "0.8831563813315638\n",
      "0.8824505142098861\n",
      "\n",
      "-------- Top 5 columns--------\n",
      "0.8831563813315638\n",
      "0.8824505142098861\n",
      "\n",
      "-------- Top 6 columns--------\n",
      "0.8831563813315638\n",
      "0.8824505142098861\n",
      "\n",
      "-------- Top 7 columns--------\n",
      "0.8831563813315638\n",
      "0.8824505142098861\n",
      "\n",
      "-------- Top 8 columns--------\n",
      "0.8831563813315638\n",
      "0.8824505142098861\n",
      "\n",
      "-------- Top 9 columns--------\n",
      "0.8831563813315638\n",
      "0.8824505142098861\n",
      "\n",
      "-------- Top 10 columns--------\n",
      "0.8831563813315638\n",
      "0.8824505142098861\n",
      "\n",
      "-------- Top 11 columns--------\n",
      "0.8831563813315638\n",
      "0.8824505142098861\n",
      "\n",
      "-------- Top 12 columns--------\n",
      "0.8831563813315638\n",
      "0.8828928452947031\n",
      "\n",
      "-------- Top 13 columns--------\n",
      "0.8830181375801813\n",
      "0.8823399314386818\n",
      "\n",
      "-------- Top 14 columns--------\n",
      "0.8887690776376908\n",
      "0.8858785801172178\n",
      "\n",
      "-------- Top 15 columns--------\n",
      "0.8885202388852024\n",
      "0.8852150834899922\n",
      "\n",
      "-------- Top 16 columns--------\n",
      "0.8882990488829905\n",
      "0.8849939179475838\n",
      "\n"
     ]
    }
   ],
   "source": [
    "# Print the accuracies of all the models trained and names of the features used for each time\n",
    "c=1\n",
    "cols=[]\n",
    "for i in list(colind.tolist()[0]):\n",
    "    cols.append(i)\n",
    "    print(\"-------- Top \"+str(c)+\" columns--------\")\n",
    "    if(c==1):\n",
    "        model=LogisticRegression()\n",
    "        model.fit(pd.DataFrame(X_train.iloc[:,i]),y_train)\n",
    "    model=LogisticRegression()\n",
    "    model.fit(X_train.iloc[:,cols],y_train)\n",
    "    print(accuracy_score(y_train,model.predict(X_train.iloc[:,cols])))\n",
    "    print(accuracy_score(y_test,model.predict(X_test.iloc[:,cols])))\n",
    "    print()\n",
    "    c+=1"
   ]
  },
  {
   "cell_type": "code",
   "execution_count": null,
   "metadata": {},
   "outputs": [],
   "source": []
  },
  {
   "cell_type": "markdown",
   "metadata": {
    "colab_type": "text",
    "id": "NdpVkxU6Psji"
   },
   "source": [
    "# Backward Elimination"
   ]
  },
  {
   "cell_type": "code",
   "execution_count": 154,
   "metadata": {
    "ExecuteTime": {
     "end_time": "2020-09-21T18:21:00.625849Z",
     "start_time": "2020-09-21T18:21:00.271006Z"
    },
    "colab": {},
    "colab_type": "code",
    "id": "IbA6_UeRPvBy"
   },
   "outputs": [
    {
     "data": {
      "text/plain": [
       "LogisticRegression()"
      ]
     },
     "execution_count": 154,
     "metadata": {},
     "output_type": "execute_result"
    }
   ],
   "source": [
    "# Train a logistic regression model here\n",
    "model=LogisticRegression()\n",
    "model.fit(X_train,y_train)"
   ]
  },
  {
   "cell_type": "code",
   "execution_count": 155,
   "metadata": {
    "ExecuteTime": {
     "end_time": "2020-09-21T18:21:00.834346Z",
     "start_time": "2020-09-21T18:21:00.808649Z"
    },
    "colab": {},
    "colab_type": "code",
    "id": "A6nhX03SPwmi"
   },
   "outputs": [
    {
     "name": "stdout",
     "output_type": "stream",
     "text": [
      "[[-3.27283762e-01 -2.38541096e-01 -2.24470004e-01 -2.15081283e-01\n",
      "  -1.10994558e-01 -6.53581228e-02 -6.45531520e-02 -2.46796625e-02\n",
      "  -1.80907957e-02 -1.65488023e-02 -5.87631287e-03 -1.21453353e-03\n",
      "   3.50209873e-05  3.53304815e-03  2.26484702e-02  1.35387822e-01]]\n"
     ]
    }
   ],
   "source": [
    "# Print the absolute weights of the model and sort them in ascending order\n",
    "weights=np.sort(model.coef_)\n",
    "print(weights)"
   ]
  },
  {
   "cell_type": "code",
   "execution_count": 156,
   "metadata": {
    "ExecuteTime": {
     "end_time": "2020-09-21T18:21:00.997088Z",
     "start_time": "2020-09-21T18:21:00.981485Z"
    },
    "colab": {},
    "colab_type": "code",
    "id": "3765h0QTPxkR"
   },
   "outputs": [
    {
     "data": {
      "text/plain": [
       "[6, 7, 3, 1, 5, 10, 9, 2, 0, 14, 12, 8, 15, 11, 13, 4]"
      ]
     },
     "execution_count": 156,
     "metadata": {},
     "output_type": "execute_result"
    }
   ],
   "source": [
    "# Run a for loop where each time you train a new model by removing features (from no of features n to 1) \n",
    "# with lowest weights (based on absolute weight from initial model) \n",
    "# Note you can choose features randomly also \n",
    "colind=np.argsort(model.coef_)\n",
    "colind.tolist()[0][::-1]"
   ]
  },
  {
   "cell_type": "code",
   "execution_count": 157,
   "metadata": {
    "ExecuteTime": {
     "end_time": "2020-09-21T18:21:06.179925Z",
     "start_time": "2020-09-21T18:21:01.166071Z"
    },
    "colab": {},
    "colab_type": "code",
    "id": "lZ3dKQtLPzLk"
   },
   "outputs": [
    {
     "name": "stdout",
     "output_type": "stream",
     "text": [
      "-------- Bottom 1 columns--------\n",
      "0.8820780800707808\n",
      "0.8824505142098861\n",
      "\n",
      "-------- Bottom 2 columns--------\n",
      "0.8820780800707808\n",
      "0.8824505142098861\n",
      "\n",
      "-------- Bottom 3 columns--------\n",
      "0.8887414288874143\n",
      "0.8867632422868517\n",
      "\n",
      "-------- Bottom 4 columns--------\n",
      "0.8887967263879673\n",
      "0.8874267389140772\n",
      "\n",
      "-------- Bottom 5 columns--------\n",
      "0.8897367838973679\n",
      "0.8875373216852814\n",
      "\n",
      "-------- Bottom 6 columns--------\n",
      "0.8896814863968149\n",
      "0.8876479044564857\n",
      "\n",
      "-------- Bottom 7 columns--------\n",
      "0.8853682813536828\n",
      "0.8844410040915626\n",
      "\n",
      "-------- Bottom 8 columns--------\n",
      "0.8813868613138686\n",
      "0.8795753621585757\n",
      "\n",
      "-------- Bottom 9 columns--------\n",
      "0.8866954213669542\n",
      "0.8853256662611965\n",
      "\n",
      "-------- Bottom 10 columns--------\n",
      "0.887137801371378\n",
      "0.884662169633971\n",
      "\n",
      "-------- Bottom 11 columns--------\n",
      "0.8869442601194426\n",
      "0.8845515868627668\n",
      "\n",
      "-------- Bottom 12 columns--------\n",
      "0.8867230701172307\n",
      "0.883777507464337\n",
      "\n",
      "-------- Bottom 13 columns--------\n",
      "0.8880225613802256\n",
      "0.8836669246931328\n",
      "\n",
      "-------- Bottom 14 columns--------\n",
      "0.8867230701172307\n",
      "0.8826716797522945\n",
      "\n",
      "-------- Bottom 15 columns--------\n",
      "0.887137801371378\n",
      "0.8824505142098861\n",
      "\n",
      "-------- Bottom 16 columns--------\n",
      "0.88838199513382\n",
      "0.8856574145748093\n",
      "\n"
     ]
    }
   ],
   "source": [
    "# Print the accuracies of all the models trained and names of the features used for each time\n",
    "c=1\n",
    "cols=[]\n",
    "for i in list(colind.tolist()[0][::-1]):\n",
    "    cols.append(i)\n",
    "    print(\"-------- Bottom \"+str(c)+\" columns--------\")\n",
    "    if(c==1):\n",
    "        model=LogisticRegression()\n",
    "        model.fit(pd.DataFrame(X_train.iloc[:,i]),y_train)\n",
    "    model=LogisticRegression()\n",
    "    model.fit(X_train.iloc[:,cols],y_train)\n",
    "    print(accuracy_score(y_train,model.predict(X_train.iloc[:,cols])))\n",
    "    print(accuracy_score(y_test,model.predict(X_test.iloc[:,cols])))\n",
    "    print()\n",
    "    c+=1"
   ]
  },
  {
   "cell_type": "code",
   "execution_count": null,
   "metadata": {
    "colab": {},
    "colab_type": "code",
    "id": "B6PP5Fj0QNlr"
   },
   "outputs": [],
   "source": [
    "# Find a feature subset number where accuracy is maximum and number of features is minimum at the same time"
   ]
  },
  {
   "cell_type": "markdown",
   "metadata": {
    "colab_type": "text",
    "id": "eADqqSm1-wmM"
   },
   "source": [
    "# Recursive Feature Elimination. \n",
    "Recursive Feature Elimination (RFE) as its title suggests recursively removes features, builds a model using the remaining attributes and calculates model accuracy. \n"
   ]
  },
  {
   "cell_type": "code",
   "execution_count": 162,
   "metadata": {
    "ExecuteTime": {
     "end_time": "2020-09-21T18:21:46.343410Z",
     "start_time": "2020-09-21T18:21:46.327788Z"
    },
    "colab": {},
    "colab_type": "code",
    "id": "rf6KdlgD3tiR"
   },
   "outputs": [],
   "source": [
    "X = banking1.iloc[:,0:16]\n",
    "y = banking1.iloc[:,16]\n",
    "logit = LogisticRegression()"
   ]
  },
  {
   "cell_type": "code",
   "execution_count": 163,
   "metadata": {
    "ExecuteTime": {
     "end_time": "2020-09-21T18:21:46.661818Z",
     "start_time": "2020-09-21T18:21:46.630578Z"
    },
    "colab": {},
    "colab_type": "code",
    "id": "Pc2ijrbDDnzS"
   },
   "outputs": [],
   "source": [
    "X_train,X_test,y_train,y_test = train_test_split(X,y, test_size = 0.2, random_state = 10)"
   ]
  },
  {
   "cell_type": "code",
   "execution_count": 164,
   "metadata": {
    "ExecuteTime": {
     "end_time": "2020-09-21T18:21:49.488245Z",
     "start_time": "2020-09-21T18:21:46.999978Z"
    },
    "colab": {},
    "colab_type": "code",
    "id": "apwow9tecYmi"
   },
   "outputs": [],
   "source": [
    "rfe = RFE(estimator=LogisticRegression(), step=1)\n",
    "rfe = rfe.fit(X_train,y_train)"
   ]
  },
  {
   "cell_type": "code",
   "execution_count": 177,
   "metadata": {
    "ExecuteTime": {
     "end_time": "2020-09-21T18:27:53.192356Z",
     "start_time": "2020-09-21T18:27:53.176757Z"
    },
    "colab": {},
    "colab_type": "code",
    "id": "kjp8m1pL44Xi"
   },
   "outputs": [
    {
     "data": {
      "text/html": [
       "<div>\n",
       "<style scoped>\n",
       "    .dataframe tbody tr th:only-of-type {\n",
       "        vertical-align: middle;\n",
       "    }\n",
       "\n",
       "    .dataframe tbody tr th {\n",
       "        vertical-align: top;\n",
       "    }\n",
       "\n",
       "    .dataframe thead th {\n",
       "        text-align: right;\n",
       "    }\n",
       "</style>\n",
       "<table border=\"1\" class=\"dataframe\">\n",
       "  <thead>\n",
       "    <tr style=\"text-align: right;\">\n",
       "      <th></th>\n",
       "      <th>0</th>\n",
       "    </tr>\n",
       "  </thead>\n",
       "  <tbody>\n",
       "    <tr>\n",
       "      <th>0</th>\n",
       "      <td>age</td>\n",
       "    </tr>\n",
       "    <tr>\n",
       "      <th>1</th>\n",
       "      <td>balance</td>\n",
       "    </tr>\n",
       "    <tr>\n",
       "      <th>2</th>\n",
       "      <td>day</td>\n",
       "    </tr>\n",
       "    <tr>\n",
       "      <th>3</th>\n",
       "      <td>duration</td>\n",
       "    </tr>\n",
       "    <tr>\n",
       "      <th>4</th>\n",
       "      <td>campaign</td>\n",
       "    </tr>\n",
       "    <tr>\n",
       "      <th>5</th>\n",
       "      <td>pdays</td>\n",
       "    </tr>\n",
       "    <tr>\n",
       "      <th>6</th>\n",
       "      <td>previous</td>\n",
       "    </tr>\n",
       "    <tr>\n",
       "      <th>7</th>\n",
       "      <td>job</td>\n",
       "    </tr>\n",
       "    <tr>\n",
       "      <th>8</th>\n",
       "      <td>marital</td>\n",
       "    </tr>\n",
       "    <tr>\n",
       "      <th>9</th>\n",
       "      <td>education</td>\n",
       "    </tr>\n",
       "    <tr>\n",
       "      <th>10</th>\n",
       "      <td>default</td>\n",
       "    </tr>\n",
       "    <tr>\n",
       "      <th>11</th>\n",
       "      <td>housing</td>\n",
       "    </tr>\n",
       "    <tr>\n",
       "      <th>12</th>\n",
       "      <td>loan</td>\n",
       "    </tr>\n",
       "    <tr>\n",
       "      <th>13</th>\n",
       "      <td>contact</td>\n",
       "    </tr>\n",
       "    <tr>\n",
       "      <th>14</th>\n",
       "      <td>month</td>\n",
       "    </tr>\n",
       "    <tr>\n",
       "      <th>15</th>\n",
       "      <td>poutcome</td>\n",
       "    </tr>\n",
       "  </tbody>\n",
       "</table>\n",
       "</div>"
      ],
      "text/plain": [
       "            0\n",
       "0         age\n",
       "1     balance\n",
       "2         day\n",
       "3    duration\n",
       "4    campaign\n",
       "5       pdays\n",
       "6    previous\n",
       "7         job\n",
       "8     marital\n",
       "9   education\n",
       "10    default\n",
       "11    housing\n",
       "12       loan\n",
       "13    contact\n",
       "14      month\n",
       "15   poutcome"
      ]
     },
     "execution_count": 177,
     "metadata": {},
     "output_type": "execute_result"
    }
   ],
   "source": [
    "cols = pd.DataFrame(X_train.columns)\n",
    "ranking = pd.DataFrame(rfe.ranking_)\n",
    "cols"
   ]
  },
  {
   "cell_type": "code",
   "execution_count": 178,
   "metadata": {
    "ExecuteTime": {
     "end_time": "2020-09-21T18:27:54.408205Z",
     "start_time": "2020-09-21T18:27:54.392769Z"
    },
    "colab": {},
    "colab_type": "code",
    "id": "Mh8fWvvGD9eJ"
   },
   "outputs": [],
   "source": [
    "rankings_of_features = pd.concat([cols,ranking],axis = 1)"
   ]
  },
  {
   "cell_type": "code",
   "execution_count": 179,
   "metadata": {
    "ExecuteTime": {
     "end_time": "2020-09-21T18:27:55.651201Z",
     "start_time": "2020-09-21T18:27:55.613534Z"
    },
    "colab": {},
    "colab_type": "code",
    "id": "CCpW4RjuEQwT"
   },
   "outputs": [
    {
     "data": {
      "text/html": [
       "<div>\n",
       "<style scoped>\n",
       "    .dataframe tbody tr th:only-of-type {\n",
       "        vertical-align: middle;\n",
       "    }\n",
       "\n",
       "    .dataframe tbody tr th {\n",
       "        vertical-align: top;\n",
       "    }\n",
       "\n",
       "    .dataframe thead th {\n",
       "        text-align: right;\n",
       "    }\n",
       "</style>\n",
       "<table border=\"1\" class=\"dataframe\">\n",
       "  <thead>\n",
       "    <tr style=\"text-align: right;\">\n",
       "      <th></th>\n",
       "      <th>0</th>\n",
       "      <th>0</th>\n",
       "    </tr>\n",
       "  </thead>\n",
       "  <tbody>\n",
       "    <tr>\n",
       "      <th>0</th>\n",
       "      <td>age</td>\n",
       "      <td>5</td>\n",
       "    </tr>\n",
       "    <tr>\n",
       "      <th>1</th>\n",
       "      <td>balance</td>\n",
       "      <td>9</td>\n",
       "    </tr>\n",
       "    <tr>\n",
       "      <th>2</th>\n",
       "      <td>day</td>\n",
       "      <td>4</td>\n",
       "    </tr>\n",
       "    <tr>\n",
       "      <th>3</th>\n",
       "      <td>duration</td>\n",
       "      <td>7</td>\n",
       "    </tr>\n",
       "    <tr>\n",
       "      <th>4</th>\n",
       "      <td>campaign</td>\n",
       "      <td>1</td>\n",
       "    </tr>\n",
       "    <tr>\n",
       "      <th>5</th>\n",
       "      <td>pdays</td>\n",
       "      <td>8</td>\n",
       "    </tr>\n",
       "    <tr>\n",
       "      <th>6</th>\n",
       "      <td>previous</td>\n",
       "      <td>1</td>\n",
       "    </tr>\n",
       "    <tr>\n",
       "      <th>7</th>\n",
       "      <td>job</td>\n",
       "      <td>6</td>\n",
       "    </tr>\n",
       "    <tr>\n",
       "      <th>8</th>\n",
       "      <td>marital</td>\n",
       "      <td>1</td>\n",
       "    </tr>\n",
       "    <tr>\n",
       "      <th>9</th>\n",
       "      <td>education</td>\n",
       "      <td>1</td>\n",
       "    </tr>\n",
       "    <tr>\n",
       "      <th>10</th>\n",
       "      <td>default</td>\n",
       "      <td>1</td>\n",
       "    </tr>\n",
       "    <tr>\n",
       "      <th>11</th>\n",
       "      <td>housing</td>\n",
       "      <td>1</td>\n",
       "    </tr>\n",
       "    <tr>\n",
       "      <th>12</th>\n",
       "      <td>loan</td>\n",
       "      <td>1</td>\n",
       "    </tr>\n",
       "    <tr>\n",
       "      <th>13</th>\n",
       "      <td>contact</td>\n",
       "      <td>1</td>\n",
       "    </tr>\n",
       "    <tr>\n",
       "      <th>14</th>\n",
       "      <td>month</td>\n",
       "      <td>2</td>\n",
       "    </tr>\n",
       "    <tr>\n",
       "      <th>15</th>\n",
       "      <td>poutcome</td>\n",
       "      <td>3</td>\n",
       "    </tr>\n",
       "  </tbody>\n",
       "</table>\n",
       "</div>"
      ],
      "text/plain": [
       "            0  0\n",
       "0         age  5\n",
       "1     balance  9\n",
       "2         day  4\n",
       "3    duration  7\n",
       "4    campaign  1\n",
       "5       pdays  8\n",
       "6    previous  1\n",
       "7         job  6\n",
       "8     marital  1\n",
       "9   education  1\n",
       "10    default  1\n",
       "11    housing  1\n",
       "12       loan  1\n",
       "13    contact  1\n",
       "14      month  2\n",
       "15   poutcome  3"
      ]
     },
     "execution_count": 179,
     "metadata": {},
     "output_type": "execute_result"
    }
   ],
   "source": [
    "rankings_of_features"
   ]
  },
  {
   "cell_type": "code",
   "execution_count": 180,
   "metadata": {
    "ExecuteTime": {
     "end_time": "2020-09-21T18:28:34.685686Z",
     "start_time": "2020-09-21T18:28:34.670224Z"
    },
    "colab": {},
    "colab_type": "code",
    "id": "JFCzpmJhEedk"
   },
   "outputs": [],
   "source": [
    "rankings_of_features.columns = ['columns','rank']"
   ]
  },
  {
   "cell_type": "code",
   "execution_count": 181,
   "metadata": {
    "ExecuteTime": {
     "end_time": "2020-09-21T18:28:35.220504Z",
     "start_time": "2020-09-21T18:28:35.204896Z"
    },
    "colab": {},
    "colab_type": "code",
    "id": "89pvzdHuFzNW"
   },
   "outputs": [
    {
     "data": {
      "text/html": [
       "<div>\n",
       "<style scoped>\n",
       "    .dataframe tbody tr th:only-of-type {\n",
       "        vertical-align: middle;\n",
       "    }\n",
       "\n",
       "    .dataframe tbody tr th {\n",
       "        vertical-align: top;\n",
       "    }\n",
       "\n",
       "    .dataframe thead th {\n",
       "        text-align: right;\n",
       "    }\n",
       "</style>\n",
       "<table border=\"1\" class=\"dataframe\">\n",
       "  <thead>\n",
       "    <tr style=\"text-align: right;\">\n",
       "      <th></th>\n",
       "      <th>columns</th>\n",
       "      <th>rank</th>\n",
       "    </tr>\n",
       "  </thead>\n",
       "  <tbody>\n",
       "    <tr>\n",
       "      <th>0</th>\n",
       "      <td>age</td>\n",
       "      <td>5</td>\n",
       "    </tr>\n",
       "    <tr>\n",
       "      <th>1</th>\n",
       "      <td>balance</td>\n",
       "      <td>9</td>\n",
       "    </tr>\n",
       "    <tr>\n",
       "      <th>2</th>\n",
       "      <td>day</td>\n",
       "      <td>4</td>\n",
       "    </tr>\n",
       "    <tr>\n",
       "      <th>3</th>\n",
       "      <td>duration</td>\n",
       "      <td>7</td>\n",
       "    </tr>\n",
       "    <tr>\n",
       "      <th>4</th>\n",
       "      <td>campaign</td>\n",
       "      <td>1</td>\n",
       "    </tr>\n",
       "    <tr>\n",
       "      <th>5</th>\n",
       "      <td>pdays</td>\n",
       "      <td>8</td>\n",
       "    </tr>\n",
       "    <tr>\n",
       "      <th>6</th>\n",
       "      <td>previous</td>\n",
       "      <td>1</td>\n",
       "    </tr>\n",
       "    <tr>\n",
       "      <th>7</th>\n",
       "      <td>job</td>\n",
       "      <td>6</td>\n",
       "    </tr>\n",
       "    <tr>\n",
       "      <th>8</th>\n",
       "      <td>marital</td>\n",
       "      <td>1</td>\n",
       "    </tr>\n",
       "    <tr>\n",
       "      <th>9</th>\n",
       "      <td>education</td>\n",
       "      <td>1</td>\n",
       "    </tr>\n",
       "    <tr>\n",
       "      <th>10</th>\n",
       "      <td>default</td>\n",
       "      <td>1</td>\n",
       "    </tr>\n",
       "    <tr>\n",
       "      <th>11</th>\n",
       "      <td>housing</td>\n",
       "      <td>1</td>\n",
       "    </tr>\n",
       "    <tr>\n",
       "      <th>12</th>\n",
       "      <td>loan</td>\n",
       "      <td>1</td>\n",
       "    </tr>\n",
       "    <tr>\n",
       "      <th>13</th>\n",
       "      <td>contact</td>\n",
       "      <td>1</td>\n",
       "    </tr>\n",
       "    <tr>\n",
       "      <th>14</th>\n",
       "      <td>month</td>\n",
       "      <td>2</td>\n",
       "    </tr>\n",
       "    <tr>\n",
       "      <th>15</th>\n",
       "      <td>poutcome</td>\n",
       "      <td>3</td>\n",
       "    </tr>\n",
       "  </tbody>\n",
       "</table>\n",
       "</div>"
      ],
      "text/plain": [
       "      columns  rank\n",
       "0         age     5\n",
       "1     balance     9\n",
       "2         day     4\n",
       "3    duration     7\n",
       "4    campaign     1\n",
       "5       pdays     8\n",
       "6    previous     1\n",
       "7         job     6\n",
       "8     marital     1\n",
       "9   education     1\n",
       "10    default     1\n",
       "11    housing     1\n",
       "12       loan     1\n",
       "13    contact     1\n",
       "14      month     2\n",
       "15   poutcome     3"
      ]
     },
     "execution_count": 181,
     "metadata": {},
     "output_type": "execute_result"
    }
   ],
   "source": [
    "rankings_of_features"
   ]
  },
  {
   "cell_type": "code",
   "execution_count": 182,
   "metadata": {
    "ExecuteTime": {
     "end_time": "2020-09-21T18:28:37.226248Z",
     "start_time": "2020-09-21T18:28:37.195152Z"
    },
    "colab": {},
    "colab_type": "code",
    "id": "MzrDO56SF1od"
   },
   "outputs": [
    {
     "name": "stdout",
     "output_type": "stream",
     "text": [
      "    columns  rank\n",
      "1   balance     9\n",
      "5     pdays     8\n",
      "3  duration     7\n",
      "7       job     6\n",
      "0       age     5\n"
     ]
    }
   ],
   "source": [
    "print(rankings_of_features.nlargest(5,'rank'))\n",
    "#remember this gives wrong results"
   ]
  },
  {
   "cell_type": "code",
   "execution_count": 183,
   "metadata": {
    "ExecuteTime": {
     "end_time": "2020-09-21T18:28:38.242842Z",
     "start_time": "2020-09-21T18:28:38.211741Z"
    },
    "colab": {},
    "colab_type": "code",
    "id": "Lf8JHn4oGAPv"
   },
   "outputs": [
    {
     "data": {
      "text/html": [
       "<div>\n",
       "<style scoped>\n",
       "    .dataframe tbody tr th:only-of-type {\n",
       "        vertical-align: middle;\n",
       "    }\n",
       "\n",
       "    .dataframe tbody tr th {\n",
       "        vertical-align: top;\n",
       "    }\n",
       "\n",
       "    .dataframe thead th {\n",
       "        text-align: right;\n",
       "    }\n",
       "</style>\n",
       "<table border=\"1\" class=\"dataframe\">\n",
       "  <thead>\n",
       "    <tr style=\"text-align: right;\">\n",
       "      <th></th>\n",
       "      <th>columns</th>\n",
       "      <th>rank</th>\n",
       "    </tr>\n",
       "  </thead>\n",
       "  <tbody>\n",
       "    <tr>\n",
       "      <th>4</th>\n",
       "      <td>campaign</td>\n",
       "      <td>1</td>\n",
       "    </tr>\n",
       "    <tr>\n",
       "      <th>6</th>\n",
       "      <td>previous</td>\n",
       "      <td>1</td>\n",
       "    </tr>\n",
       "    <tr>\n",
       "      <th>8</th>\n",
       "      <td>marital</td>\n",
       "      <td>1</td>\n",
       "    </tr>\n",
       "    <tr>\n",
       "      <th>9</th>\n",
       "      <td>education</td>\n",
       "      <td>1</td>\n",
       "    </tr>\n",
       "    <tr>\n",
       "      <th>10</th>\n",
       "      <td>default</td>\n",
       "      <td>1</td>\n",
       "    </tr>\n",
       "    <tr>\n",
       "      <th>11</th>\n",
       "      <td>housing</td>\n",
       "      <td>1</td>\n",
       "    </tr>\n",
       "    <tr>\n",
       "      <th>12</th>\n",
       "      <td>loan</td>\n",
       "      <td>1</td>\n",
       "    </tr>\n",
       "    <tr>\n",
       "      <th>13</th>\n",
       "      <td>contact</td>\n",
       "      <td>1</td>\n",
       "    </tr>\n",
       "    <tr>\n",
       "      <th>14</th>\n",
       "      <td>month</td>\n",
       "      <td>2</td>\n",
       "    </tr>\n",
       "    <tr>\n",
       "      <th>15</th>\n",
       "      <td>poutcome</td>\n",
       "      <td>3</td>\n",
       "    </tr>\n",
       "    <tr>\n",
       "      <th>2</th>\n",
       "      <td>day</td>\n",
       "      <td>4</td>\n",
       "    </tr>\n",
       "    <tr>\n",
       "      <th>0</th>\n",
       "      <td>age</td>\n",
       "      <td>5</td>\n",
       "    </tr>\n",
       "    <tr>\n",
       "      <th>7</th>\n",
       "      <td>job</td>\n",
       "      <td>6</td>\n",
       "    </tr>\n",
       "    <tr>\n",
       "      <th>3</th>\n",
       "      <td>duration</td>\n",
       "      <td>7</td>\n",
       "    </tr>\n",
       "    <tr>\n",
       "      <th>5</th>\n",
       "      <td>pdays</td>\n",
       "      <td>8</td>\n",
       "    </tr>\n",
       "    <tr>\n",
       "      <th>1</th>\n",
       "      <td>balance</td>\n",
       "      <td>9</td>\n",
       "    </tr>\n",
       "  </tbody>\n",
       "</table>\n",
       "</div>"
      ],
      "text/plain": [
       "      columns  rank\n",
       "4    campaign     1\n",
       "6    previous     1\n",
       "8     marital     1\n",
       "9   education     1\n",
       "10    default     1\n",
       "11    housing     1\n",
       "12       loan     1\n",
       "13    contact     1\n",
       "14      month     2\n",
       "15   poutcome     3\n",
       "2         day     4\n",
       "0         age     5\n",
       "7         job     6\n",
       "3    duration     7\n",
       "5       pdays     8\n",
       "1     balance     9"
      ]
     },
     "execution_count": 183,
     "metadata": {},
     "output_type": "execute_result"
    }
   ],
   "source": [
    "rankings_of_features.sort_values(by='rank')"
   ]
  },
  {
   "cell_type": "code",
   "execution_count": 189,
   "metadata": {
    "ExecuteTime": {
     "end_time": "2020-09-21T18:29:11.132640Z",
     "start_time": "2020-09-21T18:29:11.101360Z"
    },
    "colab": {},
    "colab_type": "code",
    "id": "r9lsliGEGQ9W"
   },
   "outputs": [],
   "source": [
    "#replace your X_train,X_test with new training data(the one which contains most impactful features)\n",
    "X_trainRFE = rfe.transform(X_train)\n",
    "X_testRFE = rfe.transform(X_test)"
   ]
  },
  {
   "cell_type": "code",
   "execution_count": 191,
   "metadata": {
    "ExecuteTime": {
     "end_time": "2020-09-21T18:29:29.124300Z",
     "start_time": "2020-09-21T18:29:28.992811Z"
    },
    "colab": {},
    "colab_type": "code",
    "id": "xLIMcEtsHB26"
   },
   "outputs": [],
   "source": [
    "model = logit.fit(X_trainRFE,y_train)"
   ]
  },
  {
   "cell_type": "code",
   "execution_count": 192,
   "metadata": {
    "ExecuteTime": {
     "end_time": "2020-09-21T18:29:29.329204Z",
     "start_time": "2020-09-21T18:29:29.325203Z"
    },
    "colab": {},
    "colab_type": "code",
    "id": "BHNuCKCmHPGb"
   },
   "outputs": [],
   "source": [
    "from sklearn import metrics\n",
    "from sklearn.model_selection import cross_val_score"
   ]
  },
  {
   "cell_type": "code",
   "execution_count": 193,
   "metadata": {
    "ExecuteTime": {
     "end_time": "2020-09-21T18:29:29.656316Z",
     "start_time": "2020-09-21T18:29:29.640724Z"
    },
    "colab": {},
    "colab_type": "code",
    "id": "hToufAKPHbRZ"
   },
   "outputs": [
    {
     "data": {
      "text/plain": [
       "array([0, 0, 0, ..., 0, 0, 0])"
      ]
     },
     "execution_count": 193,
     "metadata": {},
     "output_type": "execute_result"
    }
   ],
   "source": [
    "logit.predict(X_testRFE)"
   ]
  },
  {
   "cell_type": "code",
   "execution_count": 194,
   "metadata": {
    "ExecuteTime": {
     "end_time": "2020-09-21T18:29:31.212590Z",
     "start_time": "2020-09-21T18:29:31.196964Z"
    },
    "colab": {},
    "colab_type": "code",
    "id": "xeJ60dorHjhl"
   },
   "outputs": [
    {
     "name": "stdout",
     "output_type": "stream",
     "text": [
      "0.8824505142098861\n"
     ]
    }
   ],
   "source": [
    "score = logit.score(X_testRFE, y_test)\n",
    "print(score)"
   ]
  },
  {
   "cell_type": "markdown",
   "metadata": {
    "colab_type": "text",
    "id": "BE7QbibmXY2w"
   },
   "source": [
    "# RFE using cross validation"
   ]
  },
  {
   "cell_type": "code",
   "execution_count": 201,
   "metadata": {
    "ExecuteTime": {
     "end_time": "2020-09-21T18:33:30.693824Z",
     "start_time": "2020-09-21T18:33:18.120056Z"
    },
    "colab": {},
    "colab_type": "code",
    "id": "f6Nae5YBIFMy"
   },
   "outputs": [],
   "source": [
    "rfecv = RFECV(estimator=logit, step=1, cv=5, scoring='accuracy')\n",
    "rfecv = rfecv.fit(X_train, y_train)"
   ]
  },
  {
   "cell_type": "code",
   "execution_count": 202,
   "metadata": {
    "ExecuteTime": {
     "end_time": "2020-09-21T18:33:30.913705Z",
     "start_time": "2020-09-21T18:33:30.898084Z"
    },
    "colab": {},
    "colab_type": "code",
    "id": "TfFOyfvTXdDH"
   },
   "outputs": [
    {
     "data": {
      "text/plain": [
       "array([0.88315638, 0.88315638, 0.88315638, 0.88315638, 0.88315638,\n",
       "       0.88315638, 0.88315638, 0.88274165, 0.88282459, 0.88285224,\n",
       "       0.8828246 , 0.88290753, 0.88442814, 0.88995803, 0.89053868,\n",
       "       0.88813325])"
      ]
     },
     "execution_count": 202,
     "metadata": {},
     "output_type": "execute_result"
    }
   ],
   "source": [
    "rfecv.grid_scores_"
   ]
  },
  {
   "cell_type": "code",
   "execution_count": 203,
   "metadata": {
    "ExecuteTime": {
     "end_time": "2020-09-21T18:33:31.114221Z",
     "start_time": "2020-09-21T18:33:31.082998Z"
    },
    "colab": {},
    "colab_type": "code",
    "id": "pEwrywg0YMIh"
   },
   "outputs": [],
   "source": [
    "X_train_rfecv = rfecv.transform(X_train)\n",
    "X_test_rfecv = rfecv.transform(X_test)"
   ]
  },
  {
   "cell_type": "code",
   "execution_count": 204,
   "metadata": {
    "ExecuteTime": {
     "end_time": "2020-09-21T18:33:31.699746Z",
     "start_time": "2020-09-21T18:33:31.288189Z"
    },
    "colab": {},
    "colab_type": "code",
    "id": "AXsJkgxwYQ7I"
   },
   "outputs": [],
   "source": [
    "model = logit.fit(X_train_rfecv,y_train)"
   ]
  },
  {
   "cell_type": "code",
   "execution_count": 205,
   "metadata": {
    "ExecuteTime": {
     "end_time": "2020-09-21T18:33:31.915890Z",
     "start_time": "2020-09-21T18:33:31.900285Z"
    },
    "colab": {},
    "colab_type": "code",
    "id": "3MTA38jMYS25"
   },
   "outputs": [
    {
     "data": {
      "text/plain": [
       "array([0, 1, 0, ..., 0, 0, 0])"
      ]
     },
     "execution_count": 205,
     "metadata": {},
     "output_type": "execute_result"
    }
   ],
   "source": [
    "logit.predict(X_test_rfecv)\n"
   ]
  },
  {
   "cell_type": "code",
   "execution_count": 210,
   "metadata": {
    "ExecuteTime": {
     "end_time": "2020-09-21T18:34:54.572010Z",
     "start_time": "2020-09-21T18:34:54.527427Z"
    },
    "colab": {},
    "colab_type": "code",
    "id": "zwULtfADYXpd"
   },
   "outputs": [
    {
     "name": "stdout",
     "output_type": "stream",
     "text": [
      "0.8824505142098861\n"
     ]
    }
   ],
   "source": [
    "logit.score(X_test_rfecv,y_test)\n",
    "print(score)"
   ]
  },
  {
   "cell_type": "code",
   "execution_count": null,
   "metadata": {
    "colab": {},
    "colab_type": "code",
    "id": "LB4ExUAqYZg1"
   },
   "outputs": [],
   "source": []
  }
 ],
 "metadata": {
  "colab": {
   "collapsed_sections": [],
   "name": "Task_1_feature_elimination.ipynb",
   "provenance": []
  },
  "kernelspec": {
   "display_name": "Python 3",
   "language": "python",
   "name": "python3"
  },
  "language_info": {
   "codemirror_mode": {
    "name": "ipython",
    "version": 3
   },
   "file_extension": ".py",
   "mimetype": "text/x-python",
   "name": "python",
   "nbconvert_exporter": "python",
   "pygments_lexer": "ipython3",
   "version": "3.8.5"
  },
  "varInspector": {
   "cols": {
    "lenName": 16,
    "lenType": 16,
    "lenVar": 40
   },
   "kernels_config": {
    "python": {
     "delete_cmd_postfix": "",
     "delete_cmd_prefix": "del ",
     "library": "var_list.py",
     "varRefreshCmd": "print(var_dic_list())"
    },
    "r": {
     "delete_cmd_postfix": ") ",
     "delete_cmd_prefix": "rm(",
     "library": "var_list.r",
     "varRefreshCmd": "cat(var_dic_list()) "
    }
   },
   "types_to_exclude": [
    "module",
    "function",
    "builtin_function_or_method",
    "instance",
    "_Feature"
   ],
   "window_display": false
  }
 },
 "nbformat": 4,
 "nbformat_minor": 1
}
